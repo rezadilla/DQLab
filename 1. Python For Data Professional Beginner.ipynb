{
 "cells": [
  {
   "cell_type": "markdown",
   "metadata": {},
   "source": [
    "# PYTHON BEGINNER PART 1\n",
    "\n",
    "#### PYTHON\n",
    "\n",
    "Python adalah bahasa pemrogaman yang ditujukan untuk general purpose programming dan termasuk dalam kategori high level progamming laguange. Pyhton digunakan untuk berbagai macam permasalahan seperti pengebangan aplikasi web ataupun mobile, data science, dll.\n",
    "\n",
    "python diciptakan oleh Guido van Rossum dan pertama kali diperkenalkan pada tahun 1991 sebagai sebuah proyek open source"
   ]
  },
  {
   "cell_type": "code",
   "execution_count": 2,
   "metadata": {},
   "outputs": [
    {
     "name": "stdout",
     "output_type": "stream",
     "text": [
      "Hello World\n",
      "Hello World\n",
      "Riset Bahasa Python\n"
     ]
    }
   ],
   "source": [
    "print('Hello World')\n",
    "print(\"Hello World\")\n",
    "print('Riset Bahasa Python')"
   ]
  },
  {
   "cell_type": "markdown",
   "metadata": {},
   "source": [
    "# STRUKTUR PROGRAM PYTHON - PART 1\n",
    "\n",
    "##### 1 Statements : instruksi yang diberikan secara baris per baris untuk dijalankan oleh mesin\n",
    "contoh:"
   ]
  },
  {
   "cell_type": "code",
   "execution_count": 3,
   "metadata": {},
   "outputs": [
    {
     "name": "stdout",
     "output_type": "stream",
     "text": [
      "Hello World\n",
      "Hello World\n",
      "Riset Bahasa Python\n"
     ]
    }
   ],
   "source": [
    "print('Hello World')\n",
    "print(\"Hello World\")\n",
    "print('Riset Bahasa Python')"
   ]
  },
  {
   "cell_type": "markdown",
   "metadata": {},
   "source": [
    "##### 2 Variabels : Lokasi penyimpanan yang dapat digunakan untuk menampung data atau informasi.\n",
    "contoh: aku mempunyai variabel yang bernama bilangan1, bilangan2, dan kalimat1"
   ]
  },
  {
   "cell_type": "code",
   "execution_count": 4,
   "metadata": {},
   "outputs": [],
   "source": [
    "bilangan1 = 5\n",
    "bilangan2 = 10\n",
    "kalimat1 = 'Hello'"
   ]
  },
  {
   "cell_type": "markdown",
   "metadata": {},
   "source": [
    "#####  3 Literals : simbol simbol yang dapat kita gunakan untuk mengisi suatu variabel. Pada contoh diatas, angka 5, 10 , dan Hello disebut sebagai literal"
   ]
  },
  {
   "cell_type": "markdown",
   "metadata": {},
   "source": [
    "#####  4 Operators : simbol simbol yang dapat digunakan untuk mengubah nilai dari satu variabel dengan melibatkan satu atau lebih variabel dan literal. \n",
    "Contoh : Tanda + merupakan salah satu contoh operator, dengan menggunakan tanda +, aku berhasil menambahkan isi dari bilangan1 dan bilangan2"
   ]
  },
  {
   "cell_type": "code",
   "execution_count": 6,
   "metadata": {},
   "outputs": [
    {
     "name": "stdout",
     "output_type": "stream",
     "text": [
      "15\n"
     ]
    }
   ],
   "source": [
    "print(bilangan1 + bilangan2)"
   ]
  },
  {
   "cell_type": "markdown",
   "metadata": {},
   "source": [
    "Adapun operator lain selain operator + adalah sebagai berikut\n",
    "(1) operator - sebagai operator pengurangan\n",
    "(2) operator * sebagai operator perkalian\n",
    "(3) operator ** untuk pemangkatan"
   ]
  },
  {
   "cell_type": "code",
   "execution_count": 7,
   "metadata": {},
   "outputs": [
    {
     "name": "stdout",
     "output_type": "stream",
     "text": [
      "Belajar Python Menyenangkan\n",
      "Halo Dunia\n",
      "Hello World!\n",
      "15\n"
     ]
    }
   ],
   "source": [
    "# statement\n",
    "print('Belajar Python Menyenangkan')\n",
    "print('Halo Dunia')\n",
    "print('Hello World!')\n",
    "\n",
    "# Variabels & Literals\n",
    "bilangan1 = 5\n",
    "bilangan2 = 10\n",
    "kalimat1 = 'Belajar bahasa python'\n",
    "\n",
    "#Operators\n",
    "print(bilangan1 + bilangan2)\n"
   ]
  },
  {
   "cell_type": "markdown",
   "metadata": {},
   "source": [
    "### Tugas\n",
    "deklarasi variabel bilangan1 dengan 20, dan bilangan2 dengan 10 dan tampilkan hasil pengurangan bilangan1 & bilangan2"
   ]
  },
  {
   "cell_type": "code",
   "execution_count": 8,
   "metadata": {},
   "outputs": [
    {
     "name": "stdout",
     "output_type": "stream",
     "text": [
      "10\n"
     ]
    }
   ],
   "source": [
    "bilangan1 = 20\n",
    "bilangan2 = 10\n",
    "print(bilangan1 - bilangan2)"
   ]
  },
  {
   "cell_type": "markdown",
   "metadata": {},
   "source": [
    "### Tugas \n",
    "1. aku diminta menghitung harga_setelah_potongan dan harga_final dengan mengalikan harga_setelah_potongan dengan angka 1,1 karena jumlah PPN sebesar 10% (100%+10%=110% atau 1,1)\n",
    "2. aku menggunakan variabel harga_asli dengan nilai 20000 dan variabel potongan dengan nilai 2000"
   ]
  },
  {
   "cell_type": "code",
   "execution_count": 11,
   "metadata": {},
   "outputs": [
    {
     "name": "stdout",
     "output_type": "stream",
     "text": [
      "19800.0\n"
     ]
    }
   ],
   "source": [
    "harga_asli = 20000\n",
    "potongan = 2000\n",
    "harga_setelah_potongan = harga_asli - potongan\n",
    "harga_final = harga_setelah_potongan * 1.1\n",
    "print(harga_final)\n"
   ]
  },
  {
   "cell_type": "markdown",
   "metadata": {},
   "source": [
    "# STRUKTUR PROGRAM PYTHON - PART 2\n",
    "\n",
    "1. Reserved Words: Kumpulan kata-kata yang memiliki makna khusus dalam bahasa pemrograman Python. Kata False, return, dan for merupakan contoh dari reserved words.\n",
    "Catatan: Ternyata, aku tidak dapat mendeklarasikan variabel dengan menggunakan sebuah reserved word!\n",
    "\n",
    "2. Whitespace: Pada bahasa Python, spasi dan tab memiliki makna khusus untuk menandai serangkaian blok dalam kode Python. Hal ini akan dijelaskan secara lebih lanjut pada bagian struktur pemilihan dan struktur pengulangan pada bahasa Python.\n",
    "\n",
    "3. Comments: Comments merupakan sekumpulan teks yang dituliskan di dalam sebuah program yang tidak akan mempengaruhi hasil dari sebuah program. Walaupun tidak mempengaruhi hasil program, comments merupakan salah satu komponen yang penting dalam pengembangan program. Hal tersebut dikarenakan comments dapat diselipkan di antara sekumpulan statements yang telah dituliskan, untuk berkomunikasi dengan rekan programmer lainnya dalam satu tim\n"
   ]
  },
  {
   "cell_type": "markdown",
   "metadata": {},
   "source": [
    "##### COMMENT\n",
    "terdapat dua jenis comments didalam python, yaitu:\n",
    "1. single line comments (comments dalam beberapa baris) yang dapat dituliskan seperti pada contoh berikut"
   ]
  },
  {
   "cell_type": "code",
   "execution_count": 17,
   "metadata": {},
   "outputs": [],
   "source": [
    "# perintah pada baris ini tidak mempengaruhi program"
   ]
  },
  {
   "cell_type": "markdown",
   "metadata": {},
   "source": [
    "2. multi line comment (comments dalam beberapa baris). contoh nya sebagai berikut"
   ]
  },
  {
   "cell_type": "code",
   "execution_count": 20,
   "metadata": {},
   "outputs": [
    {
     "data": {
      "text/plain": [
       "'\\nAKU REZA DILLA SAPUTRI\\nSENIOR DATA SCIENTIST\\nBEKERJA DI GOOGLE INDONESIA\\n'"
      ]
     },
     "execution_count": 20,
     "metadata": {},
     "output_type": "execute_result"
    }
   ],
   "source": [
    "\"\"\"\n",
    "AKU REZA DILLA SAPUTRI\n",
    "SENIOR DATA SCIENTIST\n",
    "BEKERJA DI GOOGLE INDONESIA\n",
    "\"\"\""
   ]
  },
  {
   "cell_type": "markdown",
   "metadata": {},
   "source": [
    "#### ATURAN PENAMAAN PYTHON VARIABEL\n",
    "1.\tNama dari sebuah variabel harus dimulai dengan huruf (a-z, A-Z) atau karakter garis bawah underscore (_) dan tidak dapat dimulai dengan angka (0-9).\n",
    "2.\tVariabel hanya boleh mengandung karakter alfabet dan bilangan dan underscore (a-z, A-Z, 0-9, _)\n",
    "3.\tVariabel bersifat case-sensitive yang mengartikan bahwa variabel TINGGI, tinggi, dan Tinggi merujuk pada tiga variabel berbeda.\n"
   ]
  },
  {
   "cell_type": "code",
   "execution_count": 21,
   "metadata": {},
   "outputs": [
    {
     "name": "stdout",
     "output_type": "stream",
     "text": [
      "45\n"
     ]
    }
   ],
   "source": [
    "TINGGI = 5\n",
    "Tinggi = 10\n",
    "tinggi = 30\n",
    "print(TINGGI + Tinggi + tinggi)"
   ]
  },
  {
   "cell_type": "code",
   "execution_count": 24,
   "metadata": {},
   "outputs": [],
   "source": [
    "bil, bil2 = 3,4\n",
    "salam = 'selemat pagi'; penutup='salam sejahtera'"
   ]
  },
  {
   "cell_type": "markdown",
   "metadata": {},
   "source": [
    "### TIPE DATA DASAR : NULL, BOOLEAN, NUMERIC DAN TEXT\n",
    "1. Null Type: Tipe data null dalam Python digunakan untuk menyimpan nilai kosong atau tidak ada yang dinyatakan dengan None.\n",
    "2. Boolean Type: Tipe data boolean atau bool digunakan untuk menyimpan nilai kebenaran (True, False) dari suatu ekspresi logika.\n",
    "3. Numeric Type: Tipe data yang digunakan untuk menyimpan data berupa angka. Terdapat dua macam tipe data numeric, yaitu int untuk menyimpan bilangan bulat (e.g.: 0, 1, 2, 404, -500, -1000) dan float untuk menyimpan bilangan riil (e.g.: 0.5, 1.01, 2.05, 4.04)\n",
    "4. Text Type: Pada Python, tipe data string (str) digunakan untuk menyimpan data teks. Tipe data string dimulai dengan tanda kutip (baik kutip satu/ dua) dan diakhir dengan tanda kutip. Contoh: \"Teks\", \"Contoh teks menggunakan Python\", dan 'Teks pada Python'.\n"
   ]
  },
  {
   "cell_type": "markdown",
   "metadata": {},
   "source": [
    "## SEQUENCE TYPE - PART 1\n",
    "tipe data ini digunakan untuk menampung sekumpulan data secara terorganisir. \n",
    "###### list dan tuple\n",
    "merupakan bentuk dari tipe data sequence"
   ]
  },
  {
   "cell_type": "markdown",
   "metadata": {},
   "source": [
    "## List\n",
    "Tipe data list diawali dengan tanda kurung siku buka ( [ ), memisahkan setiap elemen di dalamnya dengan tanda koma ( , ) dan ditutup dengan kurung siku tutup ( ] ). \n",
    "- setiap elemen dari list memiliki indeks yang dimula dari angka 0 dan terus bertambah satu nilainya hingga elemen terakhir dari list\n",
    "- tipe data list bersifat mutable yang berarti setiap elemen didalam list dapat dirubah nilainya setelah proses pendeklarasian list\n"
   ]
  },
  {
   "cell_type": "code",
   "execution_count": 25,
   "metadata": {},
   "outputs": [
    {
     "name": "stdout",
     "output_type": "stream",
     "text": [
      "6\n",
      "9.5\n"
     ]
    }
   ],
   "source": [
    "contoh_list = [6,'tujuh',8,9.5,10]\n",
    "print(contoh_list[0])\n",
    "print(contoh_list[3])"
   ]
  },
  {
   "cell_type": "code",
   "execution_count": 27,
   "metadata": {},
   "outputs": [
    {
     "name": "stdout",
     "output_type": "stream",
     "text": [
      "Empat\n"
     ]
    }
   ],
   "source": [
    "contoh_list = [6,'tujuh',8,9.5,10]\n",
    "contoh_list[3] = 'Empat'\n",
    "print(contoh_list[3])"
   ]
  },
  {
   "cell_type": "markdown",
   "metadata": {},
   "source": [
    "## Tugas \n",
    "Aku diberikan tugas untuk menerapkan variasi tipe data list dengan mengikuti petunjuk yang diberikan Senja. Berikut petunjuknya:\n",
    "\n",
    "- Petunjuk 1: Input data 1, ‘dua’, 3, 4.0, 5 ke dalam contoh_list\n",
    "- Petunjuk 2: Ambil Elemen pertama dari contoh_list untuk menampilkan output 1 menggunakan print statement\n",
    "- Petunjuk 3: Ambil Elemen ketiga dari contoh_list untuk menampilkan output 4.0 menggunakan print statement\n",
    "- Petunjuk 4: Input data 1, ‘dua’, 3, 4.0, 5 ke dalam contoh_list\n",
    "- Petunjuk 5: Rubah Elemen ketiga dalam contoh_list menjadi 'empat'\n",
    "- Petunjuk 6: Tampilkan output elemen ketiga yang telah dirubah tersebut menggunakan print statement\n"
   ]
  },
  {
   "cell_type": "code",
   "execution_count": 28,
   "metadata": {},
   "outputs": [
    {
     "name": "stdout",
     "output_type": "stream",
     "text": [
      "1\n",
      "4.0\n",
      "empat\n"
     ]
    }
   ],
   "source": [
    "contoh_list = [1,'dua',3,4.0,5]\n",
    "print(contoh_list[0])\n",
    "print(contoh_list[3])\n",
    "contoh_list[3] = 'empat'\n",
    "print(contoh_list[3])"
   ]
  },
  {
   "cell_type": "markdown",
   "metadata": {},
   "source": [
    "## SEQUENCE TYPE - PART 2\n",
    "\n",
    "# Tuple\n",
    "Setelah mempelajari tipe data list. Aku mempelajari tipe data tuple. Tipe data tuple juga berfungsi untuk menampung sekumpulan data. Tipe data tuple diawali dengan tanda kurung buka ( ( ), memisahkan setiap elemen di dalamnya dengan tanda koma ( , ) dan ditutup dengan tanda kurung tutup ( ) ). Sebagai contoh:\n",
    "- tipe data tuple bersifat immutable yang berarti elemen pada tipe data tuple tidak dapat diubah setelah proses pendeklarasiannya"
   ]
  },
  {
   "cell_type": "code",
   "execution_count": 29,
   "metadata": {},
   "outputs": [],
   "source": [
    "contoh_tuple = ('juni','juli','agustus','september')"
   ]
  },
  {
   "cell_type": "markdown",
   "metadata": {},
   "source": [
    "aturan indeks dan cara mengakses elemen pada sebuah tuple sama dengan list. sebagai contoh:"
   ]
  },
  {
   "cell_type": "code",
   "execution_count": 30,
   "metadata": {},
   "outputs": [
    {
     "name": "stdout",
     "output_type": "stream",
     "text": [
      "juni\n"
     ]
    }
   ],
   "source": [
    "contoh_tuple = ('juni','juli','agustus','september')\n",
    "print(contoh_tuple[0])"
   ]
  },
  {
   "cell_type": "markdown",
   "metadata": {},
   "source": [
    "tipe data tuple bersifat immutable yang berarti elemen pada tipe data tuple tidak dapat diubah setelah proses pendeklarasiannya.\n",
    "\n",
    "pada saat aku mengubah elemen pada tuple seperti pada kode berikut, aku akan mendapati pesan error pada layar konsol"
   ]
  },
  {
   "cell_type": "code",
   "execution_count": 61,
   "metadata": {},
   "outputs": [
    {
     "ename": "TypeError",
     "evalue": "'tuple' object does not support item assignment",
     "output_type": "error",
     "traceback": [
      "\u001b[1;31m---------------------------------------------------------------------------\u001b[0m",
      "\u001b[1;31mTypeError\u001b[0m                                 Traceback (most recent call last)",
      "\u001b[1;32m<ipython-input-61-be20333db1ec>\u001b[0m in \u001b[0;36m<module>\u001b[1;34m()\u001b[0m\n\u001b[0;32m      1\u001b[0m \u001b[0mcontoh_tuple\u001b[0m \u001b[1;33m=\u001b[0m \u001b[1;33m(\u001b[0m\u001b[1;34m'juni'\u001b[0m\u001b[1;33m,\u001b[0m\u001b[1;34m'juli'\u001b[0m\u001b[1;33m,\u001b[0m\u001b[1;34m'agustus'\u001b[0m\u001b[1;33m,\u001b[0m\u001b[1;34m'september'\u001b[0m\u001b[1;33m)\u001b[0m\u001b[1;33m\u001b[0m\u001b[0m\n\u001b[1;32m----> 2\u001b[1;33m \u001b[0mcontoh_tuple\u001b[0m\u001b[1;33m[\u001b[0m\u001b[1;36m0\u001b[0m\u001b[1;33m]\u001b[0m \u001b[1;33m=\u001b[0m \u001b[1;34m'oktober'\u001b[0m\u001b[1;33m\u001b[0m\u001b[0m\n\u001b[0m\u001b[0;32m      3\u001b[0m \u001b[0mprint\u001b[0m\u001b[1;33m(\u001b[0m\u001b[0mcontoh_tuple\u001b[0m\u001b[1;33m[\u001b[0m\u001b[1;36m0\u001b[0m\u001b[1;33m]\u001b[0m\u001b[1;33m)\u001b[0m\u001b[1;33m\u001b[0m\u001b[0m\n",
      "\u001b[1;31mTypeError\u001b[0m: 'tuple' object does not support item assignment"
     ]
    }
   ],
   "source": [
    "contoh_tuple = ('juni','juli','agustus','september')\n",
    "contoh_tuple[0] = 'oktober'\n",
    "print(contoh_tuple[0])"
   ]
  },
  {
   "cell_type": "markdown",
   "metadata": {},
   "source": [
    "## Tugas\n",
    "Sekarang aku diberikan tugas untuk menerapkan variasi tipe data tuple dengan mengikuti petunjuk yang diberikan Senja:\n",
    "- Petunjuk 1: Input data Januari sampai dengan April ke dalam contoh_tuple\n",
    "- Petunjuk 2: Ambil Elemen pertama dari contoh_tuple untuk menampilkan output 1 menggunakan print statement\n",
    "- Petunjuk 3: Input kembali data Januari sampai dengan April ke dalam contoh_tuple\n",
    "- Petunjuk 4: Rubah Elemen pertama dalam contoh_tuple menjadi “Desember”\n",
    "\n"
   ]
  },
  {
   "cell_type": "code",
   "execution_count": 8,
   "metadata": {},
   "outputs": [
    {
     "name": "stdout",
     "output_type": "stream",
     "text": [
      "Januari\n"
     ]
    }
   ],
   "source": [
    "contoh_tuple = ('Januari','Februari','Maret','April')\n",
    "print(contoh_tuple[0])\n",
    "contoh_tuple = ['Januari','Februari','Maret','April']\n",
    "contoh_tuple[0] = 'Desember'"
   ]
  },
  {
   "cell_type": "markdown",
   "metadata": {},
   "source": [
    "## SET TYPE\n",
    "Serupa dengan tipe data sequence, tipe data set digunakan untuk menampung sekumpulan data dengan tipe lainnya. Terdapat dua jenis dari tipe data set yaitu,\n",
    "1. Set\n",
    "2. frozenset\n",
    "\n",
    "### SET\n",
    "Tipe data set diawali dengan tanda kurung buka kurawal ( { ), memisahkan setiap elemen di dalamnya dengan tanda koma ( , ) dan ditutup dengan tanda kurung tutup ( } ). \n",
    "Namun, berbeda dengan tipe data sequence, seperti list, tipe data objek tidak mengizinkan adanya elemen dengan nilai yang sama dan tidak memperdulikan urutan dari elemen.\n",
    "Sebagai contoh:\n"
   ]
  },
  {
   "cell_type": "code",
   "execution_count": 9,
   "metadata": {},
   "outputs": [
    {
     "name": "stdout",
     "output_type": "stream",
     "text": [
      "['Theo', 'Annete', 'Mel', 'Handy', 'Mel']\n"
     ]
    }
   ],
   "source": [
    "contoh_list = ['Theo','Annete','Mel','Handy','Mel']\n",
    "print(contoh_list)"
   ]
  },
  {
   "cell_type": "code",
   "execution_count": 10,
   "metadata": {},
   "outputs": [
    {
     "name": "stdout",
     "output_type": "stream",
     "text": [
      "{'Annete', 'Theo', 'Mel', 'Handy'}\n"
     ]
    }
   ],
   "source": [
    "contoh_set = {'Theo','Annete','Mel','Handy','Mel'}\n",
    "print(contoh_set)"
   ]
  },
  {
   "cell_type": "markdown",
   "metadata": {},
   "source": [
    "Dari kedua contoh output pada program, dapat terlihat:\n",
    "1.\tBerbeda dengan tipe data set, tipe data list memperdulikan urutan dari setiap elemen saat list dideklarasikan. \n",
    "2.\tBerbeda dengan list yang mengizinkan adanya duplikasi elemen, tipe data set tidak mengizinkan adanya elemen dengan nilai yang sama di dalamnya. \n"
   ]
  },
  {
   "cell_type": "markdown",
   "metadata": {},
   "source": [
    "## FROZENSET\n",
    "Tipe data frozenset sebenarnya hanya merupakan set yang bersifat immutable, yang artinya setiap elemen di dalam frozenset tidak dapat diubah setelah proses deklarasinya. Untuk membuat tipe data frozenset, aku dapat merujuk potongan kode di bawah ini:\n"
   ]
  },
  {
   "cell_type": "code",
   "execution_count": 12,
   "metadata": {},
   "outputs": [
    {
     "name": "stdout",
     "output_type": "stream",
     "text": [
      "{'Annete', 'Theo', 'Mel', 'Handy'}\n"
     ]
    }
   ],
   "source": [
    "contoh_frozen_set = ({'Theo','Annete','Mel','Handy','Mel'})\n",
    "print(contoh_frozen_set)"
   ]
  },
  {
   "cell_type": "markdown",
   "metadata": {},
   "source": [
    "## Tugas\n",
    "Sekarang aku diberikan tugas untuk menerapkan variasi set dan frozenset oleh Senja:\n",
    "1.\tTugas 1:Input data Dewi, Budi, Cici, Linda, Cici kedalam tipe data list dan tampilkan hasilnya\n",
    "2.\tTugas 2: Input data Dewi, Budi, Cici, Linda, Cici kedalam tipe data set dan tampilkan hasilnya\n",
    "3.\tTugas 3: Input data Dewi, Budi, Cici, Linda, Cici kedalam tipe data frozenset dan tampilkan hasilnya\n"
   ]
  },
  {
   "cell_type": "code",
   "execution_count": 13,
   "metadata": {},
   "outputs": [
    {
     "name": "stdout",
     "output_type": "stream",
     "text": [
      "['Dewi', 'Budi', 'Cici', 'Linda', 'Cici']\n",
      "{'Linda', 'Cici', 'Budi', 'Dewi'}\n",
      "{'Linda', 'Cici', 'Budi', 'Dewi'}\n"
     ]
    }
   ],
   "source": [
    "contoh_list = ['Dewi','Budi','Cici','Linda','Cici']\n",
    "print(contoh_list)\n",
    "contoh_set = {'Dewi','Budi','Cici','Linda','Cici'}\n",
    "print(contoh_set)\n",
    "contoh_frozen_set = {'Dewi','Budi','Cici','Linda','Cici'}\n",
    "print(contoh_frozen_set)"
   ]
  },
  {
   "cell_type": "markdown",
   "metadata": {},
   "source": [
    "## MAPPING TYPE\n",
    "Tipe data mapping dapat digunakan untuk memetakan sebuah nilai ke nilai lainnya. Dalam Python, tipe data mapping disebut dengan istilah dictionary\n",
    "\n",
    "### DICTIONARY\n",
    "Tipe data dictionary dapat dideklarasikan dengan diawali oleh tanda kurung buka kurawal ( { ), memisahkan setiap elemen di dalamnya dengan tanda koma ( , ) dan ditutup dengan tanda kurung tutup ( } ). Setiap elemen pada tipe data dictionary dideklarasikan dengan format:\n",
    "\"kunci\" : \"nilai\"\n",
    "Hal inilah yang membedakan tipe data mapping dengan tipe data set. Untuk lebih memperjelas tipe data mapping, aku mempelajari potongan kode berikut:\n"
   ]
  },
  {
   "cell_type": "code",
   "execution_count": 14,
   "metadata": {},
   "outputs": [],
   "source": [
    "person = {'nama':'Reza Dilla Saputri', 'pekerjaan':'Data Analyst'}"
   ]
  },
  {
   "cell_type": "markdown",
   "metadata": {},
   "source": [
    "potongan kode diatas adalah pendeklarasian dari tipe data dictionary. kemudian, bagaimana dengan cara mengakses informasi dari tipe data ini?"
   ]
  },
  {
   "cell_type": "code",
   "execution_count": 15,
   "metadata": {},
   "outputs": [
    {
     "name": "stdout",
     "output_type": "stream",
     "text": [
      "Reza Dilla Saputri\n",
      "Data Analyst\n"
     ]
    }
   ],
   "source": [
    "print(person['nama'])\n",
    "print(person['pekerjaan'])"
   ]
  },
  {
   "cell_type": "markdown",
   "metadata": {},
   "source": [
    "## Tugas \n",
    "Menggunakan tipe data mapping, aku diminta Senja untuk menampilkan nama & pekerjaan John Doe, seorang Programmer."
   ]
  },
  {
   "cell_type": "code",
   "execution_count": 16,
   "metadata": {},
   "outputs": [
    {
     "name": "stdout",
     "output_type": "stream",
     "text": [
      "John Doe\n",
      "Programmer\n"
     ]
    }
   ],
   "source": [
    "person = {'nama':'John Doe','pekerjaan':'Programmer'}\n",
    "print(person['nama'])\n",
    "print(person['pekerjaan'])"
   ]
  },
  {
   "cell_type": "markdown",
   "metadata": {},
   "source": [
    "## TUGAS PRAKTEK\n",
    "Ternyata seru juga! Aku jadi berniat mengembangkan program kalkulator potongan harga ini untuk beberapa barang sekaligus agar lebih fungsional. Kalau begitu aku perlu rapikan dulu informasi setiap barang di tabel ini.\n",
    "“Lalu, aku tinggal merepresentasikan semuanya ke tipe data dictionary, dengan begitu akan lebih mudah mengolahnya,” gumamku.\n",
    "Aku pun mulai mendeklarasikan variabel sepatu, baju, dan celana untuk menampung informasi barang ke dalam live code editor.\n",
    " \n",
    "- (Nama Barang\tHarga\tDiskon)\n",
    "- (Sepatu Niko\t150000\t30000)\n",
    "- (Baju Unikloh\t80000\t8000)\n",
    "- (Celana Lepis\t200000\t60000)\n"
   ]
  },
  {
   "cell_type": "code",
   "execution_count": 18,
   "metadata": {},
   "outputs": [],
   "source": [
    "sepatu = {'nama':'Sepatu Niko','harga':15000,'diskon':30000}\n",
    "baju = {'nama':'Baju Unikloh','harga':80000,'diskon':8000}\n",
    "celana = {'nama':'Celana Lepis','harga':200000,'diskon':60000}"
   ]
  },
  {
   "cell_type": "markdown",
   "metadata": {},
   "source": [
    "## TUGAS PRAKTEK\n",
    "Dengan data yang aku miliki, aku bisa menghitung total harga jual dengan potongan harga dengan pajak sebesar 10% dari nilai jual. \n",
    "\n",
    "Untungnya Senja memberikan beberapa tips untuk menyelesaikan tugas ini:\n",
    "1.\tTips 1. # Data yang dinyatakan ke dalam dictionary\n",
    "2.\tTips 2. # Hitung harga masing-masing data setelah dikurangi diskon\n",
    "3.\tTips 3. # Hitung harga total\n",
    "4.\tTips 4. # Hitung harga kena pajak\n",
    "5.\tTips 5. # Cetak total_harga + total_pajak\n"
   ]
  },
  {
   "cell_type": "code",
   "execution_count": 23,
   "metadata": {},
   "outputs": [
    {
     "name": "stdout",
     "output_type": "stream",
     "text": [
      "365200.0\n"
     ]
    }
   ],
   "source": [
    "# DATA DINYATAKAN KE DALAM DICTIONARY\n",
    "sepatu = {'nama':'Sepatu Niko','harga':150000,'diskon':30000}\n",
    "baju = {'nama':'Baju Unikloh','harga':80000,'diskon':8000}\n",
    "celana = {'nama':'Celana Lepis','harga':200000,'diskon':60000}\n",
    "\n",
    "# HARGA MASING MASING DATA DIKURANGI DISKON\n",
    "harga_sepatu = sepatu['harga'] - sepatu['diskon']\n",
    "harga_baju = baju['harga'] - baju['diskon']\n",
    "harga_celana = celana['harga'] - celana['diskon']\n",
    "\n",
    "# HITUNG HARGA TOTAL\n",
    "total_harga = harga_sepatu + harga_baju + harga_celana\n",
    "\n",
    "# HITUNG HARGA KENA PAJAK\n",
    "total_pajak = total_harga * 0.1\n",
    "\n",
    "# CEK TOTAL HARGA + TOTAL PAJAK\n",
    "print(total_harga + total_pajak)"
   ]
  },
  {
   "cell_type": "markdown",
   "metadata": {},
   "source": [
    "## PYTHON OPERATORS\n",
    "Setelah aku berhasil mempelajari detil terkait dengan variables dan data type, sekarang aku akan mempelajari operator-operator yang tersedia di dalam Python. Di dalam Python, operator terbagi ke dalam 6 kelompok:\n",
    "1.\tArithmetic operators\n",
    "2.\tAssignment operators\n",
    "3.\tComparison operators\n",
    "4.\tLogical operators\n",
    "5.\tIdentity operators\n",
    "6.\tMembership operators\n"
   ]
  },
  {
   "cell_type": "markdown",
   "metadata": {},
   "source": [
    "### 1.  ARITMETIC OPERATORS\n",
    "Operator arithmetic digunakan pada tipe data numerik, untuk melakukan operasi matematika sederhana yang terdiri atas:\n",
    "- Simbol Operator\tKeterangan\tContoh\n",
    "- (+)\tPenambahan\t3 + 2 akan menghasilkan output: 5\n",
    "- (-)\tPengurangan\t4 - 2 akan menghasilkan output: 2\n",
    "- (*)\tPerkalian\t3 * 2 akan menghasilkan output: 6\n",
    "- (/)\tPembagian\t3 / 2 akan menghasilkan output: 1.5\n",
    "- (%)\tModulo/sisa bagi\t3 % 2 akan menghasilkan output: 1 dikarenakan 3 tidak habis dibagi 2 dan menyisakan 1\n",
    "8 % 2 akan menghasilkan output: 0\n",
    "dikarenakan 8 habis dibagi 2\n",
    "- (**)\tPangkat\t3 ** 2 akan menghasilkan output: 9\n",
    "- (//)\tPembagian dengan pembulatan ke bawah\t3 / 2 akan menghasilkan output: 1\n",
    "dikarenakan 1.5 akan menjadi 1 saat dibulatkan ke bawah."
   ]
  },
  {
   "cell_type": "markdown",
   "metadata": {},
   "source": [
    "### 2.  ASSIGNMENT OPERATORS\n",
    "Operator assignment digunakan untuk mendeklarasikan nilai secara langsung ke suatu variabel.\n",
    "\n",
    "Simbol Operator\tKeterangan\tContoh\n",
    "- (+=)\tPenambahan\t\n",
    "    - x = 3\n",
    "    - x += 2 ekivalen dengan x = x + 2\n",
    "akan mengubah nilai x menjadi 5\n",
    "- (-=)\tPengurangan\t\n",
    "    - x = 3\n",
    "    - x -= 2 ekivalen dengan x = x - 2 \n",
    "akan mengubah nilai x menjadi 1\n",
    "- (*=)\tPerkalian\t\n",
    "    - x = 3\n",
    "    - x *= 2 ekivalen dengan x = x * 2\n",
    "akan mengubah nilai x menjadi 6\n",
    "- (/=)\tPembagian\t\n",
    "    - x = 3\n",
    "    - x /= 2 ekivalen dengan x = x / 2\n",
    "akan mengubah nilai x menjadi 1.5\n",
    "- (%=)\tModulo/sisa bagi\t\n",
    "    - x = 3\n",
    "    - x %= 2 ekivalen dengan x = x % 2\n",
    "akan mengubah nilai x menjadi 1\n",
    "- (**=)\tPangkat\t\n",
    "    - x = 3\n",
    "    - x **= 2 ekivalen dengan x = x ** 2\n",
    "akan mengubah nilai x menjadi 9\n",
    "- (//=)\tPembagian dengan pembulatan ke bawah\t\n",
    "    - x = 3\n",
    "    - x //= 2 sama dengan x = x // 2\n",
    "akan mengubah nilai x menjadi 1\n"
   ]
  },
  {
   "cell_type": "code",
   "execution_count": 24,
   "metadata": {},
   "outputs": [
    {
     "name": "stdout",
     "output_type": "stream",
     "text": [
      "2\n"
     ]
    }
   ],
   "source": [
    "bil1 = 5\n",
    "bil2 = bil1 // 2\n",
    "print(bil2)"
   ]
  },
  {
   "cell_type": "code",
   "execution_count": 25,
   "metadata": {},
   "outputs": [
    {
     "name": "stdout",
     "output_type": "stream",
     "text": [
      "5\n"
     ]
    }
   ],
   "source": [
    "bil1 = 5\n",
    "bil2 = bil1 % 2\n",
    "bil1 *= bil2\n",
    "print(bil1)"
   ]
  },
  {
   "cell_type": "markdown",
   "metadata": {},
   "source": [
    "### 3.  COMPARISON OPERATORS\n",
    "Operator comparison dapat digunakan untuk membandingkan dua buah nilai, berikut merupakan contoh-contoh operator komparasi.\n",
    "\n",
    "Simbol Operator\tKeterangan\tContoh\n",
    "- (==)\tPersamaan\t\n",
    "    - 33 == 33 akan menghasilkan output: True dikarenakan benar 33 sama dengan 33\n",
    "    - 34 == 33 akan menghasilkan output: False dikarenakan 34 tidak sama dengan 33\n",
    "- (!=)\tPertidaksamaan\t\n",
    "    - 34 != 33 akan menghasilkan output: True dikarenakan benar bahwa 34 tidak sama dengan 33\n",
    "    - 33 != 33 akan menghasilkan output: False dikarenakan 33 sama dengan 33\n",
    "- (>) \tLebih besar dari\t\n",
    "    - 34 > 33 akan menghasilkan output: True dikarenakan 34 lebih besar dari 33\n",
    "    - 33 > 34 akan menghasilkan output False dikarenakan tidak benar 33 lebih besar dari 34\n",
    "- (<) \tLebih kecil dari\t\n",
    "    - 33 < 34 akan menghasilkan output True dikarenakan benar 33 lebih kecil dari 34\n",
    "    - 34 < 33 akan menghasilkan output: False dikarenakan tidak benar 34 lebih kecil dari 33\n",
    "- (>=)\tLebih besar atau sama dengan\t\n",
    "    - 34 >= 33 akan menghasilkan output True dikarenakan 34 lebih besar dari 33\n",
    "    - 34 >= 34 akan menghasilkan output True dikarenakan 34 sama dengan 34\n",
    "    - 33 >= 34 akan menghasilkan output False dikarenakan 33 tidak lebih besar dari 34 dan tidak sama dengan 34\n",
    "- (<=)\tLebih kecil atau sama dengan\t\n",
    "    - 33 <= 34 akan menghasilkan output True dikarenakan 33 lebih kecil dari 34\n",
    "    - 33 <= 33 akan menghasilkan output True dikarenakan 34 sama dengan 33\n",
    "    - 34 <= 33 akan menghasilkan output False dikarenakan 34 tidak lebih kecil dari 33 dan tidak sama dengan 34\n"
   ]
  },
  {
   "cell_type": "markdown",
   "metadata": {},
   "source": [
    "### 4.  LOGICAL OPERATORS\n",
    "Operator logical digunakan untuk menggabungkan beberapa nilai kebenaran atas suatu statemen logika\n",
    "\n",
    "Simbol Operator\tKeterangan\tContoh\n",
    "- (and)\tdan - menerima dua nilai kebenaran dan mengembalikan nilai benar jika keduanya benar\t\n",
    "    - x = 5\n",
    "    - x >= 1 and x <= 10\n",
    "akan mengembalikan nilai True\n",
    "    - x = 5\n",
    "    - x >= 1 and x <= 4\n",
    "akan mengembalikan nilai False\n",
    "- (or)\tatau - menerima dua nilai kebenaran dan mengembalikan nilai benar jika salah satu benar\n",
    "    - x = 3\n",
    "    - x >= 1 or x <= 2\n",
    "akan mengembalikan nilai True dikarenakan statemen logika pertama terpenuhi\n",
    "    - x = 3\n",
    "    - x >= 5 or x <= 0\n",
    "akan mengembalikan nilai False dikarenakan kedua statemen logika tidak terpenuhi (bernilai False)\n",
    "- (not)\tnegasi - menerima sebuah nilai kebenaran dan mengembalikan komplemennya\t\n",
    "    - x = 7\n",
    "    - not(x == 7) akan mengembalikan nilai False\n",
    "    - not(x >= 10) akan mengembalikan nilai True\n"
   ]
  },
  {
   "cell_type": "code",
   "execution_count": 27,
   "metadata": {},
   "outputs": [
    {
     "data": {
      "text/plain": [
       "False"
      ]
     },
     "execution_count": 27,
     "metadata": {},
     "output_type": "execute_result"
    }
   ],
   "source": [
    "x = 5\n",
    "x >= 1 and x <= 4"
   ]
  },
  {
   "cell_type": "code",
   "execution_count": 28,
   "metadata": {},
   "outputs": [
    {
     "name": "stdout",
     "output_type": "stream",
     "text": [
      "True\n"
     ]
    }
   ],
   "source": [
    "bil1 = 5\n",
    "bil2 = 10\n",
    "print(bil2 > bil1 and bil2 < 15)"
   ]
  },
  {
   "cell_type": "code",
   "execution_count": 29,
   "metadata": {},
   "outputs": [
    {
     "name": "stdout",
     "output_type": "stream",
     "text": [
      "False\n"
     ]
    }
   ],
   "source": [
    "bil1 = 5\n",
    "bil2 = bil1 // 2\n",
    "hasil = bil1 <= bil2 or bil1 ==2\n",
    "print(hasil)"
   ]
  },
  {
   "cell_type": "markdown",
   "metadata": {},
   "source": [
    "### 5.  IDENTITY OPERATORS\n",
    "Operator identitas dapat digunakan untuk membandingkan identitas dari dua buah variabel.\n",
    "\n",
    "Simbol Operator\tKeterangan\tContoh\n",
    "- (is)\tMenerima dua buah objek dan mengembalikan nilai True ketika keduanya merujuk pada objek yang sama dan False dalam kondisi lainnya\t\n",
    "    - x = [\"Ani\", \"Budi\"]\n",
    "    - y = [\"Ani\", \"Budi\"] \n",
    "    - a = x\n",
    "    - print(a is x) akan menampilkan nilai True dikarenakan a dan x merujuk ke objek yang sama.\n",
    "    - print(a is y) akan menampilkan nilai False dikarenakan a dan y tidak merujuk ke objek yang sama meskipun isi di dalam keduanya sama.\n",
    "- (is not)\tMenerima dua buah objek dan mengembalikan nilai True ketika keduanya merujuk pada objek yang berbeda dan False jika sama\t\n",
    "    - x = [\"Ani\", \"Budi\"]\n",
    "    - y = [\"Ani\", \"Budi\"] \n",
    "    - a = x\n",
    "    - print(a is not x) akan menampilkan nilai False dikarenakan a dan x merujuk ke objek yang sama\n",
    "    - print(a is not y) akan menampilkan nilai   True dikarenakan a dan y tidak merujuk ke objek yang sama\n"
   ]
  },
  {
   "cell_type": "markdown",
   "metadata": {},
   "source": [
    "Pada umumnya, operator identitas sering digunakan bersamaan dengan fungsi type(), fungsi type() menerima sebuah objek dan mengembalikan tipe data dari objek tersebut. Contoh penggunaan operator identitas dan fungsi type().\n",
    "Aku mempraktekkan contoh tutorial yang diberikan Senja dengan live code editor. \n"
   ]
  },
  {
   "cell_type": "code",
   "execution_count": 30,
   "metadata": {},
   "outputs": [
    {
     "name": "stdout",
     "output_type": "stream",
     "text": [
      "True\n"
     ]
    }
   ],
   "source": [
    "x = 10\n",
    "print(type(x) is int)"
   ]
  },
  {
   "cell_type": "code",
   "execution_count": 31,
   "metadata": {},
   "outputs": [
    {
     "name": "stdout",
     "output_type": "stream",
     "text": [
      "False\n"
     ]
    }
   ],
   "source": [
    "x /= 3\n",
    "print(type(x) is int)"
   ]
  },
  {
   "cell_type": "code",
   "execution_count": 32,
   "metadata": {},
   "outputs": [
    {
     "name": "stdout",
     "output_type": "stream",
     "text": [
      "True\n"
     ]
    }
   ],
   "source": [
    "x /= 3\n",
    "print(type(x) is float)"
   ]
  },
  {
   "cell_type": "markdown",
   "metadata": {},
   "source": [
    "### 6.  MEMBERSHIP OPERATORS\n",
    "Operator keanggotaan (membership) dapat digunakan untuk memeriksa anggota dari sebuah tipe data sequence/set, operator keanggotaan meliputi:\n",
    "\n",
    "Simbol Operator\tKeterangan\tContoh\n",
    "- (in)\tMenerima sebuah sequence/set dan objek, mengembalikan True ketika objek merupakan anggota dari sequence/set, dan False ketika bukan.\t\n",
    "    - x = [\"Ani\", \"Budi\", \"Cici\"] \n",
    "    - y = \"Cici\"\n",
    "    - z = \"Dodi\"\n",
    "    - print(y in x) akan menampilkan nilai   True\n",
    "    - print(z in x) akan menampilkan nilai  False\n",
    "- (not in)\tMenerima sebuah sequence/set dan objek, mengembalikan True ketika objek bukan merupakan anggota dari sequence/set, dan False ketika merupakan.\t\n",
    "    - x = [\"Ani\", \"Budi\", \"Cici\"] \n",
    "    - y = \"Cici\"\n",
    "    - z = \"Dodi\"\n",
    "    - print(y not in x) akan menampilkan nilai  False\n",
    "    - print(z not in x) akan menampilkan nilai   True\n"
   ]
  },
  {
   "cell_type": "markdown",
   "metadata": {},
   "source": [
    "### Nilai Prioritas Operator dalam Python - Part 1\n",
    "Setelah mempelajari berbagai operator dalam bahasa pemrograman Python, tentunya aku juga ingin agar dapat menuliskan operasi-operasi variabel yang bersifat ekspresif dan ringkas.\n",
    "Sebagai contoh, untuk menuliskan sebuah program menghitung diskon dan pajak pembelian, berdasarkan ilmu yang telah aku pelajari, aku dapat menuliskannya dengan potongan kode berikut\n"
   ]
  },
  {
   "cell_type": "code",
   "execution_count": 35,
   "metadata": {},
   "outputs": [
    {
     "name": "stdout",
     "output_type": "stream",
     "text": [
      "110000.0\n"
     ]
    }
   ],
   "source": [
    "total_harga = 200000\n",
    "potongan_harga = 0.5\n",
    "pajak = 0.1\n",
    "harga_bayar = 1-0.5\n",
    "harga_bayar *= total_harga\n",
    "pajak_bayar = pajak * harga_bayar\n",
    "harga_bayar += pajak_bayar \n",
    "print(harga_bayar)"
   ]
  },
  {
   "cell_type": "markdown",
   "metadata": {},
   "source": [
    "Setelah aku memberikan potongan kode yang telah kubuat, ternyata Senja memiliki ide yang lebih baik. Wajar saja, Senja menjadi mentorku. Senja langsung mencontohkan cara lebih mudah dengan menjelaskan presedensi (urutan eksekusi) dari operator.\n",
    "Dengan mengikuti masukan Senja, aku dapat menuliskannya ke dalam jumlah baris yang lebih sedikit seperti pada potongan kode berikut\n"
   ]
  },
  {
   "cell_type": "code",
   "execution_count": 36,
   "metadata": {},
   "outputs": [
    {
     "name": "stdout",
     "output_type": "stream",
     "text": [
      "110000.0\n"
     ]
    }
   ],
   "source": [
    "total_harga = 200000\n",
    "potongan_harga = 0.5\n",
    "pajak = 0.1\n",
    "harga_bayar = 1-0.5\n",
    "harga_bayar = (1 - 0.5) * total_harga\n",
    "harga_bayar += harga_bayar * pajak\n",
    "print(harga_bayar)"
   ]
  },
  {
   "cell_type": "markdown",
   "metadata": {},
   "source": [
    "## Tugas \n",
    "Aku diminta Senja untuk menghitung harga yang harus dibayarkan menggunakan barang senilai 150,000, dengan diskon 30% dan pajak 10%, menggunakan cara yang aku gunakan awal, dan cara lebih singkat yang diajarkan Senja"
   ]
  },
  {
   "cell_type": "code",
   "execution_count": 37,
   "metadata": {},
   "outputs": [
    {
     "name": "stdout",
     "output_type": "stream",
     "text": [
      "Kode awal - harga_bayar= 115500.0\n",
      "Penyederhanaan kode - harga_bayar= 115500.0\n"
     ]
    }
   ],
   "source": [
    "# Kode awal\n",
    "total_harga = 150000\n",
    "potongan_harga = 0.3\n",
    "pajak = 0.1 # pajak dalam persen ~ 10%\n",
    "harga_bayar = 1 - 0.3 # baris pertama\n",
    "harga_bayar *= total_harga # baris kedua\n",
    "pajak_bayar = pajak * harga_bayar # baris ketiga\n",
    "harga_bayar += pajak_bayar # baris ke-4\n",
    "print(\"Kode awal - harga_bayar=\", harga_bayar)\n",
    "\n",
    "# Penyederhanaan baris kode dengan menerapkan prioritas operator\n",
    "total_harga = 150000\n",
    "potongan_harga = 0.3\n",
    "pajak = 0.1 # pajak dalam persen ~ 10%\n",
    "harga_bayar = (1 - 0.3) * total_harga #baris pertama \n",
    "harga_bayar += harga_bayar * pajak # baris kedua\n",
    "print(\"Penyederhanaan kode - harga_bayar=\", harga_bayar)\n"
   ]
  },
  {
   "cell_type": "markdown",
   "metadata": {},
   "source": [
    "### Nilai Priorias Operator dalam Python - Part 2\n",
    "Dalam bahasa pemrograman Python, tabel berikut mencakup nilai prioritas dan arah pengerjaan dari setiap operator\n",
    "\n",
    "Operator\tNilai Prioritas\tArah pengerjaan\tDeskripsi\n",
    "- ()\t10\tKiri ke kanan\tGrouping\n",
    "- x[index]\t9\tKiri ke kanan\tMengakses elemen array\n",
    "- **\t8\tKanan ke kiri\tpangkat\n",
    "- +x\n",
    "- -x\t7\tKiri ke kanan\tTanda bilangan positif dan negatif\n",
    "- *\n",
    "- /\n",
    "- %\t6\tKiri ke kanan\tPerkalian Pembagian Modulus\n",
    "- +\n",
    "- -\t5\tKiri ke kanan\tPenambahan Pengurangan\n",
    "- is, is not, in, not in\n",
    "- <=, <, >=, >\n",
    "- ==, !=\t4\tKiri ke kanan\tMembership operator Comparison Operator\n",
    "- not\t3\tKiri ke kanan\tOperator logika negasi (not)\n",
    "- and\t2\tKiri ke kanan\tOperator logika konjungsi (and)\n",
    "- or\t1\tKiri ke kanan\tOperator logika disjungsi (or)\n"
   ]
  },
  {
   "cell_type": "markdown",
   "metadata": {},
   "source": [
    "Dari penjelasan di atas, dapat terlihat bahwa tanda () memiliki nilai prioritas yang paling tinggi. Hal itu menandakan, jika di dalam suatu statemen yang melibatkan beberapa operator secara sekaligus, setiap operasi yang berada di dalam tanda () akan dikerjakan terlebih dahulu.\n",
    "Kemudian, jika terdapat beberapa operasi dalam tanda (), tanda kurung yang berada di sebelah paling kiri akan dikerjakan terlebih dahulu dikarenakan arah pengerjaan dari tanda () adalah dari kiri ke kanan.\n",
    "\n",
    "Sebagai contoh, pada proses deklarasi variabel nilai di bawah ini.\n"
   ]
  },
  {
   "cell_type": "code",
   "execution_count": 38,
   "metadata": {},
   "outputs": [
    {
     "name": "stdout",
     "output_type": "stream",
     "text": [
      "70.0\n"
     ]
    }
   ],
   "source": [
    "nilai = (1 - 0.3) * 100\n",
    "# nilai 0.7 * 100\n",
    "# nilai = 70\n",
    "print(nilai)"
   ]
  },
  {
   "cell_type": "markdown",
   "metadata": {},
   "source": [
    "Dari contoh di atas, meskipun operator perkalian (*) memiliki nilai prioritas yang lebih tinggi dari operator pengurangan (-), tanda () akan membuat Python mengerjakan bagian pengurangan terlebih dahulu, sebelum akhirnya mengalikan hasil pengurangan dengan bilangan 100."
   ]
  },
  {
   "cell_type": "code",
   "execution_count": 49,
   "metadata": {},
   "outputs": [
    {
     "name": "stdout",
     "output_type": "stream",
     "text": [
      "19\n"
     ]
    }
   ],
   "source": [
    "bilangan = (5%3**2)+ (3+2*2)*(4-2)\n",
    "print(bilangan)"
   ]
  },
  {
   "cell_type": "markdown",
   "metadata": {},
   "source": [
    "### Tugas Praktek\n",
    "Senja memang hebat! \n",
    "Aku baru sadar kalau ternyata dengan struktur penulisan yang tepat, penulisan syntax dapat dipersingkat untuk menjadi lebih simpel. \n",
    "Kenapa tidak terpikirkan olehku ya? Harusnya aku tidak perlu mendeklarasikan variabel total_pajak dan aku bisa langsung menampung hasil perhitungan akhir saat mendeklarasikan variabel total_harga. Jadi, kodeku akan berjalan jika aku menambahkan setiap harga barang yang telah dipotong diskon sebelum menghitung pajak.\n"
   ]
  },
  {
   "cell_type": "code",
   "execution_count": 50,
   "metadata": {},
   "outputs": [
    {
     "name": "stdout",
     "output_type": "stream",
     "text": [
      "365200.00000000006\n"
     ]
    }
   ],
   "source": [
    "sepatu = { \"nama\" : \"Sepatu Niko\", \"harga\": 150000, \"diskon\": 30000 }\n",
    "baju = { \"nama\" : \"Baju Unikloh\", \"harga\": 80000, \"diskon\": 8000 }\n",
    "celana = { \"nama\" : \"Celana Lepis\", \"harga\": 200000, \"diskon\": 60000 }\n",
    "harga_sepatu = sepatu[\"harga\"] - sepatu[\"diskon\"]\n",
    "harga_baju = baju[\"harga\"] - baju[\"diskon\"]\n",
    "harga_celana = celana[\"harga\"] - celana[\"diskon\"]\n",
    "total_harga = (harga_sepatu + harga_baju + harga_celana) * 1.1 \n",
    "print(total_harga)\n"
   ]
  },
  {
   "cell_type": "markdown",
   "metadata": {},
   "source": [
    "### Python Conditioning For Decision - Part 1 \n",
    "Layaknya bahasa pemrograman lainnya, bahasa pemrograman Python menyediakan statemen desisi (decision statement) untuk berinteraksi dengan variabel bertipe boolean dan operator logika. Statemen desisi dalam Python dapat dituliskan dengan menggunakan format berikut,\n",
    "- if conditions:\n",
    "   - do_action_1\n",
    "   - ...\n",
    "   - do_action_n\n",
    "   \n",
    "- Dengan <conditions> berisikan operator yang mengembalikan nilai kebenaran; ataupun beberapa operator yang mengembalikan nilai kebenaran, yang digabungkan dengan operator logika.  Melalui  sebuah statemen desisi (if statement), <do_action_1> sampai dengan <do_action_n> akan dijalankan saat <conditions> bernilai True.\n",
    "Dalam menuliskan serangkaian aksi (<do_action_1>, ... , <do_action_n>) dalam sebuah statemen if, aku harus mengemas setiap aksi dalam sebuah blok dengan menambahkan indentasi (jorokan) dari pada aksi.\n",
    "Aku tidak sabar untuk mempraktekkannya.\n"
   ]
  },
  {
   "cell_type": "markdown",
   "metadata": {},
   "source": [
    "### Python Conditioning for Decision - Part 2\n",
    "Aku mempelajari kode yang diberikan Senja, dan mencoba mempraktekkannya ke dalam live code editor:"
   ]
  },
  {
   "cell_type": "code",
   "execution_count": 54,
   "metadata": {},
   "outputs": [
    {
     "name": "stdout",
     "output_type": "stream",
     "text": [
      "x habis dibagi dua\n"
     ]
    }
   ],
   "source": [
    "x = 4\n",
    "if x % 2 == 0:\n",
    "    print('x habis dibagi dua')"
   ]
  },
  {
   "cell_type": "markdown",
   "metadata": {},
   "source": [
    "## Tugas \n",
    "Praktekkan kode berikut di live code editor pada baris setelah kode sebelumnya yang telah dibuat."
   ]
  },
  {
   "cell_type": "code",
   "execution_count": 55,
   "metadata": {},
   "outputs": [
    {
     "name": "stdout",
     "output_type": "stream",
     "text": [
      "x habis dibagi dua\n",
      "x tidak habis dibagi dua, tiga ataupun lima\n"
     ]
    }
   ],
   "source": [
    "# Statement if\n",
    "x = 4\n",
    "if x % 2 == 0: # jika sisa bagi x dengan 2 sama dengan 0\n",
    "    print(\"x habis dibagi dua\") # statemen aksi lebih menjorok ke dalam\n",
    "\n",
    "# Statement if ... elif ... else\n",
    "x = 7\n",
    "if x % 2 == 0: # jika sisa bagi x dengan 2 sama dengan 0\n",
    "    print(\"x habis dibagi dua\")\n",
    "elif x % 3 == 0: # jika sisa bagi x dengan 3 sama dengan 0\n",
    "    print(\"x habis dibagi tiga\")\n",
    "elif x % 5 == 0: # jika sisa bagi x dengan 5 sama dengan 0\n",
    "    print(\"x habis dibagi lima\")\n",
    "else:\n",
    "    print(\"x tidak habis dibagi dua, tiga ataupun lima\")"
   ]
  },
  {
   "cell_type": "markdown",
   "metadata": {},
   "source": [
    "### Python Conditioning for Decision - Part 3\n",
    "Dari yang aku pelajari pada bagian awal dari statemen desisi, operator desisi juga dapat digunakan dengan operator logika. \n",
    "Sebagai catatan tambahan, aku juga belajar bahwa aksi dalam sebuah desisi statemen dapat dituliskan desisi statemen tambahan (lainnya) yang dikenal dengan istilah \n",
    "###### nested if. \n"
   ]
  },
  {
   "cell_type": "code",
   "execution_count": 58,
   "metadata": {},
   "outputs": [
    {
     "name": "stdout",
     "output_type": "stream",
     "text": [
      "Selamat siang!\n"
     ]
    }
   ],
   "source": [
    "jam = 13\n",
    "if jam >= 5 and jam < 12:\n",
    "    print(\"Selamat pagi!\")\n",
    "elif jam >= 12 and jam < 17: # selama jam di antara 12 s.d. 17\n",
    "    print(\"Selamat siang!\")\n",
    "elif jam >= 17 and jam < 19: # selama jam di antara 17 s.d. 19\n",
    "    print(\"Selamat sore!\")\n",
    "else: # selain kondisi di atas\n",
    "    print(\"Selamat malam!\")\n"
   ]
  },
  {
   "cell_type": "markdown",
   "metadata": {},
   "source": [
    "## Tugas Praktek\n",
    "Aku diminta tolong Senja untuk menghitung tagihan pembayaran karena saat ini prosesnya masih manual.\n",
    "Tugas:\n",
    "“Aksara, kantor kita akan merilis penawaran baru terkait jasa pembuatan data warehouse. Bisa tolong kembangkan kalkulatormu untuk menghitung tagihan pembayaran? Soalnya selama ini kita masih manual,” jelas Senja sembari memberikan contoh nota tagihan kantor.\n",
    "Aku belum mengiyakan karena sedikit ragu. Mengingat sebelumnya aku sempat salah. Tapi dalam hati aku berkata, pasti bisa! Kali ini aku harus mampu membuat kalkulator lebih rumit.\n",
    "Solusi yang terlintas dalam bayanganku: Kalkulator ini harus dapat menghitung subtotal setiap jasa yang diambil dari kolom harga/ hari dan total hari dari setiap jasa. Ternyata Senja juga memikirkan hal yang sama dengan instruksinya yang sangat membantu.\n",
    "\n",
    "Tagihan untuk Mr. Yoyo\n",
    "- Nama Jasa\t|Harga| |per hari|\t|Total hari|\t|Subtotal|\n",
    "- Data Warehousing\t|1000000|\t|15|\t|15000000|\n",
    "- Data Cleansing\t|1500000|\t|10|\t|15000000|\n",
    "- Data Integration\t|2000000|\t|15|\t|30000000|\n",
    "- Data Transformation\t|2500000|\t|10|\t|25000000|\n",
    "- Total\t85000000\n",
    "\n"
   ]
  },
  {
   "cell_type": "code",
   "execution_count": 4,
   "metadata": {},
   "outputs": [
    {
     "name": "stdout",
     "output_type": "stream",
     "text": [
      "Tagihan kepada\n",
      "Mr. Yoyo\n",
      "Selamat pagi, anda harus membayar tagihan sebesar:\n",
      "85000000\n"
     ]
    }
   ],
   "source": [
    "tagihan_ke = 'Mr. Yoyo'\n",
    "werehousing = {'harga_harian':1000000,'total_hari':15}\n",
    "cleansing = {'harga_harian':1500000,'total_hari':10}\n",
    "integration = {'harga_harian':2000000,'total_hari':15}\n",
    "transformation = {'harga_harian':2500000,'total_hari':10}\n",
    "sub_werehousing = werehousing['harga_harian'] * werehousing['total_hari']\n",
    "sub_cleansing = cleansing['harga_harian']*cleansing['total_hari']\n",
    "sub_integration = integration['harga_harian']*integration['total_hari']\n",
    "sub_transform = transformation['harga_harian']*transformation['total_hari']\n",
    "total_harga = sub_werehousing+sub_cleansing+sub_integration+sub_transform\n",
    "print('Tagihan kepada')\n",
    "print(tagihan_ke)\n",
    "print(\"Selamat pagi, anda harus membayar tagihan sebesar:\")\n",
    "print(total_harga)\n"
   ]
  },
  {
   "cell_type": "markdown",
   "metadata": {},
   "source": [
    "## Tugas Praktek\n",
    "Aku menunjukkan potongan kode dan hasil dari kalkulator yang telah aku buat ke Senja yang sudah berhasil menampilkan kalimat:\n",
    "\n",
    "##### Selamat pagi, Anda harus membayar tagihan sebesar:\n",
    "\n",
    "Kulihat kedua alis Senja bertaut, ini pertanda kodeku pasti ada yang keliru. \n",
    "“Kalau kamu hanya memasukkan perintah ‘selamat pagi’ seakan kalau tagihan ini dikirim hanya saat pagi, padahal bisa kapan saja sesuai kebutuhan,” komentar Senja. Begini, jam pengiriman email kantor kita mulai dari 6 pagi sampai 9 malam.\n"
   ]
  },
  {
   "cell_type": "code",
   "execution_count": 8,
   "metadata": {},
   "outputs": [
    {
     "name": "stdout",
     "output_type": "stream",
     "text": [
      "Tagihan kepada:\n",
      "Mr. Yoyo\n",
      "Selamat siang, anda harus membayar tagihan sebesar:\n",
      "85000000\n"
     ]
    }
   ],
   "source": [
    "jam = 17\n",
    "tagihan_ke = 'Mr. Yoyo'\n",
    "warehousing = { 'harga_harian': 1000000, 'total_hari':15 }\n",
    "cleansing = { 'harga_harian': 1500000, 'total_hari':10 } \n",
    "integration = { 'harga_harian':2000000, 'total_hari':15 } \n",
    "transform = { 'harga_harian':2500000, 'total_hari':10 }\n",
    "sub_warehousing = warehousing['harga_harian']*warehousing['total_hari'] \n",
    "sub_cleansing = cleansing['harga_harian']*cleansing['total_hari'] \n",
    "sub_integration = integration['harga_harian']*integration['total_hari'] \n",
    "sub_transform = transform['harga_harian']*transform['total_hari']\n",
    "total_harga= sub_warehousing+sub_cleansing+sub_integration+sub_transform\n",
    "print(\"Tagihan kepada:\")\n",
    "print(tagihan_ke)\n",
    "if jam > 19:\n",
    "    print(\"Selamat malam, anda harus membayar tagihan sebesar:\") \n",
    "elif jam > 17:\n",
    "    print(\"Selamat sore, anda harus membayar tagihan sebesar:\") \n",
    "elif jam > 12:\n",
    "    print(\"Selamat siang, anda harus membayar tagihan sebesar:\") \n",
    "else:\n",
    "    print(\"Selamat pagi, anda harus membayar tagihan sebesar:\") \n",
    "print(total_harga)\n"
   ]
  },
  {
   "cell_type": "markdown",
   "metadata": {},
   "source": [
    "## Python Primitive Loop Control\n",
    "Loop Control merupakan salah satu fitur yang mengizinkan penggunanya untuk melakukan serangkaian aksi, selama suatu kondisi yang telah ditetapkan bernilai benar. Dalam Python, terdapat dua bentuk primitif dari loop kontrol (struktur pengulangan), yaitu\n",
    "- while loops\n",
    "- for loops\n",
    "\n",
    "## Python While loops - Part 1\n",
    "Pertama-tama aku mempelajari struktur kontrol while loops menggunakan contoh berikut:"
   ]
  },
  {
   "cell_type": "code",
   "execution_count": 9,
   "metadata": {},
   "outputs": [
    {
     "name": "stdout",
     "output_type": "stream",
     "text": [
      "750000\n",
      "750000\n"
     ]
    }
   ],
   "source": [
    "# Tagihan\n",
    "tagihan = [50000, 75000, 125000, 300000, 200000]\n",
    "\n",
    "# Tanpa menggunakan while loop\n",
    "total_tagihan = tagihan[0] + tagihan[1] + tagihan[2] + tagihan[3] + tagihan[4]\n",
    "print(total_tagihan)\n",
    "\n",
    "# Dengan menggunakan while loop\n",
    "i = 0 # sebuah variabel untuk mengakses setiap elemen tagihan satu per satu\n",
    "jumlah_tagihan = len(tagihan) # panjang (jumlah elemen dalam) list tagihan\n",
    "total_tagihan = 0 # mula-mula, set total_tagihan ke 0\n",
    "while i < jumlah_tagihan: # selama nilai i kurang dari jumlah_tagihan\n",
    "    total_tagihan += tagihan[i] # tambahkan tagihan[i] ke total_tagihan\n",
    "    i += 1 # tambahkan nilai i dengan 1 untuk memproses tagihan selanjutnya.\n",
    "print(total_tagihan)\n"
   ]
  },
  {
   "cell_type": "markdown",
   "metadata": {},
   "source": [
    "## Python While Loops - Part 2\n",
    "#### Break dan Continue\n",
    "Dalam sebuah struktur kontrol pengulangan, aku dapat menggunakan perintah break untuk keluar dari struktur pengulangan dan perintah continue untuk melanjutkan proses pengulangan berikutnya. \n",
    "\n",
    "#### Tugas:\n",
    "Praktekkan potongan kode berikut pada live code editor.\n",
    "Output yang akan dihasilkan adalah -1\n",
    "\n"
   ]
  },
  {
   "cell_type": "code",
   "execution_count": 10,
   "metadata": {},
   "outputs": [
    {
     "name": "stdout",
     "output_type": "stream",
     "text": [
      "terdapat angka minus dalam tagihan, perhitungan dihentikan!\n",
      "-1\n"
     ]
    }
   ],
   "source": [
    "tagihan = [50000, 75000, -150000, 125000, 300000, -50000, 200000]\n",
    "i = 0\n",
    "jumlah_tagihan = len(tagihan)\n",
    "total_tagihan = 0\n",
    "while i < jumlah_tagihan:\n",
    "    # jika terdapat tagihan ke-i yang bernilai minus (di bawah nol),\n",
    "    # pengulangan akan dihentikan\n",
    "    if tagihan[i] < 0:\n",
    "        total_tagihan = -1\n",
    "        print(\"terdapat angka minus dalam tagihan, perhitungan dihentikan!\")\n",
    "        break\n",
    "    total_tagihan += tagihan[i]\n",
    "    i += 1\n",
    "print(total_tagihan)\n"
   ]
  },
  {
   "cell_type": "markdown",
   "metadata": {},
   "source": [
    "### Python While Loops - Part 3\n",
    "Praktekkan potongan kode berikut menggunakan live code editor. "
   ]
  },
  {
   "cell_type": "code",
   "execution_count": 11,
   "metadata": {},
   "outputs": [
    {
     "name": "stdout",
     "output_type": "stream",
     "text": [
      "750000\n"
     ]
    }
   ],
   "source": [
    "tagihan = [50000, 75000, -150000, 125000, 300000, -50000, 200000]\n",
    "i = 0\n",
    "jumlah_tagihan = len(tagihan)\n",
    "total_tagihan = 0\n",
    "while i < jumlah_tagihan:\n",
    "    # jika terdapat tagihan ke-i yang bernilai minus (di bawah nol),\n",
    "    # abaikan tagihan ke-i dan lanjutkan ke tagihan berikutnya\n",
    "    if tagihan[i] < 0:\n",
    "        i += 1\n",
    "        continue\n",
    "    total_tagihan += tagihan[i]\n",
    "    i += 1\n",
    "print(total_tagihan)"
   ]
  },
  {
   "cell_type": "markdown",
   "metadata": {},
   "source": [
    "### Python For Loops - Part 1\n",
    "Untuk perintah for loops, aku mencoba potongan kode ini menggunakan live code editor."
   ]
  },
  {
   "cell_type": "code",
   "execution_count": 12,
   "metadata": {},
   "outputs": [
    {
     "name": "stdout",
     "output_type": "stream",
     "text": [
      "550000\n"
     ]
    }
   ],
   "source": [
    "list_tagihan = [50000, 75000, -150000, 125000, 300000, -50000, 200000]\n",
    "total_tagihan = 0\n",
    "for tagihan in list_tagihan: # untuk setiap tagihan dalam list_tagihan\n",
    "    total_tagihan += tagihan # tambahkan tagihan ke total_tagihan\n",
    "print(total_tagihan)\n"
   ]
  },
  {
   "cell_type": "markdown",
   "metadata": {},
   "source": [
    "### Python For Loops - Part 2\n",
    "Serupa dengan struktur pengulangan while, aku juga dapat memanfaatkan statement break dan continue di dalamnya. Aku mencoba potongan kode di bawah menggunakan live code editor. "
   ]
  },
  {
   "cell_type": "code",
   "execution_count": 13,
   "metadata": {},
   "outputs": [
    {
     "name": "stdout",
     "output_type": "stream",
     "text": [
      "terdapat angka minus dalam tagihan, perhitungan dihentikan!\n",
      "125000\n"
     ]
    }
   ],
   "source": [
    "list_tagihan = [50000, 75000, -150000, 125000, 300000, -50000, 200000]\n",
    "total_tagihan = 0\n",
    "for tagihan in list_tagihan:\n",
    "    if tagihan < 0:\n",
    "        print(\"terdapat angka minus dalam tagihan, perhitungan dihentikan!\")\n",
    "        break\n",
    "    total_tagihan += tagihan\n",
    "print(total_tagihan)\n"
   ]
  },
  {
   "cell_type": "markdown",
   "metadata": {},
   "source": [
    "### Python For Loops - Part 3\n",
    "#### Nested Loops\n",
    "Ternyata, aku belajar bahwa ada istilah nested loops, yaitu pengulangan bersarang. Dengan nested loops, aku dapat mengkombinasikan (menambahkan) struktur pengulangan lain di dalamnya.  Aku mencoba potongan kode di bawah menggunakan live code editor: "
   ]
  },
  {
   "cell_type": "code",
   "execution_count": 14,
   "metadata": {},
   "outputs": [
    {
     "name": "stdout",
     "output_type": "stream",
     "text": [
      "Apel Malang\n",
      "Duku Malang\n",
      "Jeruk Malang\n",
      "Apel Palembang\n",
      "Duku Palembang\n",
      "Jeruk Palembang\n",
      "Apel Medan\n",
      "Duku Medan\n",
      "Jeruk Medan\n"
     ]
    }
   ],
   "source": [
    "list_daerah = ['Malang', 'Palembang', 'Medan']\n",
    "list_buah = ['Apel', 'Duku', 'Jeruk']\n",
    "for nama_daerah in list_daerah:\n",
    "    for nama_buah in list_buah:\n",
    "        print(nama_buah+\" \"+nama_daerah)\n"
   ]
  },
  {
   "cell_type": "markdown",
   "metadata": {},
   "source": [
    "## Tugas Praktek\n",
    "Aku di informasikan Senja bahwa manajemen cukup puas dengan hasil kalkulator potongan harga dan pajak yang aku kembangkan dan aku diberikan kepercayaan lebih untuk membuat program baru.\n",
    "Dalam program kali ini, aku diminta untuk menghitung total pengeluaran dan pemasukan perusahaan.\n",
    "Senja pun mengingatkan akan ada penghitungan cash flow.\n",
    "Melihat Senja dan tim manajemen memberikan kepercayaan yang besar kepadaku, akupun bersemangat!\n",
    "\n",
    "### Tugas:\n",
    "Program yang akan aku bangun akan mengolah sebuah list yang bernama list_cash_flow. Setiap elemen dari list_cash_flow berisikan pengeluaran (bilangan negatif) dan pemasukan (bilangan positif) pada perusahaan \n",
    "\n",
    "Dari list_cash_flow ini, aku akan menghitung total_pengeluaran dan total_pemasukan perusahaan.\n"
   ]
  },
  {
   "cell_type": "code",
   "execution_count": 15,
   "metadata": {},
   "outputs": [
    {
     "name": "stdout",
     "output_type": "stream",
     "text": [
      "12500000\n",
      "65000000\n"
     ]
    }
   ],
   "source": [
    "list_cash_flow = [\n",
    "2500000, 5000000, -1000000, -2500000, 5000000, 10000000,\n",
    "-5000000, 7500000, 10000000, -1500000, 25000000, -2500000\n",
    "]\n",
    "total_pengeluaran, total_pemasukan = 0, 0\n",
    "for dana in list_cash_flow:\n",
    "    if dana > 0:\n",
    "        total_pemasukan += dana\n",
    "    else:\n",
    "        total_pengeluaran += dana\n",
    "total_pengeluaran *= -1\n",
    "print(total_pengeluaran) \n",
    "print(total_pemasukan)\n"
   ]
  },
  {
   "cell_type": "markdown",
   "metadata": {},
   "source": [
    "### Ekspedisi Pamanku\n",
    "Aku menyambar ponsel di meja dan membuka pesan singkat dari paman tempo hari yang menjelaskan jika paman harus mengeluarkan uang sebesar 1,5 juta per mobil dalam sehari. Tapi, beliau selalu kebingungan total pengeluaran per bulan karena adanya aturan ganjil-genap yang membuat pengoperasian mobil yang berbeda.\n",
    "“Kalau begitu, aku akan masukkan variabel jumlah_hari berisi jumlah hari dalam sebulan dan variabel list_plat_nomor berisi seluruh nomor plat mobil milik paman,” gumamku sendiri. Kalau seperti ini paman hanya perlu mengganti variabel jumlah_hari atau modifikasi variabel list_plat_nomor untuk melacak total pengeluaran paman selama sebulan. Ide Cemerlang!\n"
   ]
  },
  {
   "cell_type": "code",
   "execution_count": 16,
   "metadata": {},
   "outputs": [
    {
     "name": "stdout",
     "output_type": "stream",
     "text": [
      "163500000\n"
     ]
    }
   ],
   "source": [
    "# Data\n",
    "uang_jalan = 1500000\n",
    "jumlah_hari = 31\n",
    "list_plat_nomor = [8993, 2198, 2501, 2735, 3772, 4837, 9152]\n",
    "# Pengecekan kendaraan dengan nomor pelat ganjil atau genap \n",
    "# Deklarasikan kendaraan_genap dan kendaraan_ganjil = 0\n",
    "kendaraan_genap = 0\n",
    "kendaraan_ganjil = 0\n",
    "for plat_nomor in list_plat_nomor:\n",
    "    if plat_nomor % 2 == 0:\n",
    "       kendaraan_genap += 1   \n",
    "    else:\n",
    "       kendaraan_ganjil += 1 \n",
    "# Total pengeluaran untuk kendaraan dengan nomor pelat ganjil \n",
    "# dan genap dalam 1 bulan\n",
    "i = 1\n",
    "total_pengeluaran = 0\n",
    "while i <= jumlah_hari:\n",
    "    if i % 2 == 0:\n",
    "       total_pengeluaran += (kendaraan_genap * uang_jalan) \n",
    "    else:\n",
    "       total_pengeluaran += (kendaraan_ganjil * uang_jalan)   \n",
    "    i += 1\n",
    "# Cetak total pengeluaran\n",
    "print(total_pengeluaran)\n"
   ]
  },
  {
   "cell_type": "markdown",
   "metadata": {},
   "source": [
    "### Hasil Belajarku\n",
    "Wah senangnya! Aku telah berhasil menyelesaikan pelajaran Python pertamaku, Python for Data Professional Beginner - Part 1. \n",
    "Selain membabat habis materi dari Senja, aku berhasil menyelesaikan latihan, dan membantu Pamanku. \n",
    "\n",
    "Dari materi yang telah aku pelajari dan praktekkan, aku telah mempelajari:\n",
    "- Alasan Python secara luas digunakan dalam komputasi saintifik, web, ranah data (data domain).\n",
    "- Konstruksi dari struktur bahasa pemrograman Python.\n",
    "- Teknik mempraktekkan penggunaan tipe data pada Python.\n",
    "- Teknik mempraktekkan penggunaan jenis-jenis operator pada Python.\n",
    "- Teknik mempraktekkan penggunaan pengkondisian untuk pengambilan keputusan dan perulangan pada Python.\n",
    "- Program Python untuk penyelesaian kasus bisnis sederhana.\n"
   ]
  },
  {
   "cell_type": "markdown",
   "metadata": {},
   "source": [
    "# PYTHON BEGINNER PART 2\n",
    "### Memulai dengan Collection Manipulation\n",
    "##### Apa itu Collection Manipulation?\n",
    "Collections manipulation adalah salah satu teknik yang penting untuk dikuasai setiap programmer. Melalui penguasaan materi collections  manipulation, aku dapat mengolah berbagai tipe data collections dalam Python yang meliputi:\n",
    "- list,\n",
    "- tuple,\n",
    "- set, dan\n",
    "- Dictionary.\n",
    "\n",
    "### Mengakses List dan Tuple - Part 1\n",
    "Seperti yang telah aku pelajari pada module Python for Data Professional Beginner - Part 1, bab “sequence type”, aku dapat mengakses elemen pada suatu list ataupun tuple dengan menggunakan indeks atau semacam nomor urut dari list atau tuple tersebut. Indeks pada suatu tipe data list atau tuple dimulai dari angka 0.\n",
    "Kemudian, untuk mengakses elemen dari belakang pada suatu list/ tuple, aku juga dapat menggunakan indeks negatif pada list/ tuple.\n",
    "\n",
    "### Tugas 2:\n",
    "Untuk menampilkan output Desember dan November, yang aku lakukan adalah mengetikkan syntax simple berikut:\n",
    "\n"
   ]
  },
  {
   "cell_type": "code",
   "execution_count": 17,
   "metadata": {},
   "outputs": [
    {
     "name": "stdout",
     "output_type": "stream",
     "text": [
      "Januari\n",
      "Juni\n",
      "Desember\n",
      "November\n"
     ]
    }
   ],
   "source": [
    "bulan_pembelian = ('Januari', 'Februari', 'Maret', 'April', 'Mei', 'Juni', 'Juli', 'Agustus', 'September', 'Oktober', 'November', 'Desember')\n",
    "print(bulan_pembelian[0])\n",
    "print(bulan_pembelian[5])\n",
    "print(bulan_pembelian[-1])\n",
    "print(bulan_pembelian[-2])\n"
   ]
  },
  {
   "cell_type": "markdown",
   "metadata": {},
   "source": [
    "### Mengakses List dan Tuple - Part 2\n",
    "Cara collections manipulation pertama yang akan aku pelajari adalah memotong (slicing) list/ tuple dengan menggunakan rentangan nilai indeks (range of index).\n",
    "\n",
    "#### Tugas 1:\n",
    "Aku mencoba mempraktekkan potongan kode di bawah dengan live code editor:\n",
    "Untuk menampilkan output bulan_pembelian Mei, Juni, Juli, Agustus, aku dapat menggunakan syntax di bawah untuk mengambil index 4 - 7.\n",
    "\n",
    "#### Tugas 2:\n",
    "Untuk menampilkan output bulan_pembelian Januari, Februari, Maret, April, Mei aku dapat menggunakan syntax di bawah untuk mengambil index 0 - 4.\n",
    "\n",
    "#### Tugas 3:\n",
    "Untuk menampilkan output September, Oktober, November, Desember. Aku dapat menggunakan syntax di bawah untuk mengambil index 8 - elemen terakhir.\n",
    "\n",
    "#### Tugas 4:\n",
    "Aku juga dapat memotong suatu list/tuple dengan menggunakan indeks negatif. Sebagai contoh untuk mendapatkan output September, Oktober, November aku bisa menggunakan syntax di bawah:\n"
   ]
  },
  {
   "cell_type": "code",
   "execution_count": 18,
   "metadata": {},
   "outputs": [
    {
     "name": "stdout",
     "output_type": "stream",
     "text": [
      "('Mei', 'Juni', 'Juli', 'Agustus')\n",
      "('Januari', 'Februari', 'Maret', 'April', 'Mei')\n",
      "('September', 'Oktober', 'November', 'Desember')\n",
      "('September', 'Oktober', 'November')\n"
     ]
    }
   ],
   "source": [
    "bulan_pembelian = ('Januari', 'Februari', 'Maret', 'April', 'Mei', 'Juni', 'Juli', 'Agustus', 'September', 'Oktober', 'November', 'Desember')\n",
    "pertengahan_tahun = bulan_pembelian[4:8]\n",
    "print(pertengahan_tahun)\n",
    "awal_tahun = bulan_pembelian[:5]\n",
    "print(awal_tahun)\n",
    "akhir_tahun = bulan_pembelian[8:]\n",
    "print(akhir_tahun)\n",
    "print(bulan_pembelian[-4:-1])\n"
   ]
  },
  {
   "cell_type": "markdown",
   "metadata": {},
   "source": [
    "### Penggabungan Dua atau Lebih List atau Tuple\n",
    "Selain dapat melakukan pemotongan terhadap tipe data list/ tuple, aku juga dapat menggabungkan isi dari suatu list (ataupun tuple) dengan list lainnya (dengan tuple lainnya) dengan menggunakan operator penambahan (+). \n",
    "\n",
    "### Tugas:\n",
    "Aku menggunakan potongan kode yang dicontohkan dengan live code editor:\n"
   ]
  },
  {
   "cell_type": "code",
   "execution_count": 19,
   "metadata": {},
   "outputs": [
    {
     "name": "stdout",
     "output_type": "stream",
     "text": [
      "['Gado-gado', 'Ayam Goreng', 'Rendang', 'Es Teh', 'Es Jeruk', 'Es Campur']\n"
     ]
    }
   ],
   "source": [
    "list_makanan = ['Gado-gado','Ayam Goreng', 'Rendang']\n",
    "list_minuman = ['Es Teh', 'Es Jeruk', 'Es Campur']\n",
    "list_menu = list_makanan + list_minuman\n",
    "print(list_menu)\n"
   ]
  },
  {
   "cell_type": "code",
   "execution_count": 25,
   "metadata": {},
   "outputs": [
    {
     "name": "stdout",
     "output_type": "stream",
     "text": [
      "[1000, 2500, 5000, 15000]\n",
      "[1000, 2500, 5000]\n",
      "[1000, 2500]\n",
      "[5000, 15000]\n"
     ]
    }
   ],
   "source": [
    "harga = [1000,2500,5000,15000,30000]\n",
    "print(harga[:-1])\n",
    "print(harga[:-2])\n",
    "print(harga[:-3])\n",
    "print(harga[-3:-1])"
   ]
  },
  {
   "cell_type": "markdown",
   "metadata": {},
   "source": [
    "## List Manipulation - Part 1\n",
    "##### Untuk memanipulasi tipe data list, \n",
    "aku dapat menggunakan sekumpulan fitur yang telah tersedia dalam bahasa pemrograman Python. Merujuk pada tabel di bawah, aku dapat memahami fitur-fitur untuk melakukan manipulasi data yang terdiri atas \n",
    "###### append(), clear(), copy(), count() dan extend()\n",
    "\n",
    "Fitur\tKeterangan\tContoh Penggunaan\n",
    "- .append()\tMenambahkan data sebagai elemen terakhir di list\n",
    "\n",
    "- .clear()\tMenghapus seluruh elemen dalam sebuah list\t\n",
    "- .copy()\tMengembalikan copy dari setiap elemen dalam list\t\n",
    "    \n",
    "- .count()\tMengembalikan jumlah kemunculan suatu elemen pada list\t\n",
    "\n",
    "- .extend()\tMenggabungkan dua buah list seperti penggunaan operator + untuk list\t\n",
    "\n"
   ]
  },
  {
   "cell_type": "code",
   "execution_count": 27,
   "metadata": {},
   "outputs": [
    {
     "name": "stdout",
     "output_type": "stream",
     "text": [
      ">>> Fitur .append()\n",
      "['Gado-gado', 'Ayam Goreng', 'Rendang', 'Ketoprak']\n",
      ">>> Fitur .clear()\n",
      "[]\n",
      ">>> Fitur .copy()\n",
      "['Gado-gado', 'Ayam Goreng', 'Rendang', 'Ketoprak']\n",
      "['Gado-gado', 'Ayam Goreng', 'Rendang', 'Opor']\n",
      ">>> Fitur .count()\n",
      "4\n",
      "3\n",
      ">>> Fitur .extend()\n",
      "['Gado-gado', 'Ayam Goreng', 'Rendang', 'Es Teh', 'Es Jeruk', 'Es Campur']\n"
     ]
    }
   ],
   "source": [
    "# Fitur .append()\n",
    "print(\">>> Fitur .append()\")\n",
    "list_makanan = ['Gado-gado', 'Ayam Goreng', 'Rendang']\n",
    "list_makanan.append('Ketoprak')\n",
    "print(list_makanan)\n",
    "\n",
    "# Fitur .clear()\n",
    "print(\">>> Fitur .clear()\")\n",
    "list_makanan = ['Gado-gado', 'Ayam Goreng', 'Rendang']\n",
    "list_makanan.clear()\n",
    "print(list_makanan)\n",
    "\n",
    "# Fitur .copy()\n",
    "print(\">>> Fitur .copy()\")\n",
    "list_makanan1 = ['Gado-gado', 'Ayam Goreng', 'Rendang']\n",
    "list_makanan2 = list_makanan1.copy()\n",
    "list_makanan3 = list_makanan1\n",
    "list_makanan2.append('Opor')\n",
    "list_makanan3.append('Ketoprak')\n",
    "print(list_makanan1)\n",
    "print(list_makanan2)\n",
    "\n",
    "# Fitur .count()\n",
    "print(\">>> Fitur .count()\")\n",
    "list_score = ['Budi', 'Sud', 'Budi', 'Budi', 'Budi', 'Sud', 'Sud']\n",
    "score_budi = list_score.count('Budi')\n",
    "score_sud = list_score.count('Sud')\n",
    "print(score_budi) # akan menampilkan output 4\n",
    "print(score_sud) # akan menampilkan output 3\n",
    "\n",
    "# Fitur .extend()\n",
    "print(\">>> Fitur .extend()\")\n",
    "list_menu = ['Gado-gado', 'Ayam Goreng', 'Rendang']\n",
    "list_minuman = ['Es Teh', 'Es Jeruk', 'Es Campur']\n",
    "list_menu.extend(list_minuman)\n",
    "print(list_menu)\n"
   ]
  },
  {
   "cell_type": "markdown",
   "metadata": {},
   "source": [
    "### List Manipulation - Part 2\n",
    "Selanjutnya aku akan mempelajari fitur \n",
    "##### index(), insert(), pop(), remove(), reverse(), dan sort() \n",
    "untuk melakukan manipulasi.\n",
    "1. .indeks() -> mengembalikan indeks dari elemen pertama yang ditemukan dari awal sebuah list\n",
    "2. .insert() -> menyisipkan elemen pada indeks yan dispesifikasikan\n",
    "3. .pop() -> menghilangkan elemen pada posisi tertentu\n",
    "4. .remove() -> menghilangkan elemen dengan nilai tertentu\n",
    "5. .reserve() -> membalik urutan elemen dari sebuah list\n",
    "6. sort() -> mengurutkan elemen pada sebuah list, secara default dengan urutan dari kecil ke besar (ascending) atau descending\n"
   ]
  },
  {
   "cell_type": "code",
   "execution_count": 1,
   "metadata": {},
   "outputs": [
    {
     "name": "stdout",
     "output_type": "stream",
     "text": [
      ">>> Fitur .index()\n",
      "2\n",
      ">>> Fitur .insert()\n",
      "['Budi', 'Sud', 'Budi', 'Sud', 'Budi', 'Sud']\n",
      ">>> Fitur .pop()\n",
      "['Gado-gado', 'Rendang']\n",
      ">>> Fitur .remove()\n",
      "['Gado-gado', 'Ayam Goreng', 'Ketoprak']\n",
      ">>> Fitur .reverse()\n",
      "['Ketoprak', 'Rendang', 'Ayam Goreng', 'Gado-gado']\n",
      ">>> Fitur .sort()\n",
      "['Ayam Goreng', 'Gado-gado', 'Ketoprak', 'Rendang']\n",
      "['Rendang', 'Ketoprak', 'Gado-gado', 'Ayam Goreng']\n"
     ]
    }
   ],
   "source": [
    "# Fitur .index()\n",
    "print(\">>> Fitur .index()\")\n",
    "list_score = ['Budi','Sud','Budi','Budi','Budi','Sud','Sud']\n",
    "score_pertama_sud = list_score.index('Sud') + 1\n",
    "print(score_pertama_sud) # akan menampilkan output 2\n",
    "\n",
    "# Fitur .insert()\n",
    "print(\">>> Fitur .insert()\")\n",
    "list_score = ['Budi','Sud','Budi','Budi','Sud']\n",
    "list_score.insert(3, 'Sud')\n",
    "print(list_score)\n",
    "\n",
    "# Fitur .pop()\n",
    "print(\">>> Fitur .pop()\")\n",
    "list_menu = ['Gado-gado', 'Ayam Goreng', 'Rendang']\n",
    "list_menu.pop(1)\n",
    "print(list_menu)\n",
    "\n",
    "# Fitur .remove()\n",
    "print(\">>> Fitur .remove()\")\n",
    "list_menu = ['Gado-gado', 'Ayam Goreng', 'Rendang', 'Ketoprak']\n",
    "list_menu.remove('Rendang')\n",
    "print(list_menu)\n",
    "\n",
    "# Fitur .reverse()\n",
    "print(\">>> Fitur .reverse()\")\n",
    "list_menu = ['Gado-gado', 'Ayam Goreng', 'Rendang', 'Ketoprak']\n",
    "list_menu.reverse()\n",
    "print(list_menu)\n",
    "\n",
    "# Fitur .sort()\n",
    "print(\">>> Fitur .sort()\")\n",
    "list_menu = ['Gado-gado', 'Ayam Goreng', 'Rendang', 'Ketoprak']\n",
    "list_menu.sort() # Default: Ascending\n",
    "print(list_menu) \n",
    "list_menu.sort(reverse=True)# Descending\n",
    "print(list_menu)\n"
   ]
  },
  {
   "cell_type": "markdown",
   "metadata": {},
   "source": [
    "## Tuple Manipulation\n",
    "Fitur\tKeterangan\n",
    "1. .count()\tMengembalikan jumlah kemunculan suatu elemen pada tuple\n",
    "2. .index()\tMengembalikan indeks dari elemen pertama yang ditemukan dari awal sebuah tuple\n"
   ]
  },
  {
   "cell_type": "code",
   "execution_count": 2,
   "metadata": {},
   "outputs": [
    {
     "name": "stdout",
     "output_type": "stream",
     "text": [
      ">>> Fitur .count()\n",
      "4\n",
      "3\n",
      ">>> Fitur .index()\n",
      "2\n"
     ]
    }
   ],
   "source": [
    "# Fitur .count()\n",
    "print(\">>> Fitur .count()\")\n",
    "tuple_score = ('Budi', 'Sud', 'Budi', 'Budi', 'Budi', 'Sud', 'Sud')\n",
    "score_budi = tuple_score.count('Budi')\n",
    "score_sud = tuple_score.count('Sud')\n",
    "print(score_budi) # akan menampilkan output 4\n",
    "print(score_sud) # akan menampilkan output 3\n",
    "\n",
    "# Fitur .index()\n",
    "print(\">>> Fitur .index()\")\n",
    "tuple_score = ('Budi','Sud','Budi','Budi','Budi','Sud','Sud')\n",
    "score_pertama_sud = tuple_score.index('Sud')+1\n",
    "print(score_pertama_sud) # akan menampilkan output 2\n"
   ]
  },
  {
   "cell_type": "code",
   "execution_count": 3,
   "metadata": {},
   "outputs": [
    {
     "name": "stdout",
     "output_type": "stream",
     "text": [
      "4\n"
     ]
    }
   ],
   "source": [
    "barisan = [1,2,3,4,5]\n",
    "print(barisan[-2])"
   ]
  },
  {
   "cell_type": "markdown",
   "metadata": {},
   "source": [
    "### Set Manipulation - Part 1\n",
    "Fitur\tKeterangan\n",
    "1. .add()\t-> Menambahkan data ke dalam set. Penting untuk kita ingat bahwa pada tipe data set tidak mengizinkan adanya duplikasi elemen di dalamnya.\n",
    "2. .clear()\t-> Menghapus seluruh elemen dalam sebuah set\n",
    "3. .copy()\t-> Mengembalikan copy dari setiap elemen dalam set\n",
    "4. .update()\t-> Menambahkan elemen dari suatu set dengan set lainnya.\n",
    "5. .pop()\t-> Menghilangkan elemen dari sebuah set secara acak.\n",
    "6. .remove()\t-> Menghilangkan elemen dengan nilai tertentu\n"
   ]
  },
  {
   "cell_type": "code",
   "execution_count": 1,
   "metadata": {},
   "outputs": [
    {
     "name": "stdout",
     "output_type": "stream",
     "text": [
      ">>> Fitur .add()\n",
      "{'Apel', 'Anggur', 'Jeruk', 'Melon'}\n",
      ">>> Fitur .clear()\n",
      "set()\n",
      ">>> Fitur .copy()\n",
      "{'Apel', 'Anggur', 'Jeruk', 'Melon'}\n",
      "{'Apel', 'Anggur', 'Jeruk', 'Melon'}\n",
      ">>> Fitur .update()\n",
      "{'Apel', 'Anggur', 'Melon', 'Kiwi', 'Jeruk'}\n",
      ">>> Fitur .pop()\n",
      "Apel\n",
      "{'Anggur', 'Jeruk'}\n",
      ">>> Fitur .remove()\n",
      "{'Anggur', 'Jeruk'}\n"
     ]
    }
   ],
   "source": [
    "# Fitur .add()\n",
    "print(\">>> Fitur .add()\")\n",
    "set_buah = {'Jeruk','Apel','Anggur'}\n",
    "set_buah.add('Melon')\n",
    "print(set_buah)\n",
    "\n",
    "# Fitur .clear()\n",
    "print(\">>> Fitur .clear()\")\n",
    "set_buah = {'Jeruk','Apel','Anggur'}\n",
    "set_buah.clear()\n",
    "print(set_buah)\n",
    "\n",
    "# Fitur .copy()\n",
    "print(\">>> Fitur .copy()\")\n",
    "set_buah1 = {'Jeruk','Apel','Anggur'}\n",
    "set_buah2 = set_buah1\n",
    "set_buah3 = set_buah1.copy()\n",
    "set_buah2.add('Melon')\n",
    "set_buah3.add('Kiwi')\n",
    "print(set_buah1)\n",
    "print(set_buah2)\n",
    "\n",
    "# Fitur .update()\n",
    "print(\">>> Fitur .update()\")\n",
    "parcel1 = {'Anggur','Apel','Jeruk'}\n",
    "parcel2 = {'Apel','Kiwi','Melon'}\n",
    "parcel1.update(parcel2)\n",
    "print(parcel1)\n",
    "\n",
    "# Fitur .pop()\n",
    "print(\">>> Fitur .pop()\")\n",
    "parcel = {'Anggur','Apel','Jeruk'}\n",
    "buah = parcel.pop()\n",
    "print(buah)\n",
    "print(parcel)\n",
    "\n",
    "# Fitur .remove()\n",
    "print(\">>> Fitur .remove()\")\n",
    "parcel = {'Anggur','Apel','Jeruk'}\n",
    "parcel.remove('Apel')\n",
    "print(parcel)\n"
   ]
  },
  {
   "cell_type": "markdown",
   "metadata": {},
   "source": [
    "### Set Manipulation - Part 2\n",
    "Sedikit berbeda dengan tipe data list dan tuple, pada tipe data set terdapat cukup banyak fitur manipulasi yang bisa aku gunakan.\n",
    "\n",
    "Fitur\tKeterangan\n",
    "- .union()\tMengembalikan hasil penggabungan (union) dari dua buah set.\n",
    "- .isdisjoint()\tMengembalikan nilai kebenaran apakah suatu set disjoint (saling lepas/tidak mengandung elemen yang sama) dengan set lainnya.\n",
    "- .issubset()\tMengembalikan nilai kebenaran apakah sebuah set merupakan subset dari set lainnya. Sebuah set A merupakan subset dari set B jika seluruh elemen dari set A merupakan bagian dari set B.\n",
    "- .issuperset()\tMengembalikan nilai kebenaran apakah sebuah set merupakan superset dari set lainnya. Sebuah set A merupakan superset dari set B jika seluruh elemen dari set B terkandung dalam set A.\n",
    "- .intersection()\tMengembalikan sebuah set yang merupakan intersection dari dua set lainnya.\n",
    "- .difference()\tMengembalikan sebuah set yang berisikan difference dari dua set lainnya. Difference dari sebuah set A berdasarkan set B adalah setiap elemen yang terdapat di set A tetapi tidak terdapat di set B.\n",
    "- .symmetric_difference()\tMengembalikan sebuah set yang berisikan symmetric difference dari dua set lainnya. Symmetric difference dari sebuah set A dan B adalah setiap elemen dari set A yang tidak terdapat di set B digabungkan dengan (union) setiap elemen dari set B yang tidak terdapat di set A.\n"
   ]
  },
  {
   "cell_type": "code",
   "execution_count": 2,
   "metadata": {},
   "outputs": [
    {
     "name": "stdout",
     "output_type": "stream",
     "text": [
      ">>> Fitur .union()\n",
      "{'Apel', 'Anggur', 'Jeruk'}\n",
      "{'Apel', 'Anggur', 'Melon', 'Kiwi', 'Jeruk'}\n",
      ">>> Fitur .isdisjoint()\n",
      "True\n",
      "False\n",
      ">>> Fitur .issubset()\n",
      "True\n",
      "False\n",
      ">>> Fitur .issuperset()\n",
      "True\n",
      "False\n",
      ">>> Fitur .intersection()\n",
      "{'Apel', 'Jeruk'}\n",
      ">>> Fitur .difference()\n",
      "{'Kiwi', 'Anggur', 'Melon'}\n",
      ">>> Fitur .symmetric_difference()\n",
      "{'Leci', 'Anggur', 'Melon', 'Semangka'}\n"
     ]
    }
   ],
   "source": [
    "# Fitur .union()\n",
    "print(\">>> Fitur .union()\")\n",
    "parcel1 = {'Anggur','Apel','Jeruk'}\n",
    "parcel2 = {'Apel','Kiwi','Melon'}\n",
    "parcel3 = parcel1.union(parcel2)\n",
    "print(parcel1)\n",
    "print(parcel3)\n",
    "\n",
    "# Fitur .isdisjoint()\n",
    "print(\">>> Fitur .isdisjoint()\")\n",
    "parcel1 = {'Anggur','Apel','Jeruk'}\n",
    "parcel2 = {'Kiwi','Melon','Pisang'}\n",
    "parcel3 = {'Apel','Srikaya','Semangka'}\n",
    "parcel1_parcel2_disjoint = parcel1.isdisjoint(parcel2)\n",
    "print(parcel1_parcel2_disjoint)\n",
    "parcel1_parcel3_disjoint = parcel1.isdisjoint(parcel3)\n",
    "print(parcel1_parcel3_disjoint)\n",
    "\n",
    "# Fitur .issubset()\n",
    "print(\">>> Fitur .issubset()\")\n",
    "parcel_A = {'Anggur', 'Apel'}\n",
    "parcel_B = {'Durian','Semangka','Apel'}\n",
    "parcel_C = {'Anggur', 'Kiwi', 'Apel', 'Jeruk', 'Melon'}\n",
    "parcel_A_dalam_C = parcel_A.issubset(parcel_C)\n",
    "parcel_B_dalam_C = parcel_B.issubset(parcel_C)\n",
    "print(parcel_A_dalam_C)\n",
    "print(parcel_B_dalam_C)\n",
    "\n",
    "# Fitur .issuperset()\n",
    "print(\">>> Fitur .issuperset()\")\n",
    "parcel_C_mengandung_A = parcel_C.issuperset(parcel_A)\n",
    "parcel_C_mengandung_B = parcel_C.issuperset(parcel_B)\n",
    "print(parcel_C_mengandung_A)\n",
    "print(parcel_C_mengandung_B)\n",
    "\n",
    "# Fitur .intersection()\n",
    "print(\">>> Fitur .intersection()\")\n",
    "parcel_A = {'Anggur', 'Kiwi', 'Apel', 'Jeruk', 'Melon'}\n",
    "parcel_B = {'Apel', 'Jeruk', 'Semangka', 'Durian', 'Tomat'}\n",
    "parcel_C = parcel_A.intersection(parcel_B)\n",
    "print(parcel_C)\n",
    "\n",
    "# Fitur .difference()\n",
    "print(\">>> Fitur .difference()\")\n",
    "parcel_C = parcel_A.difference(parcel_B)\n",
    "print(parcel_C)\n",
    "\n",
    "# Fitur .symmetric_difference()\n",
    "print(\">>> Fitur .symmetric_difference()\")\n",
    "parcel_A = {'Anggur', 'Apel', 'Jeruk', 'Melon'}\n",
    "parcel_B = {'Apel','Jeruk','Semangka','Leci'}\n",
    "parcel_C = parcel_A.symmetric_difference(parcel_B)\n",
    "print(parcel_C)\n"
   ]
  },
  {
   "cell_type": "code",
   "execution_count": 3,
   "metadata": {},
   "outputs": [
    {
     "name": "stdout",
     "output_type": "stream",
     "text": [
      "{'Durian'}\n"
     ]
    }
   ],
   "source": [
    "ser_buah1 = {'jeruk','apel','anggur'}\n",
    "set_buah2 = set_buah1\n",
    "set_buah1.clear()\n",
    "set_buah2.add('Durian')\n",
    "print(set_buah1)"
   ]
  },
  {
   "cell_type": "markdown",
   "metadata": {},
   "source": [
    "## Dictionary Manipulation\n",
    "Fitur\tKeterangan\n",
    "- .clear()\tMenghapus seluruh elemen dalam sebuah dictionary\n",
    "- .copy()\tMengembalikan copy dari setiap elemen dalam set. Serupa dengan fitur copy() pada tipe data collections lainnya, fitur copy() tidak akan mengubah nilai dari elemen asal seperti fungsi assignment.\n",
    "- .keys()\tMengembalikan list dari seluruh kunci akses (\"key\") dari setiap elemen dalam sebuah dictionary\n",
    "- .values()\tMengembalikan list dari seluruh nilai (\"value\") dari setiap elemen dalam sebuah dictionary\n",
    "- .update()\tMenambahkan kunci akses (\"key\") dan nilai baru (\"value\") ke dalam sebuah dictionary.\n"
   ]
  },
  {
   "cell_type": "code",
   "execution_count": 4,
   "metadata": {},
   "outputs": [
    {
     "name": "stdout",
     "output_type": "stream",
     "text": [
      ">>> Fitur .clear()\n",
      "{}\n",
      ">>> Fitur .copy()\n",
      "{'nama': 'Aksara', 'nik': '1211011', 'pekerjaan': 'Data Analyst'}\n",
      "{'nama': 'Senja', 'nik': '1211056', 'pekerjaan': 'Data Analyst'}\n",
      ">>> Fitur .keys()\n",
      "['nama', 'nik', 'pekerjaan']\n",
      ">>> Fitur .values()\n",
      "['Aksara', '1211011', 'Data Analyst']\n",
      ">>> Fitur .update()\n",
      "{'nama': 'Aksara', 'nik': '1211011', 'pekerjaan': 'Data Analyst', 'skillset': ['Python', 'R']}\n"
     ]
    }
   ],
   "source": [
    "# Fitur .clear()\n",
    "print(\">>> Fitur .clear()\")\n",
    "info_karyawan = {'nama' : 'Aksara',\n",
    "                 'nik' : '1211011',\n",
    "                 'pekerjaan' : 'Data Analyst'}\n",
    "info_karyawan.clear()\n",
    "print(info_karyawan)\n",
    "\n",
    "# Fitur .copy()\n",
    "print(\">>> Fitur .copy()\")\n",
    "info_karyawan1 = {'nama' : 'Aksara',\n",
    "                  'nik' : '1211011',\n",
    "                  'pekerjaan' : 'Data Analyst'}\n",
    "info_karyawan2 = info_karyawan1.copy()\n",
    "info_karyawan2['nama'] = 'Senja'\n",
    "info_karyawan2['nik'] = '1211056'\n",
    "print(info_karyawan1)\n",
    "print(info_karyawan2)\n",
    "\n",
    "# Fitur .keys()\n",
    "print(\">>> Fitur .keys()\")\n",
    "info_karyawan = {'nama' : 'Aksara',\n",
    "                 'nik' : '1211011',\n",
    "                 'pekerjaan' : 'Data Analyst'}\n",
    "kunci_akses = list(info_karyawan.keys())\n",
    "print(kunci_akses)\n",
    "\n",
    "# Fitur .values()\n",
    "print(\">>> Fitur .values()\")\n",
    "value_dict = list(info_karyawan.values())\n",
    "print(value_dict)\n",
    "\n",
    "# Fitur .update()\n",
    "print(\">>> Fitur .update()\")\n",
    "info_karyawan.update({'skillset':['Python', 'R']})\n",
    "print(info_karyawan)\n"
   ]
  },
  {
   "cell_type": "markdown",
   "metadata": {},
   "source": [
    "## Useful Tips and Tricks\n",
    "Untuk menentukan berapa jumlah data yang tersimpan di setiap elemen pada tuple/list, aku dapat menggunakan fungsi buit-in \n",
    "#### len(). "
   ]
  },
  {
   "cell_type": "code",
   "execution_count": 5,
   "metadata": {},
   "outputs": [
    {
     "name": "stdout",
     "output_type": "stream",
     "text": [
      ">>> Tuple\n",
      "4\n",
      ">>> List\n",
      "4\n",
      ">>> Konversi tipe data\n",
      "{'Markisa', 'Apel', 'Jeruk'}\n",
      "['Apel', 'Jeruk', 'Markisa']\n"
     ]
    }
   ],
   "source": [
    "# Tuple\n",
    "print(\">>> Tuple\")\n",
    "tuple_menu = ('Gado-gado','Ayam Goreng','Rendang','Ketoprak')\n",
    "jumlah_menu = len(tuple_menu)\n",
    "print(jumlah_menu)\n",
    "\n",
    "# List\n",
    "print(\">>> List\")\n",
    "list_menu = ['Gado-gado','Ayam Goreng','Rendang','Ketoprak']\n",
    "jumlah_menu = len(list_menu)\n",
    "print(jumlah_menu)\n",
    "\n",
    "# Konversi tipe data\n",
    "print(\">>> Konversi tipe data\")\n",
    "list_buah = ['Apel', 'Apel', 'Jeruk', 'Markisa', 'Jeruk', 'Markisa', 'Apel']\n",
    "set_buah = set(list_buah)\n",
    "print(set_buah)\n",
    "list_buah = list(set_buah)\n",
    "list_buah.sort()\n",
    "print(list_buah)\n"
   ]
  },
  {
   "cell_type": "markdown",
   "metadata": {},
   "source": [
    "## Tugas Praktek\n",
    "Dari variabel keuangan, aku akan menghitung rata-rata pengeluaran dan pemasukanku selama 9 bulan terakhir. Semoga keuanganku sehat-sehat saja. "
   ]
  },
  {
   "cell_type": "code",
   "execution_count": 8,
   "metadata": {},
   "outputs": [
    {
     "name": "stdout",
     "output_type": "stream",
     "text": [
      "2.8277777777777775\n",
      "7.8999999999999995\n"
     ]
    }
   ],
   "source": [
    "keuangan = {\n",
    "'pengeluaran': [2, 2.5, 2.25, 2.5, 3.2, 2.5, 3.5, 4, 3],\n",
    "'pemasukan': [7.8, 7.5, 9, 7.6, 7.2, 7.5, 7, 10, 7.5]\n",
    "}\n",
    "# Perhitungan rata-rata pemasukan dan rata-rata pengeluaran\n",
    "total_pengeluaran = 0\n",
    "total_pemasukan = 0\n",
    "for biaya in keuangan['pengeluaran']: \n",
    "    total_pengeluaran += biaya\n",
    "for biaya in keuangan['pemasukan']: \n",
    "    total_pemasukan += biaya\n",
    "rata_rata_pengeluaran = total_pengeluaran/len(keuangan['pengeluaran'])  \n",
    "rata_rata_pemasukan = total_pemasukan/len(keuangan['pemasukan']) \n",
    "print(rata_rata_pengeluaran) \n",
    "print(rata_rata_pemasukan)\n"
   ]
  },
  {
   "cell_type": "markdown",
   "metadata": {},
   "source": [
    "### Tinjauan Ulang String pada Python\n",
    "Seperti yang telah aku pelajari pada bab sebelumnya, layaknya general-purpose programming language lainnya, Python mengizinkan aku untuk mengolah berbagai berbagai tipe data, tak terkecuali tipe data text. Dalam Python, tipe data text dapat aku deklarasikan sebagai sebuah string dengan mengapitnya menggunakan tanda kutip satu ataupun tanda kutip dua. Sebagai contoh:"
   ]
  },
  {
   "cell_type": "code",
   "execution_count": 10,
   "metadata": {},
   "outputs": [
    {
     "name": "stdout",
     "output_type": "stream",
     "text": [
      "Sepatu Niko\n",
      "Busana Pria\n"
     ]
    }
   ],
   "source": [
    "nama_produk = \"Sepatu Niko\"\n",
    "kategori_produk = 'Busana Pria'\n",
    "print(nama_produk)\n",
    "print(kategori_produk)"
   ]
  },
  {
   "cell_type": "markdown",
   "metadata": {},
   "source": [
    "cara diatas adalah dua cara yang valid untuk mendeklarasikan variabel dengan bertipe string. kemudian, untuk mendeklarasikan tipe data string kedalam beberapa baris, aku dapat melakukannya dengan  mengapitnya dengan tanda kutip satu maupun tanda kutip dua sebanyak 6 kali (3 kali dibagian awal dan 3 dibagian bawah)"
   ]
  },
  {
   "cell_type": "code",
   "execution_count": 11,
   "metadata": {},
   "outputs": [
    {
     "name": "stdout",
     "output_type": "stream",
     "text": [
      "\n",
      "cara diatas adalah dua cara yang valid untuk mendeklarasikan variabel dengan bertipe string. kemudian, untuk mendeklarasikan tipe data string kedalam beberapa baris, aku dapat melakukannya dengan mengapitnya dengan tanda kutip satu maupun tanda kutip dua sebanyak 6 kali\n"
     ]
    }
   ],
   "source": [
    "deskripsi_produk = '''\n",
    "cara diatas adalah dua cara yang valid untuk mendeklarasikan variabel dengan bertipe string. kemudian, untuk mendeklarasikan tipe data string kedalam beberapa baris, aku dapat melakukannya dengan mengapitnya dengan tanda kutip satu maupun tanda kutip dua sebanyak 6 kali'''\n",
    "print(deskripsi_produk)"
   ]
  },
  {
   "cell_type": "markdown",
   "metadata": {},
   "source": [
    "### Apa itu String Manipulation?\n",
    "Aku belajar bahwa String manipulation adalah teknik yang digunakan dalam memanipulasi data yang disimpan dalam tipe data str. Pada bahasa Python, untuk mempermudah proses pengolahan data, tipe data string dapat diperlakukan layaknya seperti tipe data list.\n",
    "\n",
    "#### Tugas:\n",
    "Aku mengikuti contoh yang diberikan dengan mengetik syntax pada live code editor untuk memahami bagaimana String Manipulation bekerja pada Python.\n",
    "- akan menghasilkan output: SePatu NiKo\n",
    "- akan menghasilkan output: SePatu\n",
    "- akan menghasilkan output: NiKo\n",
    "- akan menghasilkan output: 11\n",
    "- Catatan: fungsi built-in len() juga dapat digunakan untuk menentukan jumlah karakter pada variabel bertipe string yang dimiliki.\n"
   ]
  },
  {
   "cell_type": "code",
   "execution_count": 18,
   "metadata": {},
   "outputs": [
    {
     "name": "stdout",
     "output_type": "stream",
     "text": [
      "SePatu NiKo\n",
      "SePatu \n",
      "NiKo\n",
      "11\n"
     ]
    }
   ],
   "source": [
    "nama_produk = 'Sepatu niko'\n",
    "nama_produk = nama_produk[:2] + 'P' + nama_produk[3:7]+'N'+ nama_produk[-3]+'K'+nama_produk[-1]\n",
    "print(nama_produk)\n",
    "print(nama_produk[:7])\n",
    "print(nama_produk[7:])\n",
    "print(len(nama_produk))"
   ]
  },
  {
   "cell_type": "markdown",
   "metadata": {},
   "source": [
    "## Operator \"+\" Untuk Tipe Data String\n",
    "Setelah aku mempelajari String Manipulation, sekarang aku beralih ke Operator “+”. Operator + pada dua string akan secara otomatis menggabungkan kedua string tersebut. Operator + juga dapat digunakan untuk menambahkan beberapa string secara  sekaligus.\n",
    "Aku mengikuti contoh yang diberikan dengan mengetik syntax pada live code editor untuk memahami bagaimana Operation “+” bekerja pada Python.\n",
    "\n",
    "### Tugas 1:\n",
    "akan menghasilkan output: John Doee\n",
    "\n",
    "### Tugas 2:\n",
    "Selanjutnya aku mencoba mengetik kode berikut di live code editor pada baris berikutnya\n",
    "akan menghasilkan output: Hi, saya John Doee umur 27 tahun, tinggal di Jl. Anggrek No. 100.\n"
   ]
  },
  {
   "cell_type": "code",
   "execution_count": 24,
   "metadata": {},
   "outputs": [
    {
     "name": "stdout",
     "output_type": "stream",
     "text": [
      "John Doee\n",
      "John Doee\n",
      "Hi, saya John Doee umur 27 tahun, tinggal diJl. Anggrek No. 100.\n"
     ]
    }
   ],
   "source": [
    "# operator +\n",
    "nama_depan = 'John'\n",
    "nama_belakang = 'Doee'\n",
    "print(nama_depan +' '+ nama_belakang)\n",
    "\n",
    "#contoh 2\n",
    "nama_depan1 = 'John'\n",
    "nama_belakang2 = 'Doee'\n",
    "nama_lengkap = nama_depan1 +' '+ nama_belakang2\n",
    "print(nama_lengkap)\n",
    "umur = '27 tahun'\n",
    "alamat = 'Jl. Anggrek No. 100'\n",
    "nama_umur_alamat = 'Hi, saya ' + nama_lengkap + ' umur ' + umur + ', tinggal di' + alamat + '.'\n",
    "print(nama_umur_alamat)\n"
   ]
  },
  {
   "cell_type": "markdown",
   "metadata": {},
   "source": [
    "### Menghilangkan Spasi di Awal dan/atau di akhir\n",
    "Sekarang aku akan mempelajari bagaimana menghilangkan kelebihan spasi yang dimiliki di awal dan/atau di akhir variabel string. Pertama, aku melihat fitur yang diberikan pada tabel contoh.\n",
    "Fitur\tKeterangan\n",
    "- .strip()\tMenghilangkan kelebihan spasi pada awal dan akhir string.\n",
    "- .lstrip()\tMenghilangkan kelebihan spasi pada awal string.\n",
    "- .rstrip()\tMenghilangkan kelebihan spasi pada akhir string.\n"
   ]
  },
  {
   "cell_type": "code",
   "execution_count": 29,
   "metadata": {},
   "outputs": [
    {
     "name": "stdout",
     "output_type": "stream",
     "text": [
      ">>> Fitur .strip()\n",
      "halo,selamat siang!\n",
      ">>> Fitur .lstrip()\n",
      "halo, selamat siang!   \n",
      ">>> Fitur .rstrip()\n",
      "halo,selamat siang!\n"
     ]
    }
   ],
   "source": [
    "# Fitur .strip()\n",
    "print('>>> Fitur .strip()')\n",
    "kata_sambutan = ' halo,selamat siang!   '\n",
    "kata_sambutan = kata_sambutan.strip()\n",
    "print(kata_sambutan)\n",
    "\n",
    "# Fitur .lstrip()\n",
    "print('>>> Fitur .lstrip()')\n",
    "kata_sambutan = ' halo, selamat siang!   '\n",
    "kata_sambutan = kata_sambutan.lstrip()\n",
    "print(kata_sambutan)\n",
    "\n",
    "# Fitur .rstrip()\n",
    "print(\">>> Fitur .rstrip()\")\n",
    "kata_sambutan = ' halo, selamat siang!   '\n",
    "kata_sambutan = kata_Sambutan.rstrip()\n",
    "print(kata_sambutan) "
   ]
  },
  {
   "cell_type": "markdown",
   "metadata": {},
   "source": [
    "### Merubah Caps pada String\n",
    "Pada bagian ini, aku akan mempelajari cara merubah caps (penggunaan huruf besar dan kecil). Jika diawal kalimat pada suatu string yang dimiliki belum berupa huruf kapital maka dengan menggunakan fitur .capitalize() kita dengan mudah merubah string tersebut menjadi kalimat yang benar secara bahasa.\n",
    "\n",
    "Fitur\tKeterangan\n",
    "- .capitalize()\tMengubah elemen pertama dari string menjadi huruf kapital.\n",
    "- .lower()\tMengubah seluruh huruf dalam teks (string) menjadi huruf kecil\n",
    "- .upper()\tMengubah seluruh huruf dalam teks (string) menjadi huruf besar\n"
   ]
  },
  {
   "cell_type": "code",
   "execution_count": 30,
   "metadata": {},
   "outputs": [
    {
     "name": "stdout",
     "output_type": "stream",
     "text": [
      ">>> Fitur .capitalize()\n",
      "Belajar bahasa python\n",
      ">>> Fitur .lower()\n",
      "belajar bahasa python.\n",
      ">>> Fitur .upper()\n",
      "BELAJAR BAHASA PYTHON.\n"
     ]
    }
   ],
   "source": [
    "# Fitur .capitalize()\n",
    "print(\">>> Fitur .capitalize()\")\n",
    "judul_buku = 'belajar bahasa Python'\n",
    "print(judul_buku.capitalize())\n",
    "\n",
    "# Fitur .lower()\n",
    "print(\">>> Fitur .lower()\")\n",
    "judul_buku = 'Belajar Bahasa PYTHON.'\n",
    "print(judul_buku.lower())\n",
    "\n",
    "# Fitur .upper()\n",
    "print(\">>> Fitur .upper()\")\n",
    "judul_buku = 'Belajar Bahasa PYTHON.'\n",
    "print(judul_buku.upper())\n"
   ]
  },
  {
   "cell_type": "markdown",
   "metadata": {},
   "source": [
    "#### Pemecahan, Penggabunan dan Penggantian String\n",
    "Pada bagian ini, aku akan mempelajari bagaimana cara memecah suatu string dengan kondisi tertentu sehingga menghasilkan list of string. Kemudian, akan dipelajari bagaimana cara menggabungkan beberapa list of string menjadi string saja. Akhirnya, aku akan mengganti sub-string tertentu dengan sub-string lainnya sehingga merubah string awalnya.\n",
    "\n",
    "Fitur\tKeterangan\n",
    "- .split()\tMemecah sebuah string berdasarkan string lainnya ke dalam sebuah list.\n",
    "- .join()\tMenggabungkan sebuah list yang berisikan string berdasarkan sebuah string yang telah didefinisikan.\n",
    "- .replace()\tMenggantikan kemunculan suatu string tertentu dengan string lainnya dalam sebuah string.\n"
   ]
  },
  {
   "cell_type": "code",
   "execution_count": 33,
   "metadata": {},
   "outputs": [
    {
     "name": "stdout",
     "output_type": "stream",
     "text": [
      ">>> Fitur .split()\n",
      "['ani ', ' budi ', ' wati ', ' johan']\n",
      "['ani', 'dan', 'budi', 'dan', 'wati', 'dan', 'johan']\n",
      ">>> Fitur .join()\n",
      "Ricky dan Peter dan Jordan\n",
      ">>> Fitur .replace()\n",
      "jeruk malang jeruk yang paling segar, jeruk sehat, jeruk nikmat\n"
     ]
    }
   ],
   "source": [
    "# Fitur .split()\n",
    "print(\">>> Fitur .split()\")\n",
    "bilangan = \"ani dan budi dan wati dan johan\"\n",
    "karakter = bilangan.split(\"dan\")\n",
    "print(karakter)\n",
    "kata = bilangan.split(\" \")\n",
    "print(kata)\n",
    "\n",
    "# Fitur .join()\n",
    "print(\">>> Fitur .join()\")\n",
    "pemisah = \" dan \"\n",
    "karakter = [\"Ricky\", \"Peter\", \"Jordan\"]\n",
    "kalimat = pemisah.join(karakter)\n",
    "print(kalimat)\n",
    "\n",
    "# Fitur .replace()\n",
    "print(\">>> Fitur .replace()\")\n",
    "kalimat = \"apel malang apel yang paling segar, apel sehat, apel nikmat\"\n",
    "kalimat = kalimat.replace(\"apel\", \"jeruk\")\n",
    "print(kalimat)\n"
   ]
  },
  {
   "cell_type": "markdown",
   "metadata": {},
   "source": [
    "### Menentukan Posisi dan Jumlah Sub-string pada string\n",
    "Pada bagian ini, aku akan mempelajari bagaimana cara menentukan posisi awal suatu sub-string dan jumlah kemunculan sub-string tersebut pada suatu string. Agar lebih memahami bagaimana penerapannya pada Python.\n",
    "\n",
    "Fitur\tKeterangan\n",
    "- .find()\tMengembalikan posisi dari sebuah teks (sub-string) lainnya dalam sebuah string.\n",
    "- .count()\tMenghitung jumlah kemunculan sebuah teks (string) lainnya dalam suatu string (string yang dicari bersifat case sensitive).\n"
   ]
  },
  {
   "cell_type": "code",
   "execution_count": 35,
   "metadata": {},
   "outputs": [
    {
     "name": "stdout",
     "output_type": "stream",
     "text": [
      ">>> Fitur .find()\n",
      "0\n",
      "5\n",
      ">>> Fitur .count()\n",
      "3\n"
     ]
    }
   ],
   "source": [
    "teks = 'Apel malang adalah apel termanis dibanding apel-apel lainnya'\n",
    "\n",
    "# Fitur find()\n",
    "print('>>> Fitur .find()')\n",
    "print(teks.find('Apel'))# hasil output 0,karena awal kalimat \n",
    "print(teks.find('malang'))# hasil output 5, karena kata malang muncul dimulai dari indeks ke-5 \n",
    "\n",
    "# Fitur .count()\n",
    "print('>>> Fitur .count()')\n",
    "kemunculan_kata_apel = teks.count('apel')\n",
    "print(kemunculan_kata_apel)"
   ]
  },
  {
   "cell_type": "markdown",
   "metadata": {},
   "source": [
    "### Menentukan String Apakah Diawali/Diakhiri oleh Sub-string\n",
    "Pada bagian ini, aku akan mempelajari bagaimana menentukan apakah suatu string diawali atau diakhiri dengan suatu substring (teks) tertentu.\n",
    "\n",
    "Fitur\tKeterangan\n",
    "- .startswith()\tMengembalikan nilai kebenaran True ketika sebuah teks (string) diawali dengan sebuah teks lainnya.\n",
    "- .endswith()\tMengembalikan nilai kebenaran True ketika sebuah teks (string) diakhiri dengan sebuah teks lainnya.\n"
   ]
  },
  {
   "cell_type": "code",
   "execution_count": 36,
   "metadata": {},
   "outputs": [
    {
     "name": "stdout",
     "output_type": "stream",
     "text": [
      ">>> Fitur .startswith()\n",
      "True\n",
      "False\n",
      ">>> Fitur .endswith()\n",
      "True\n",
      "False\n"
     ]
    }
   ],
   "source": [
    "# Fitur .startwith()\n",
    "print('>>> Fitur .startswith()')\n",
    "teks = 'Apel malang adalah apel termanis dibanding apel-apel lainnya'\n",
    "print(teks.startswith('Apel'))\n",
    "print(teks.startswith('apel'))\n",
    "\n",
    "# Fitur .endswith()\n",
    "print(\">>> Fitur .endswith()\")\n",
    "print(teks.endswith(\"lainnya\"))\n",
    "print(teks.endswith(\"apel\"))\n"
   ]
  },
  {
   "cell_type": "markdown",
   "metadata": {},
   "source": [
    "## Tugas Praktek\n",
    "Aku mengecek ponsel, sejak kukirimkan progress latihanku terakhir pada Senja, belum ada kabar. Senja memang tiba-tiba pergi dari mejanya tadi. Sedikit bosan, aku coba membuka-buka dokumen di laptop. Aku menemukan folder “LATIHAN” dan teringat kalau ada satu latihan kecil yang belum kukerjakan. “Mumpung lagi lowong, aku coba deh.”\n",
    "Aku mengeklik dokumen PENGOLAHAN DATA TEKS. Di dalamnya aku diminta untuk meneliti popularitas antara buah salak dan buah jeruk berdasarkan judul artikel yang muncul di majalah Buah Sehat. Aku mulai menyiapkan susunan kodeku:\n",
    "\n",
    "##### judul_artikel = [\n",
    "\"Buah Salak Baik untuk Mata\", \"Buah Salak Kaya Potasium\", \n",
    "\"Buah Jeruk Kaya Vitamin C\", \"Buah Salak Kaya Manfaat\", \n",
    "\"Salak Baik untuk Jantung\", \"Jeruk dapat Memperkuat Tulang\", \n",
    "\"Jeruk Mencegah Penyakit Asma\", \"Jeruk Memperkuat Gigi\", \n",
    "\"Jeruk Mencegah Kolesterol Jahat\", \"Salak Mencegah Diabetes\", \n",
    "\"Salak Memperkuat Dinding Usus\", \"Salak Baik untuk Darah\",\n",
    "\"Jeruk Kaya Manfaat untuk Jantung\", \"Salak si Kecil yang Baik\", \n",
    "\"Jeruk dan Salak Buah Kaya Manfaat\", \"Buah Jeruk Enak\",\n",
    "\"Tips Panen Jeruk Ribuan Kilo\", \"Tips Bertanam Salak\", \n",
    "\"Salak Manis untuk Berbuka\", \"Jeruk Baik untuk Wajah\"\n",
    "]\n",
    "\n",
    "#### Tugas:\n",
    "“Kalau mengikuti yang sudah kupelajari, langkah pertama adalah menghitung jumlah kemunculan kata jeruk dan salak di tiap judul artikel,” batinku.\n"
   ]
  },
  {
   "cell_type": "code",
   "execution_count": 40,
   "metadata": {},
   "outputs": [
    {
     "name": "stdout",
     "output_type": "stream",
     "text": [
      "10\n",
      "11\n"
     ]
    }
   ],
   "source": [
    "judul_artikel = [\n",
    "\"Buah Salak Baik untuk Mata\", \"Buah Salak Kaya Potasium\", \n",
    "\"Buah Jeruk Kaya Vitamin C\", \"Buah Salak Kaya Manfaat\", \n",
    "\"Salak Baik untuk Jantung\", \"Jeruk dapat Memperkuat Tulang\", \n",
    "\"Jeruk Mencegah Penyakit Asma\", \"Jeruk Memperkuat Gigi\", \n",
    "\"Jeruk Mencegah Kolesterol Jahat\", \"Salak Mencegah Diabetes\", \n",
    "\"Salak Memperkuat Dinding Usus\", \"Salak Baik untuk Darah\",\n",
    "\"Jeruk Kaya Manfaat untuk Jantung\", \"Salak si Kecil yang Baik\", \n",
    "\"Jeruk dan Salak Buah Kaya Manfaat\", \"Buah Jeruk Enak\",\n",
    "\"Tips Panen Jeruk Ribuan Kilo\", \"Tips Bertanam Salak\", \n",
    "\"Salak Manis untuk Berbuka\", \"Jeruk Baik untuk Wajah\"\n",
    "]\n",
    "jumlah_artikel_jeruk = 0\n",
    "jumlah_artikel_salak = 0\n",
    "for judul in judul_artikel:\n",
    "    if judul.count('Jeruk')>0:\n",
    "        jumlah_artikel_jeruk += 1\n",
    "    if judul.count('Salak')>0:\n",
    "        jumlah_artikel_salak += 1\n",
    "print(jumlah_artikel_jeruk)\n",
    "print(jumlah_artikel_salak)"
   ]
  },
  {
   "cell_type": "markdown",
   "metadata": {},
   "source": [
    "## Tugas Praktek\n",
    "Setelah selesai menghitung jumlah kemunculan kata, aku mencoba berpikir dari sudut pandang si pemilik majalah. Kalau aku jadi mereka, tentunya aku juga ingin tahu apakah kata yang muncul itu bermuatan positif atau tidak. Nah ini!\n",
    "\n",
    "#### Tugas:\n",
    "Dengan cepat, aku mendeklarasikan daftar bernama kata_positif yang berisi nuansa kata positif untuk menghitung jumlah kemunculan kata_positif bagi tiap artikel jeruk dan salak, seperti ini:"
   ]
  },
  {
   "cell_type": "code",
   "execution_count": 41,
   "metadata": {},
   "outputs": [
    {
     "name": "stdout",
     "output_type": "stream",
     "text": [
      "7\n",
      "5\n"
     ]
    }
   ],
   "source": [
    "judul_artikel = [\n",
    "\"Buah Salak Baik untuk Mata\", \"Buah Salak Kaya Potasium\",\n",
    "\"Buah Jeruk Kaya Vitamin C\", \"Buah Salak Kaya Manfaat\",\n",
    "\"Salak Baik untuk Jantung\", \"Jeruk dapat Memperkuat Tulang\",\n",
    "\"Jeruk Mencegah Penyakit Asma\", \"Jeruk Memperkuat Gigi\",\n",
    "\"Jeruk Mencegah Kolesterol Jahat\", \"Salak Mencegah Diabetes\",\n",
    "\"Salak Memperkuat Dinding Usus\", \"Salak Baik untuk Darah\",\n",
    "\"Jeruk Kaya Manfaat untuk Jantung\", \"Salak si Kecil yang Baik\",\n",
    "\"Jeruk dan Salak Buah Kaya Manfaat\", \"Buah Jeruk Enak\",\n",
    "\"Tips Panen Jeruk Ribuan Kilo\", \"Tips Bertanam Salak\",\n",
    "\"Salak Manis untuk Berbuka\", \"Jeruk Baik untuk Wajah\"\n",
    "]\n",
    "kata_positif = ['Kaya','Naik','Mencegah','Memperkuat']\n",
    "kata_positif_jeruk = 0\n",
    "kata_positif_salak = 0\n",
    "for judul in judul_artikel:\n",
    "    for kata in kata_positif:\n",
    "        if judul.count('Jeruk')>0 and judul.count(kata)>0:\n",
    "            kata_positif_jeruk += 1\n",
    "        if judul.count('Salak')>0 and judul.count(kata)>0:\n",
    "            kata_positif_salak += 1\n",
    "print(kata_positif_jeruk)\n",
    "print(kata_positif_salak)"
   ]
  },
  {
   "cell_type": "markdown",
   "metadata": {},
   "source": [
    "## Apa itu Function?\n",
    "Function adalah sebuah blok statemen yang hanya akan dijalankan saat ia dipanggil. Secara tidak sadar, selama proses belajar ini, aku telah mencoba menggunakan fungsi-fungsi dalam bahasa pemrograman Python.\n",
    "Fungsi len() untuk mengukur jumlah elemen dalam sebuah list dan fungsi print() untuk menampilkan pesan pada layar konsol merupakan contoh dari bentuk fungsi yang telah disediakan oleh bahasa pemrograman Python atau dengan kata lain built-in functions.\n",
    "Selain fungsi yang telah disediakan oleh Python, Python mengizinkan aku untuk mendeklarasikan fungsi dalam kode yang aku tuliskan yang dikenal dengan user defined function.\n",
    "\n",
    "- def nama_fungsi(argument):\n",
    "    - statement_1\n",
    "    - …\n",
    "    - statement_n\n",
    "    - return returned_value\n",
    "\n",
    "#### Aku menuliskan dalam catatanku:\n",
    "- nama_fungsi adalah nama untuk fungsi yang Anda definisikan, memiliki aturan seperti penamaan variabel\n",
    "- argument adalah variabel masukan ke fungsi, bisa tanpa variabel, satu variabel atau lebih\n",
    "- statement_1 … statement_n adalah algoritma yang telah Anda transfer dalam bahasa Python yang merupakan inti dari fungsi yang Anda definisikan. Seluruh statement adalah menjorok (indent) ke dalam seperti yang pernah Anda pelajari pada conditioning dan looping\n",
    "- return_value adalah variabel output dari fungsi Anda, bisa tanpa variabel, satu variabel atau lebih.\n"
   ]
  },
  {
   "cell_type": "markdown",
   "metadata": {},
   "source": [
    "### Fungsi Pertama\n",
    "Fungsi Pertama\n",
    "contoh_fungsi merupakan nama dari fungsi yang aku deklarasikan dan statemen-statemen di dalamnya disebut sebagai isi (body) dari fungsi.\n",
    "##### Tugas:\n",
    "Untuk menjalankan fungsi yang telah aku deklarasikan, aku dapat menuliskan potongan kode berikut dengan mengetiknya pada live code editor pada baris berikutnya.\n"
   ]
  },
  {
   "cell_type": "code",
   "execution_count": 42,
   "metadata": {},
   "outputs": [
    {
     "name": "stdout",
     "output_type": "stream",
     "text": [
      "Halo Dunia\n",
      "Aku sedang belajar bahasa python\n"
     ]
    }
   ],
   "source": [
    "# Definisikan fungsi\n",
    "def contoh_fungsi():\n",
    "    print('Halo Dunia')\n",
    "    print('Aku sedang belajar bahasa python')\n",
    "# Panggil fungsi yang telah didefinisikan\n",
    "contoh_fungsi()"
   ]
  },
  {
   "cell_type": "markdown",
   "metadata": {},
   "source": [
    "## Fungsi Kedua\n",
    "Sebuah fungsi dapat menerima serangkaian argumen pada bagian dalam kurung setelah nama fungsi telah aku definisikan.\n",
    "fungsi_dengan_argumen membutuhkan dua argumen (nama_depan, nama_belakang).\n",
    "Python akan menjalankan sebuah fungsi hanya ketika aku telah mensuplai jumlah argumen yang sesuai saat fungsi didefinisikan.\n",
    "\n",
    "#### Tugas:\n",
    "Ketik potongan kode berikut pada live code editor.\n",
    "pemanggilan fungsi fungsi_dengan_argumen(“John”, “Doe”) akan menghasilkan output:\n",
    "John Doe\n"
   ]
  },
  {
   "cell_type": "code",
   "execution_count": 47,
   "metadata": {},
   "outputs": [
    {
     "name": "stdout",
     "output_type": "stream",
     "text": [
      "John Doe\n"
     ]
    }
   ],
   "source": [
    "# Definiskan fungsi\n",
    "def fungsi_dengan_argumen(nama_Depan,nama_belakang):\n",
    "    print(nama_depan+\" \"+nama_belakang)\n",
    "# Panggil fungsi dengan memasukkan argumen\n",
    "# nama_depan yaitu 'John' dan nama_belakang 'Doe'\n",
    "fungsi_dengan_argumen(\"John\",\"Doe\")"
   ]
  },
  {
   "cell_type": "markdown",
   "metadata": {},
   "source": [
    "## Fungsi Ketiga\n",
    "Saat aku melakukan pemanggilan fungsi dengan jumlah argumen yang tidak sesuai, Python akan mengembalikan pesan error yang menyatakan bahwa terdapat argumen yang belum disuplai agar fungsi dapat dijalankan dengan baik.\n",
    "Contoh berikut ini adalah contoh pesan error yang akan dikembalikan oleh Python saat aku hanya mensuplai satu argumen saja untuk fungsi_dengan_argumen,\n",
    "\n",
    "#### Type Error: function fungsi_dengan_argumen() missing 1 required positional argument: nama_belakang\n",
    " \n",
    "Bahasa Python mengizinkan aku untuk memberikan suatu nilai default terkait dengan sebuah argumen dalam sebuah fungsi. Melalui fitur ini, suatu argumen dalam sebuah fungsi akan bersifat opsional.\n",
    "\n",
    "### Tugas 1:\n",
    "Aku mencoba mengetik potongan kode berikut dengan live code editor:\n",
    "\n",
    "Argumen nama_belakang menjadi bersifat opsional, saat fungsi dipanggil, jika argumen kedua tidak disuplai Python akan secara otomatis menset argumen nama_belakang menjadi string kosong - empty string (\"\").\n",
    "\n",
    "### Tugas 2:\n",
    "Aku mencoba mengetik potongan kode berikut dengan live code editor:\n",
    "Potongan kode berhasil dijalankan dan mengasilkan output: John\n",
    "\n",
    "### Tugas 3\n",
    "Aku mencoba mengetik potongan kode berikut dengan live code editor:\n",
    "Potongan kode berhasil dijalankan dan mengasilkan output: John Doe\n"
   ]
  },
  {
   "cell_type": "code",
   "execution_count": 49,
   "metadata": {},
   "outputs": [
    {
     "name": "stdout",
     "output_type": "stream",
     "text": [
      "John \n",
      "John Doe\n"
     ]
    }
   ],
   "source": [
    "# Definsikan fungsi dengan nilai default argument kedua adalah \"\".\n",
    "def fungsi_dengan_argumen(nama_depan, nama_belakang = \"\"):\n",
    "    print(nama_depan+\" \"+nama_belakang)\n",
    "# Panggil fungsi dengan memasukkan argumen nama_depan \"John\"\n",
    "fungsi_dengan_argumen(\"John\")\n",
    "# Panggil fungsi dengan memasukkan argumen\n",
    "# nama_depan yaitu \"John\" dan nama_belakang \"Doe\"\n",
    "fungsi_dengan_argumen(\"John\", \"Doe\")\n"
   ]
  },
  {
   "cell_type": "markdown",
   "metadata": {},
   "source": [
    "### Tugas: \n",
    "Aksara, pekerjaan terakhirmu baru bisa saya review sore nanti. Saat ini, kita sedang butuh bantuanmu untuk menentukan nilai rata-rata untuk data yang sudah saya buatkan dalam bentuk list of numeric bertipe int/float berikut ini. Tolong kirimkan hasilnya sebelum jam 3 siang. Terima kasih.\n",
    "#### data1 = [70, 70, 70, 100, 100, 100, 120, 120, 150, 150]\n",
    "dan\n",
    "#### data2 = [50, 60, 60, 50, 70, 70, 100, 80, 100, 90]\n",
    "Aku pun melirik jam dinding kantor. Masih ada satu setengah jam sebelum detlen. Harus segera dikebut! \n"
   ]
  },
  {
   "cell_type": "code",
   "execution_count": 51,
   "metadata": {},
   "outputs": [
    {
     "name": "stdout",
     "output_type": "stream",
     "text": [
      "Rata_rata_data1:\n",
      "105.0\n",
      "Rata_rata_data2:\n",
      "73.0\n"
     ]
    }
   ],
   "source": [
    "# Dua buah data yang tersimpan dalam tipe list\n",
    "data1 = [70, 70, 70, 100, 100, 100, 120, 120, 150, 150]\n",
    "data2 = [50, 60, 60, 50, 70, 70, 100, 80, 100, 90]\n",
    "# Definisikan fungsi hitung_rata_rata\n",
    "def hitung_rata_rata(data):\n",
    "    jumlah = 0\n",
    "    for item in data:\n",
    "        jumlah += item\n",
    "    rata_rata = jumlah/len(data)\n",
    "    return rata_rata\n",
    "# Hitung nilai rata-rata dari kedua data yang dimiliki\n",
    "print('Rata_rata_data1:')\n",
    "print(hitung_rata_rata(data1))\n",
    "print('Rata_rata_data2:')\n",
    "print(hitung_rata_rata(data2))"
   ]
  },
  {
   "cell_type": "markdown",
   "metadata": {},
   "source": [
    "## Tugas Praktek\n",
    "### Menghitung Standar Deviasi\n",
    "Aksara, yang kamu buat sudah cukup. Tolong buat satu fungsi untuk menghitung standar deviasi data dari data yang sudah saya berikan tadi (data dalam list of numeric bertipe int atau float).\n",
    "##### data1 = [70, 70, 70, 100, 100, 100, 120, 120, 150, 150]\n",
    "dan\n",
    "##### data2 = [50, 60, 60, 50, 70, 70, 100, 80, 100, 90]\n"
   ]
  },
  {
   "cell_type": "code",
   "execution_count": 55,
   "metadata": {},
   "outputs": [
    {
     "name": "stdout",
     "output_type": "stream",
     "text": [
      "Standar deviasi data1:\n",
      "11.067971810589327\n",
      "Standar deviasi data2:\n",
      "7.273238618387272\n"
     ]
    }
   ],
   "source": [
    "# Dua buah data yang tersimpan dalam tipe list\n",
    "data1 = [70, 70, 70, 100, 100, 100, 120, 120, 150, 150]\n",
    "data2 = [50, 60, 60, 50, 70, 70, 100, 80, 100, 90]\n",
    "# Fungsi rata-rata data\n",
    "def hitung_rata_rata(data):\n",
    "    jumlah = 0\n",
    "    for item in data:\n",
    "        jumlah += item\n",
    "    rata_rata = jumlah/len(data)\n",
    "    return rata_rata\n",
    "\n",
    "# Definisikan fungsi hitung_standar_deviasi\n",
    "def hitung_standar_deviasi(data):\n",
    "    rata_rata_data = hitung_rata_rata(data)\n",
    "    varians = 0\n",
    "    for item in data:\n",
    "        varians += (item - rata_rata_data) ** 2\n",
    "        varians /= len(data)\n",
    "        standar_deviasi = varians ** (1/2)\n",
    "        return standar_deviasi\n",
    "\n",
    "# Hitung nilai standar deviasi dari kedua data yang dimiliki\n",
    "print('Standar deviasi data1:')\n",
    "print(hitung_standar_deviasi(data1))\n",
    "print('Standar deviasi data2:')\n",
    "print(hitung_standar_deviasi(data2))"
   ]
  },
  {
   "cell_type": "markdown",
   "metadata": {},
   "source": [
    "## Tugas Praktek\n",
    "### Menghitung Rata-Rata dan Standard Deviasi\n",
    "“Oh ya, Aksara sebelum kamu pulang bisa tolong buatkan fungsi baru lagi? Kali ini untuk menentukan nilai-rata dan standar deviasi dari data di tabel. Nanti aku kasih data di tabelnya ya.” Senja langsung menarik bangku ke sebelahku dan membuka laptop.\n",
    "Ia menunjukkan data di tabelnya seperti ini:\n",
    "\n",
    "- Luas Tanah (dalam m2)\tLuas Bangunan (dalam m2)\tJarak ke Pusat Kota (dalam km)\tHarga (dalam ratus juta)\n",
    "- 70\t50\t15\t500\n",
    "- 70\t60\t30\t400\n",
    "- 70\t60\t55\t300\n",
    "- 100\t50\t30\t700\n",
    "- 100\t70\t25\t1000\n",
    "- 100\t70\t50\t650\n",
    "- 120\t100\t20\t2000\n",
    "- 120\t80\t50\t1200\n",
    "- 150\t100\t50\t1800\n",
    "- 150\t90\t15\t3000\n",
    "\n",
    "### Tugas:\n",
    "dari data ini, berarti aku harus menjalankan fungsi baru dengan nama variabel deksripsi_properti. Aku pun mengangkat jempol pada Senja seakan bilang, serahkan padaku.\n",
    "Setelah kupelajari kembali, data ini sebenarnya telah direpresentasikan ke dalam dict dengan nama tabel_properti, kalau begitu, aku bisa mulai kodeku seperti berikut ini.\n",
    "\n"
   ]
  },
  {
   "cell_type": "code",
   "execution_count": 66,
   "metadata": {},
   "outputs": [
    {
     "name": "stdout",
     "output_type": "stream",
     "text": [
      "Rata-rata luas_tanah:\n",
      "105.0\n",
      "Standar deviasi luas_tanah:\n",
      "14.93311056335886\n",
      "\n",
      "Rata-rata luas_bangunan:\n",
      "73.0\n",
      "Standar deviasi luas_bangunan:\n",
      "6.025948374480153\n",
      "\n",
      "Rata-rata jarak:\n",
      "34.0\n",
      "Standar deviasi jarak:\n",
      "6.24005184770928\n",
      "\n",
      "Rata-rata harga:\n",
      "1155.0\n",
      "Standar deviasi harga:\n",
      "587.0594351517378\n",
      "\n"
     ]
    }
   ],
   "source": [
    "# Data properti\n",
    "tabel_properti = {\n",
    "'luas_tanah': [70, 70, 70, 100, 100, 100, 120, 120, 150, 150],\n",
    "'luas_bangunan': [50, 60, 60, 50, 70, 70, 100, 80, 100, 90],\n",
    "'jarak': [15, 30, 55, 30, 25, 50, 20, 50, 50, 15],\n",
    "'harga': [500, 400, 300, 700, 1000, 650, 2000, 1200, 1800, 3000]\n",
    "}\n",
    "# Fungsi rata-rata data\n",
    "def hitung_rata_rata(data):\n",
    "    jumlah = 0\n",
    "    for item in data:\n",
    "        jumlah += item\n",
    "        rata_rata = jumlah/len(data)\n",
    "    return rata_rata\n",
    "# Fungsi hitung_standar_deviasi\n",
    "def hitung_standar_deviasi(data):\n",
    "    rata_rata_data = hitung_rata_rata(data)\n",
    "    varians = 0\n",
    "    for item in data:\n",
    "        varians += (item - rata_rata_data) ** 2\n",
    "        varians /= len(data)\n",
    "        standar_deviasi = varians ** (1/2)\n",
    "    return standar_deviasi\n",
    "# Definisikan fungsi untuk menghitung rata-rata dan standar deviasi\n",
    "# setiap kolom pada tabel_properti yang diberikan oleh key dict.\n",
    "def deskripsi_properti(tabel):\n",
    "    for key in tabel.keys():\n",
    "        print('Rata-rata ' + key + ':')\n",
    "        print(hitung_rata_rata(tabel[key]))\n",
    "        print('Standar deviasi ' + key + ':')\n",
    "        print(hitung_standar_deviasi(tabel[key]))\n",
    "        print('')\n",
    "# Panggil fungsi deskripsi_properti untuk menghitung rata-rata\n",
    "# dan standar deviasi setiap kolom pada tabel_properti\n",
    "deskripsi_properti(tabel_properti)\n",
    "\n"
   ]
  },
  {
   "cell_type": "markdown",
   "metadata": {},
   "source": [
    "## Manipulasi Berkas Teks\n",
    "Pengolahan berkas teks pada Python tidak membutuhkan proses import dependencies lainnya seperti pada bahasa-bahasa pemrograman lainnya. Untuk memanipulasi berkas teks pada bahasa pemrograman Python, mula-mula, aku harus membuka/ membuat berkas teks yang aku inginkan dengan menggunakan fungsi open(). Fungsi open() menerima 2 parameter, di mana parameter pertama merupakan nama dari file yang ingin dibuka/ dibuat dan mode yang berkaitan dengan aksi yang ingin dilakukan terhadap file yang telah terbuka. Sebagai contoh,\n",
    "\n",
    "##### file = open(\"hello.txt\", \"r\")\n",
    "\n",
    "argumen/ parameter \"r\" mengartikan bahwa file yang akan dibuka berada dalam mode “read” sehingga nantinya aku tidak dapat menambahkan/ menuliskan ulang isi tulisan dari file “hello.txt”.\n",
    "Perintah ini dapat digunakan untuk menutup file yang telah aku buka.\n",
    "##### file.close()\n",
    " \n",
    "Aku juga belajar, selain mode \"r\" yang hanya digunakan untuk membaca file, terdapat juga mode lainnya seperti:\n",
    "1.\tw: write, mode ini dapat aku gunakan untuk menulis ke dalam sebuah berkas teks, jika berkas tidak tersedia, maka Python akan secara otomatis membuat sebuah berkas baru dengan nama yang telah di spesifikasikan. Saat menulis dengan menggunakan mode ini, jika file semula tidak kosong, maka isi yang sebelumnya terdapat di dalam berkas akan terhapus.\n",
    "2.\ta: append, mode ini dapat aku gunakan untuk menambahkan isi dari sebuah berkas teks. Mode ini juga akan membuat sebuah berkas teks baru dengan nama yang telah kita spesifikasikan jika berkas teks tidak tersedia.\n",
    "3.\tw+: write+, mode ini dapat aku gunakan untuk membaca ataupun menuliskan isi dari sebuah berkas teks.\n",
    "4.\ta+: append+, mode ini dapat aku gunakan untuk  membaca ataupun menambahkan isi dari sebuah berkas teks.\n"
   ]
  },
  {
   "cell_type": "markdown",
   "metadata": {},
   "source": [
    "## Membaca Berkas Teks - Part 1\n",
    "### .read() and .readline()\n",
    "Setelah mempelajari bagaimana membuka/ membuat sebuah berkas teks dalam Python, aku akan mempelajari sintaks untuk dapat membaca isi dari sebuah berkas. Untuk membaca isi dari sebuah teks aku dapat menggunakan potongan kode berikut.Aku akan mengasumsikan baris-baris di bawah comment merupakan isi dari “hello.txt”"
   ]
  },
  {
   "cell_type": "code",
   "execution_count": 7,
   "metadata": {},
   "outputs": [
    {
     "name": "stdout",
     "output_type": "stream",
     "text": [
      ">>> Membaca file hello.txt dengan fungsi read()\n",
      "Kita sedang belajar Python\n",
      "Tepatnya belajar memanipulasi berkas teks\n",
      "Memanipulasi berkas dengan Python sangatlah mudah!\n",
      "\n",
      ">>> Membaca file hello.txt dengan fungsi readline()\n",
      "Kita sedang belajar Python\n",
      "\n",
      "Tepatnya belajar memanipulasi berkas teks\n",
      "\n"
     ]
    }
   ],
   "source": [
    "# Membaca file hello.txt dengan fungsi read()\n",
    "print(\">>> Membaca file hello.txt dengan fungsi read()\")\n",
    "file = open(\"hello.txt\", \"r\")\n",
    "content = file.read()\n",
    "file.close()\n",
    "print(content)\n",
    "\n",
    "# Membaca file hello.txt dengan fungsi readline()\n",
    "print(\">>> Membaca file hello.txt dengan fungsi readline()\")\n",
    "file = open(\"hello.txt\", \"r\")\n",
    "first_line = file.readline()\n",
    "second_line = file.readline()\n",
    "file.close()\n",
    "print(first_line)\n",
    "print(second_line)"
   ]
  },
  {
   "cell_type": "markdown",
   "metadata": {},
   "source": [
    "Selain dapat membaca dan menampung isi dari sebuah berkas secara sekaligus menggunakan fungsi read(), aku juga dapat menggunakan fungsi readline() ataupun readlines() untuk membaca isi dari suatu berkas teks. Dengan menggunakan fungsi readline(), Python akan membaca konten dari sebuah berkas secara baris per baris, dimulai dari baris paling awal."
   ]
  },
  {
   "cell_type": "markdown",
   "metadata": {},
   "source": [
    "## Membaca Berkas Teks - Part 2\n",
    "### .readlines()\n",
    "- Fungsi readlines() akan mengembalikan sebuah list yang setiap elemennya merupakan setiap baris dalam sebuah berkas teks. \n",
    "- Selain menggunakan fungsi-fungsi standar yang telah disediakan oleh Python, aku juga dapat membaca isi dari sebuah file secara baris per baris dengan menggunakan for loops. Simaklah contoh berikut ini dengan tetap membaca file dari “hello.txt”"
   ]
  },
  {
   "cell_type": "code",
   "execution_count": 4,
   "metadata": {},
   "outputs": [
    {
     "name": "stdout",
     "output_type": "stream",
     "text": [
      ">>> Membaca file hello.txt dengan fungsi readlines()\n",
      "['Kita sedang belajar Python\\n', 'Tepatnya belajar memanipulasi berkas teks\\n', 'Memanipulasi berkas dengan Python sangatlah mudah!\\n']\n",
      ">>> Membaca file hello.txt dengan menerpkan looping\n",
      "Kita sedang belajar Python\n",
      "\n",
      "Tepatnya belajar memanipulasi berkas teks\n",
      "\n",
      "Memanipulasi berkas dengan Python sangatlah mudah!\n",
      "\n"
     ]
    }
   ],
   "source": [
    "# membaca file hello.txt dengan fungsi readlines()\n",
    "print('>>> Membaca file hello.txt dengan fungsi readlines()')\n",
    "file = open('hello.txt','r')\n",
    "all_lines = file.readlines()\n",
    "file.close()\n",
    "print(all_lines)\n",
    "\n",
    "# membaca file hello.txt dengan menerapkan looping\n",
    "print('>>> Membaca file hello.txt dengan menerpkan looping')\n",
    "file = open('hello.txt','r')\n",
    "for line in file:\n",
    "    print(line)\n",
    "    "
   ]
  },
  {
   "cell_type": "markdown",
   "metadata": {},
   "source": [
    "## Menulis Berkas Teks - Part 1\n",
    "### .write()\n",
    "Untuk menuliskan isi dari suatu berkas, aku dapat menggunakan fungsi write() atau writelines() yang telah disediakan oleh Python. Sebelum masuk ke dalam contoh penggunaan fungsi write() atau writelines(), penting bagiku untuk mengingat bahwa mode yang aku spesifikasikan pada fungsi open() akan mempengaruhi bagaimana Python menuliskan isi ke dalam berkas teks. Jika aku menggunakan mode \"w\", maka Python akan menghapus seluruh isi dalam berkas sebelum menuliskan konten yang aku spesifikasikan"
   ]
  },
  {
   "cell_type": "code",
   "execution_count": 17,
   "metadata": {},
   "outputs": [],
   "source": [
    "# Menulis ke file hello.write.txt\n",
    "file = open('hello.txt','w')\n",
    "file.write('Sekarang kita belajar menulis dengan menggunakan Python')\n",
    "file.write('Menulis konten file dengan mode w (write)')\n",
    "file.close()"
   ]
  },
  {
   "cell_type": "code",
   "execution_count": 18,
   "metadata": {},
   "outputs": [
    {
     "name": "stdout",
     "output_type": "stream",
     "text": [
      ">>> Membaca file hello.txt dengan fungsi read()\n",
      "Sekarang kita belajar menulis dengan menggunakan PythonMenulis konten file dengan mode w (write)\n"
     ]
    }
   ],
   "source": [
    "print(\">>> Membaca file hello.txt dengan fungsi read()\")\n",
    "file = open(\"hello.txt\", \"r\")\n",
    "content = file.read()\n",
    "file.close()\n",
    "print(content)"
   ]
  },
  {
   "cell_type": "markdown",
   "metadata": {},
   "source": [
    "## Menulis Berkas Teks - Part 2\n",
    "### .append() and .writelines()\n",
    "Ketika aku menulis pada berkas teks menggunakan mode \"a\", Python tidak akan menghapus isi dalam berkas dan hanya akan menambahkan konten. Aku mempelajari contoh berikut untuk memahami penggunaan fungsi write() dan writelines()"
   ]
  },
  {
   "cell_type": "code",
   "execution_count": 19,
   "metadata": {},
   "outputs": [],
   "source": [
    "# Menulis ke file dengan mode .append()\n",
    "file = open('hello.txt','a')\n",
    "file.writelines(['Sekarang kita belajar menulis dengan menggunakan Python','Menulis konten file dengan mode a (append)'])\n",
    "file.close()"
   ]
  },
  {
   "cell_type": "code",
   "execution_count": 20,
   "metadata": {},
   "outputs": [
    {
     "name": "stdout",
     "output_type": "stream",
     "text": [
      "Sekarang kita belajar menulis dengan menggunakan PythonMenulis konten file dengan mode w (write)Sekarang kita belajar menulis dengan menggunakan PythonMenulis konten file dengan mode a (append)\n"
     ]
    }
   ],
   "source": [
    "file = open('hello.txt','r')\n",
    "content = file.read()\n",
    "file.close()\n",
    "print(content)"
   ]
  },
  {
   "cell_type": "code",
   "execution_count": 35,
   "metadata": {},
   "outputs": [
    {
     "name": "stdout",
     "output_type": "stream",
     "text": [
      "Halo\n",
      "\n"
     ]
    }
   ],
   "source": [
    "file = open('hello.txt','w')\n",
    "file.writelines(['Halo\\n','Belajar Python\\n','Menyenangkan\\n'])\n",
    "file.close()\n",
    "file = open('hello.txt','r')\n",
    "for line in file:\n",
    "    print(line)\n",
    "    break"
   ]
  },
  {
   "cell_type": "code",
   "execution_count": 41,
   "metadata": {},
   "outputs": [
    {
     "name": "stdout",
     "output_type": "stream",
     "text": [
      "menulis ke dalam filemenggunakan python\n"
     ]
    }
   ],
   "source": [
    "file = open('hello.txt','w')\n",
    "file.writelines(['halo','belajar python','menyenangkan!'])\n",
    "file.close()\n",
    "file = open('hello.txt','w')\n",
    "file.writelines('menulis ke dalam file')\n",
    "file.writelines('menggunakan python')\n",
    "file = open('hello.txt','r')\n",
    "for line in file:\n",
    "    print(line)"
   ]
  },
  {
   "cell_type": "markdown",
   "metadata": {},
   "source": [
    "## Library Matematika Pada Python\n",
    "Salah satu keunikan Python adalah library yang dimilikinya karena dapat di-extend dengan library yang didefinisikan oleh pengguna Python, selain dari library bawaan (built-in) yang dimilikinya. Untuk membuat library yang didefinisikan oleh pengguna umumnya dilakukan dengan menggunakan teknik pemograman berorientasi obyek (object oriented programming).\n",
    "Tentunya secara dasar, Python tidak dapat digunakan untuk pengolahan data, komputasi saintifik, machine learning dan bahkan sistem cerdas. Melalui pengembang library tentunya aku memiliki akses ke keperluan atau bidang tersebut. Library ini dapat diinstal melalui command pip yang bersumber dari webnya python package index.\n",
    "Bagi yang pernah menggunakan Matlab pasti tahu ada toolbox tertentu misal untuk optimasi, pengolahan sinyal, dll. Jadi toolbox di Matlab itu ekuivalen dengan library pada Python. Bahasa pemograman lain seperti R, PHP, GO, Java dsb tentu juga punya apakah namanya tetap library atau framework.\n",
    "Untuk memanggil library pada python, aku dapat menggunakan syntax:\n",
    "##### import \n",
    "adalah nama library yang akan diimport untuk dapat digunakan dalam kode program yang disusun, baik library bawaan (built-in), library yang tersedia di webnya python package index atau dikembangkan sendiri.\n",
    "Python adalah salah satu bahasa yang paling diminati untuk pengolahan data secara matematis. Untuk menggunakan fungsi-fungsi matematis yang telah disediakan oleh bahasa Python, aku dapat melakukan proses import library math seperti pada potongan kode berikut,\n",
    "##### import math\n"
   ]
  },
  {
   "cell_type": "markdown",
   "metadata": {},
   "source": [
    "### Fungsi dalam Library Matematika - Part 1\n",
    "Di dalam library math aku mempelajari berbagai fungsi, beberapa diantaranya dapat dilihat pada tabel di bawah \n",
    "\n",
    "###### Fitur\tKeterangan\n",
    "- math.ceil()\tMenerima input berupa bilangan dan mengembalikan pembulatan ke atas untuk bilangan input.\n",
    "- math.floor()\tMenerima input berupa bilangan dan mengembalikan hasil pembulatan ke bawah untuk bilangan input.\n",
    "- math.fabs()\tMenerima input berupa bilangan dan mengembalikan hasil absolut dari bilangan input.\n",
    "- math.factorial()\tMenerima input berupa bilangan dan mengembalikan hasil faktorial dari bilangan input\n",
    "- math.fsum()\tMenerima input berupa tipe data collection (tuple, list, etc.) dan mengembalikan hasil penjumlahan setiap elemennya.\n",
    "\n"
   ]
  },
  {
   "cell_type": "code",
   "execution_count": 47,
   "metadata": {},
   "outputs": [
    {
     "name": "stdout",
     "output_type": "stream",
     "text": [
      ">>> Fungsi math .ceil()\n",
      "11\n",
      "14\n",
      ">>> Fungsi math .floor()\n",
      "10\n",
      "13\n",
      ">>> Fungsi math .fabs()\n",
      "10.32\n",
      "13.87\n",
      ">>> Fungsi math .factorial()\n",
      "120\n",
      ">>> Fungsi math .fsum()\n",
      "6.0\n"
     ]
    }
   ],
   "source": [
    "# import library math\n",
    "import math\n",
    "\n",
    "# fungsi math .ceil()\n",
    "print('>>> Fungsi math .ceil()')\n",
    "x = 10.32\n",
    "y = 13.87\n",
    "x_ceil = math.ceil(x)\n",
    "y_ceil = math.ceil(y)\n",
    "print(x_ceil)\n",
    "print(y_ceil)\n",
    "\n",
    "# fungsi math .floor()\n",
    "print('>>> Fungsi math .floor()')\n",
    "x_floor = math.floor(x)\n",
    "y_floor = math.floor(y)\n",
    "print(x_floor)\n",
    "print(y_floor)\n",
    "\n",
    "# Fungsi math .fabs()\n",
    "print('>>> Fungsi math .fabs()')\n",
    "x = 10.32\n",
    "y = -13.87\n",
    "x_fabs = math.fabs(x)\n",
    "y_fabs = math.fabs(y)\n",
    "print(x_fabs)\n",
    "print(y_fabs)\n",
    "\n",
    "# Fungsi math .factorial()\n",
    "print('>>> Fungsi math .factorial()')\n",
    "x_factorial = math.factorial(5)\n",
    "print(x_factorial)\n",
    "\n",
    "# Fungsi math .fsum()\n",
    "print('>>> Fungsi math .fsum()')\n",
    "x =[1,2,3,4,5,6,-6,-5,-4]\n",
    "x_fsum = math.fsum(x)\n",
    "print(x_fsum)\n"
   ]
  },
  {
   "cell_type": "markdown",
   "metadata": {},
   "source": [
    "## Fungsi dalam Library Matematika - Part 2\n",
    "Aku masih melanjutkan bagian terakhir dari (bulit-in) library matematika pada Python yang dapat digunakan untuk perhitungan matematis. \n",
    "\n",
    "##### Fitur\tKeterangan\n",
    "- math.log()\tMenerima input berupa dua buah bilangan (asumsikan x dan y) dan mengembalikan sebuah bilangan (z) di mana z merupakan hasil log basis y dari x (atau dengan kata lain x merupakan hasil pemangkatan dari z terhadap y)\n",
    "- math.sqrt()\tMenerima input berupa sebuah bilangan dan mengembalikan hasil akar pangkat dua (akar kuadrat) dari bilangan tersebut\n",
    "- math.copysign()\tMenerima input berupa dua buah bilangan dan mengembalikan tanda bilangan pertama yang dikalikan dengan tanda positif/ negatif dari bilangan kedua\n"
   ]
  },
  {
   "cell_type": "code",
   "execution_count": 56,
   "metadata": {},
   "outputs": [
    {
     "name": "stdout",
     "output_type": "stream",
     "text": [
      ">>> Fungsi math .log()\n",
      "3.0\n",
      "4.0\n",
      "4.0\n",
      ">>> Fungsi math.sqrt()\n",
      "10.0\n",
      "1.4142135623730951\n",
      ">>> Fungsi math.copysign()\n",
      "-10.32\n",
      "-13.87\n",
      "15.0\n"
     ]
    }
   ],
   "source": [
    "# Import library math\n",
    "import math\n",
    "# fungsi math .log()\n",
    "print('>>> Fungsi math .log()')\n",
    "# x = log basis 2 dari 8\n",
    "x = math.log(8,2)\n",
    "# y = log basis 3 dari 81\n",
    "y = math.log(81,3)\n",
    "# z = log basis 10 dari 10000\n",
    "z = math.log(10000,10)\n",
    "print(x)\n",
    "print(y)\n",
    "print(z)\n",
    "\n",
    "# Fungsi math.sqrt()\n",
    "print('>>> Fungsi math.sqrt()')\n",
    "# akar kuadrat dari 100\n",
    "x = math.sqrt(100)\n",
    "# akar kuadrat dari 2\n",
    "y = math.sqrt(2)\n",
    "print(x)\n",
    "print(y)\n",
    "\n",
    "# Fungsi math.copysign()\n",
    "print('>>> Fungsi math.copysign()')\n",
    "x = 10.32\n",
    "y = -13.87\n",
    "z = -15\n",
    "x = math.copysign(x,z)\n",
    "y = math.copysign(y,z)\n",
    "z = math.copysign(z,10)\n",
    "print(x) \n",
    "print(y) \n",
    "print(z)"
   ]
  },
  {
   "cell_type": "code",
   "execution_count": 57,
   "metadata": {},
   "outputs": [
    {
     "name": "stdout",
     "output_type": "stream",
     "text": [
      "-120.0\n"
     ]
    }
   ],
   "source": [
    "import math\n",
    "x = 5\n",
    "x_factorial = math.factorial(5)\n",
    "x_factorial = math.copysign(x_factorial, -10)\n",
    "print(x_factorial)"
   ]
  },
  {
   "cell_type": "code",
   "execution_count": 58,
   "metadata": {},
   "outputs": [
    {
     "name": "stdout",
     "output_type": "stream",
     "text": [
      "0\n"
     ]
    }
   ],
   "source": [
    "import math\n",
    "x = [2.22,-3.33,4.44,-5.55]\n",
    "total = 0\n",
    "for i in x:\n",
    "    total += math.ceil(i)\n",
    "print(total)"
   ]
  },
  {
   "cell_type": "markdown",
   "metadata": {},
   "source": [
    "# Mini Project\n",
    "Pada mini project dalam modul \"Basic Python for Data Professional Beginner - Part 2\", aku akan diuji oleh Senja cara memprediksi harga rumah di Tangerang berdasarkan luas tanah, luas bangunan serta kedekatan lokasi dengan pusat kota.\n",
    "Data yang tersedia dalam format teks yang harus dibaca terlebih dahulu dan merubahnya ke dalam list of dict. Data yang berupa list of dict ini akan digunakan untuk memprediksi harga rumah di Tangerang\n",
    "\n",
    "## Harga Rumah di Tangerang\n",
    "### Memprediksi harga rumah berdasarkan tanah, banguan, jarak ke pusat, harga\n",
    "“Terima kasih, Aksara! Akhirnya kelar juga pekerjaan kemarin. Masih semangat, kan? Belum kapok kalau ada proyek baru datang lagi? Hahaha,” goda Senja.\n",
    "“Asalkan ada bonus, maju terus,” candaku.\n",
    "“Oke, kali ini serius. Kita diminta untuk mengembangkan model prediksi harga rumah di di Tangerang berdasarkan luas tanah, luas bangunan serta kedekatan lokasi dengan pusat kota. Untuk mengembangkan model prediksi ini, saya telah mengumpulkan beberapa data yang diperlukan. Coba kamu lihat,” jelas Senja.\n",
    "\n",
    "“Berarti aku akan memprediksi harga rumah ini berdasarkan kemiripan atribut dari data yang telah ada ini?” tanyaku memastikan. Senja mengangguk.\n",
    " \n",
    "Aku pun segera menempatkan data tersebut ke dalam file harga_rumah.txt seperti berikut ini:\n"
   ]
  },
  {
   "cell_type": "code",
   "execution_count": 1,
   "metadata": {},
   "outputs": [
    {
     "name": "stdout",
     "output_type": "stream",
     "text": [
      "tanah,bangunan,jarak_ke_pusat,harga\n",
      "70,50,15,500\n",
      "70,60,30,400\n",
      "70,60,55,300\n",
      "100,50,30,700\n",
      "100,70,25,1000\n",
      "100,70,50,650\n",
      "120,100,20,2000\n",
      "120,80,50,1200\n",
      "150,100,50,1800\n",
      "150,90,15,3000\n"
     ]
    }
   ],
   "source": [
    "# membaca file harga_rumah.txt\n",
    "rumah = open('harga_rumah.txt','r')\n",
    "harga_rumah = rumah.read()\n",
    "rumah.close()\n",
    "print(harga_rumah)"
   ]
  },
  {
   "cell_type": "markdown",
   "metadata": {},
   "source": [
    "### Tugas 1\n",
    "Aku pun melanjutkan prosesnya dengan membaca file harga_rumah.txt dan merepresentasikan setiap data ke dalam tipe data dictionary dan menampung keseluruhan data dalam sebuah list bernama harga_rumah:\n",
    " \n",
    "Setelah selesai memasukkan data dan menemukan jika nilai dari setiap atribut (tanah, bangunan, jarak_ke_pusat) tidak setara, aku mulai agak bingung. Tapi, harus tenang dan jangan panik!\n",
    "Aku kembali mengecekanya dan memutuskan utnuk melakukan proses transformasi data. Transformasi data dilakukan dengan mengurangi setiap nilai atribut dalam data dengan nilai atribut minimum dan membaginya dengan nilai atribut maksimum yang dikurangi dengan nilai atribut minimum, seperti ini:\n",
    "- Untuk atribut tanah, nilai maksimum adalah 150 dan nilai minimum adalah 70.\n",
    "- Saat nilai atribut tanah 100, proses transformasi akan mengubah nilai atribut ini menjadi 0,375\n",
    "###### nilai_transformasi = 100 - 70 / (150 - 70)\n",
    "Aku mulai mendapat solusi untuk mempermudah proses transformasi data.\n",
    "\n",
    "### Tugas 2\n",
    "Mula-mula,  aku akan membuat sebuah fungsi bernama get_all_specified_attribute yang menerima parameter list_of_dictionary (tipe data list yang berisikan sekumpulan tipe data dictionary) dan specified_key (tipe data string). Fungsi akan mengembalikan sebuah list yang berisikan seluruh atribut dengan kunci (key) specified_key.\n",
    "\n",
    "### Tugas 3\n",
    "Kemudian, setelah berhasil membuat fungsi  tersebut, aku juga membuat fungsi min_value yang menerima parameter list_attributes (berupa tipe data list) dan mengembalikan nilai terkecil dalam list_attributes dan max_value yang menerima parameter list_attribute dan mengembalikan nilai terbesar dalam list_attributes.\n",
    "\n",
    "### Tugas 4\n",
    "Selanjutnya aku membuat fungsi transform_attribute yang menerima parameter attr (sebuah bilangan), max_attr (sebuah bilangan) dan min_attr (sebuah bilangan) yang mengembalikan nilai transformasi dari sebuah attribute.\n",
    "\n",
    "### Tugas 5\n",
    "“Sudah cukup, Nja?” tanyaku saat Senja terdiam lama menelusuri hasil kerjaku.\n",
    "“Menurutku kita masih butuh fungsi baru yaitu fungsi data_transformation yang menerima parameter list_of_dictionary (sebuah list yang berisikan tipe data dictionary) dan list_attribute_names (sebuah list yang berisikan tipe data string) mengembalikan hasil transformasi data dari list_of_dictionary berdasarkan list_attribute_names telah dispesifikasikan.\n",
    "\n",
    "### Tugas 6\n",
    "Dari data baru dan attr_info ini, Senja menyuruhku membuat fungsi transform_data yang menerima parameter data dan attr_info dan mengembalikan nilai atribut dari data baru yang telah ditransformasikan.\n",
    "\n",
    "### Tugas 7\n",
    "Setelah itu, Senja memintaku untuk membuat sistem prediksi harga berdasarkan nilai kemiripan atribut.\n",
    "\n",
    "### Tugas 8\n",
    "Dan aku menggunakan semua fungsi yang telah aku definisikan dari Step 1 s/d Step 7.\n",
    "- Hitung harga rumah yang telah ditransformasikan ke dalam variabel harga_rumah berikut dengan atributnya attr_info\n",
    "- Gunakan variabel data untuk memprediksi harga rumah \n",
    "###### data = {'tanah': 110, 'bangunan': 80, 'jarak_ke_pusat': 35}\n",
    "- transformasikan data tersebut dengan dengan menggunakan attr_info yang telah diperoleh yang kembali disimpan ke variabel data.\n",
    "- Hitunglah prediksi harga dari variabel data tersebut. \n"
   ]
  },
  {
   "cell_type": "code",
   "execution_count": 16,
   "metadata": {},
   "outputs": [
    {
     "name": "stdout",
     "output_type": "stream",
     "text": [
      "[{'tanah': '70', 'bangunan': '50', 'jarak_ke_pusat': '15', 'harga': '500'}, {'tanah': '70', 'bangunan': '60', 'jarak_ke_pusat': '30', 'harga': '400'}, {'tanah': '70', 'bangunan': '60', 'jarak_ke_pusat': '55', 'harga': '300'}, {'tanah': '100', 'bangunan': '50', 'jarak_ke_pusat': '30', 'harga': '700'}, {'tanah': '100', 'bangunan': '70', 'jarak_ke_pusat': '25', 'harga': '1000'}, {'tanah': '100', 'bangunan': '70', 'jarak_ke_pusat': '50', 'harga': '650'}, {'tanah': '120', 'bangunan': '100', 'jarak_ke_pusat': '20', 'harga': '2000'}, {'tanah': '120', 'bangunan': '80', 'jarak_ke_pusat': '50', 'harga': '1200'}, {'tanah': '150', 'bangunan': '100', 'jarak_ke_pusat': '50', 'harga': '1800'}, {'tanah': '150', 'bangunan': '90', 'jarak_ke_pusat': '15', 'harga': '3000'}]\n"
     ]
    }
   ],
   "source": [
    "# STEP 1: \n",
    "# Baca file \"harga_rumah.txt\"\n",
    "file_harga_rumah = open(\"harga_rumah.txt\", \"r\")\n",
    "data_harga_rumah = file_harga_rumah.readlines()\n",
    "file_harga_rumah.close()\n",
    "# Buat list of dict dengan nama harga rumah\n",
    "key_harga_rumah = data_harga_rumah[0].replace(\"\\n\",\"\").split(\",\")\n",
    "harga_rumah = []\n",
    "for baris in data_harga_rumah[1:]:\n",
    "    baris_harga_rumah = baris.replace(\"\\n\",\"\").split(\",\")\n",
    "    dict_harga_rumah = dict()\n",
    "    for i in range(len(baris_harga_rumah)):\n",
    "        dict_harga_rumah[key_harga_rumah[i]] = baris_harga_rumah[i]\n",
    "    harga_rumah.append(dict_harga_rumah)\n",
    "print(harga_rumah)\n",
    "\n"
   ]
  },
  {
   "cell_type": "code",
   "execution_count": 17,
   "metadata": {},
   "outputs": [
    {
     "name": "stdout",
     "output_type": "stream",
     "text": [
      "Prediksi harga rumah:  1200\n"
     ]
    }
   ],
   "source": [
    "# STEP 2:\n",
    "# Buat fungsi  get_all_specified_attribute yang menerima parameter list_of_dictionary \n",
    "# (tipe data list yang berisikan sekumpulan tipe data dictionary) dan specified_key \n",
    "# (tipe data string). Fungsi akan mengembalikan sebuah list yang berisikan seluruh \n",
    "# atribut dengan kunci (key) specified_key. \n",
    "def get_all_specified_attributes(list_of_dictionary, specified_key):\n",
    "    list_attributes = []\n",
    "    for data in list_of_dictionary:\n",
    "        attribute = data[specified_key]\n",
    "        list_attributes.append(attribute)\n",
    "    return list_attributes\n",
    "\n",
    "# STEP 3: \n",
    "# Buat fungsi fungsi min_value yang menerima parameter list_attributes (berupa \n",
    "# tipe data list) dan mengembalikan nilai terkecil dalam list_attributes \n",
    "def min_value(list_attributes):\n",
    "    min_attribute = 9999\n",
    "    for attr in list_attributes:\n",
    "        if int(attr) < min_attribute:\n",
    "            min_attribute = int(attr)\n",
    "    return min_attribute\n",
    "# Buat fungsi dan max_value yang menerima parameter list_attribute dan \n",
    "# mengembalikan nilai terbesar dalam list_attributes.\t\n",
    "def max_value(list_attributes):\n",
    "    max_attribute = -9999\n",
    "    for attr in list_attributes:\n",
    "        if int(attr) > max_attribute:\n",
    "            max_attribute = int(attr)\n",
    "    return max_attribute\n",
    "\n",
    "# STEP 4: \n",
    "# Buat fungsi transform_attribute yang menerima parameter attr (sebuah \n",
    "# bilangan), max_attr (sebuah bilangan) dan min_attr (sebuah bilangan) \n",
    "# yang mengembalikan nilai transformasi dari sebuah attribute.\n",
    "def transform_attribute(attr, max_attr, min_attr):\n",
    "    nilai_transformasi = (attr - min_attr) / (max_attr - min_attr)\n",
    "    return nilai_transformasi\n",
    "\n",
    "# STEP 5:\n",
    "# Buat fungsi data_transformation yang menerima parameter list_of_dictionary \n",
    "# (sebuah list yang berisikan tipe data dictionary) dan list_attribute_names \n",
    "# (sebuah list yang berisikan tipe data string) mengembalikan hasil \n",
    "# transformasi data dari list_of_dictionary berdasarkan list_attribute_names \n",
    "# dan attr_info telah dispesifikasikan.\n",
    "def data_transformation(list_of_dictionary, list_attribute_names):\n",
    "    attr_info = {}\n",
    "    for attr_name in list_attribute_names:\n",
    "        specified_attributes = get_all_specified_attributes(list_of_dictionary, attr_name)\n",
    "        max_attr = max_value(specified_attributes)\n",
    "        min_attr = min_value(specified_attributes)\n",
    "        attr_info[attr_name] = {'max': max_attr, 'min': min_attr}\n",
    "        data_idx = 0\n",
    "        while(data_idx < len(list_of_dictionary)):\n",
    "            list_of_dictionary[data_idx][attr_name] = transform_attribute(int(list_of_dictionary[data_idx][attr_name]), max_attr, min_attr)\n",
    "            data_idx += 1\n",
    "    return list_of_dictionary, attr_info\n",
    "\n",
    "# STEP 6:\n",
    "# Berdasarkan data baru dan attr_info ini, buat fungsi transform_data yang\n",
    "# menerima parameter data dan attr_info dan mengembalikan nilai atribut \n",
    "# dari data baru yang telah ditransformasikan.\n",
    "def transform_data(data, attr_info):\n",
    "    for key_name in data.keys():\n",
    "        data[key_name] = (data[key_name] - attr_info[key_name]['min']) / (\n",
    "                          attr_info[key_name]['max'] - attr_info[key_name]['min'])\n",
    "    return data\n",
    "\n",
    "# STEP 7:\n",
    "# Buat fungsi yang digunakan untuk sistem prediksi harga berdasarkan \n",
    "# nilai kemiripan atribut!\n",
    "def abs_value(value):\n",
    "    if value < 0:\n",
    "        return -value\n",
    "    else:\n",
    "        return value\n",
    "def price_based_on_similarity(data, list_of_data):\n",
    "    prediksi_harga = 0\n",
    "    perbedaan_terkecil = 999\n",
    "    for data_point in list_of_data:\n",
    "        perbedaan= abs_value(data['tanah'] - data_point['tanah'])\n",
    "        perbedaan+= abs_value(data['bangunan'] - data_point['bangunan'])\n",
    "        perbedaan+= abs_value(data['jarak_ke_pusat'] - data_point['jarak_ke_pusat'])\n",
    "        if perbedaan < perbedaan_terkecil:\n",
    "            prediksi_harga = data_point['harga']\n",
    "            perbedaan_terkecil = perbedaan\n",
    "    return prediksi_harga\n",
    "\n",
    "# STEP 8:\n",
    "# Hitung harga rumah yang telah ditransformasikan ke dalam variabel \n",
    "# harga_rumah berikut dengan atributnya attr_info\n",
    "harga_rumah, attr_info = data_transformation(harga_rumah,\n",
    "                                             ['tanah','bangunan','jarak_ke_pusat'])\n",
    "# Gunakan variabel data untuk memprediksi harga rumah\n",
    "data = {'tanah': 110, 'bangunan': 80, 'jarak_ke_pusat': 35}\n",
    "# Transformasikan data tersebut dengan dengan menggunakan attr_info yang telah \n",
    "# diperoleh yang kembali disimpan ke variabel data.\n",
    "data = transform_data(data, attr_info)\n",
    "# Hitunglah prediksi harga dari variabel data tersebut.\n",
    "harga = price_based_on_similarity(data, harga_rumah)\n",
    "print(\"Prediksi harga rumah: \", harga)"
   ]
  },
  {
   "cell_type": "markdown",
   "metadata": {},
   "source": [
    "# Python for Data Professional Beginner - Part 3\n",
    "\n",
    "### Pengantar Object Oriented Programming\n",
    "#### Apa itu Object Oriented Programming\n",
    "Pemrograman Berbasis Objek (Object Oriented Programming - OOP) merupakan salah satu paradigma pemrograman yang cukup populer di antara paradigma-paradigma lainnya.\n",
    "\n",
    "Pada paradigma OOP, struktur dari sebuah program dikemas ke dalam sebuah objek yang memiliki serangkaian properti (properties) dan fungsi (behaviours). Sebagai contoh, aku dapat merepresentasikan seorang karyawan ke dalam sebuah program melalui konsep OOP.\n",
    "Seorang karyawan dapat memiliki serangkaian properti seperti nama, usia, keahlian, dll. Kemudian, seorang karyawan juga dapat memiliki fungsi-fungsi seperti hadir ke kantor, absen, lembur, tugas dinas, dll.\n",
    "\n",
    "#### Konsep dalam Object Oriented Programming\n",
    "Sebagai salah satu bahasa pemrograman yang bersifat multi-purposive, Python juga mendukung paradigma Object Oriented (OO).\n",
    "Konsep OO pada Python memiliki tujuan untuk menciptakan potongan-potongan kode yang bersifat reusable dan tidak redundan. Konsep ini dikenal dengan istilah konsep DRY - Don’t Repeat Yourself (berlawanan dengan konsep WET - Write Everything Twice).\n",
    "Dalam bahasa pemrograman Python, terdapat 3 konsep utama OO yaitu.\n",
    "1.\tEncapsulation: Menyembunyikan sebagian detail yang dimiliki oleh sebuah objek terhadap objek-objek lainnya.\n",
    "2.\tInheritance: Menurunkan serangkaian fungsi-fungsi yang dimiliki oleh sebuah objek ke sebuah objek baru tanpa mengubah makna dari objek acuan yang digunakan.\n",
    "3.\tPolymorphism: Konsep untuk menggunakan fungsi-fungsi dengan nama/ tujuan yang sama dengan cara yang berbeda.\n"
   ]
  },
  {
   "cell_type": "markdown",
   "metadata": {},
   "source": [
    "## Class dan Objek dalam Python - Part 1\n",
    "Setiap objek yang aku representasikan dalam program berbasis OOP merupakan instansi/ bentuk nyata dari sebuah konsep yang disebut dengan class. Oleh karena itu, class dapat juga aku sebutkan sebagai kerangka utama (blueprint) dari objek. Untuk mempermudah pemahaman konsep OO, aku menggunakan contoh berikut:\n",
    "Asumsikan aku ingin merepresentasikan Diriku dan Senja sebagai karyawan di suatu perusahaan X. Untuk merepresentasikan Diriku dan Senja, aku dapat membuat sebuah class yang nantinya akan mencakup properti-properti yang umumnya dimiliki oleh sebuah karyawan.\n",
    "Pada bahasa Python aku dapat membuat sebuah class dengan menggunakan syntax berikut.\n"
   ]
  },
  {
   "cell_type": "code",
   "execution_count": 18,
   "metadata": {},
   "outputs": [],
   "source": [
    "class karyawan:\n",
    "    pass"
   ]
  },
  {
   "cell_type": "code",
   "execution_count": 19,
   "metadata": {},
   "outputs": [],
   "source": [
    "aksara = karyawan()\n",
    "senja = karyawan()"
   ]
  },
  {
   "cell_type": "markdown",
   "metadata": {},
   "source": [
    "## Class dan Objek dalam Python - Part 2\n",
    "Pada bagian pertama, aku telah berhasil membuat sebuah class dan objek-objek sebagai bentuk realisasi dari sebuah class. Akan tetapi, class yang telah aku definisikan belum memiliki atribut ataupun fungsi-fungsi yang dapat merepresentasikan objek Karyawan dengan baik.\n",
    "Agar dapat membuat class Karyawan dengan baik, pertama, aku akan mempelajari cara merepresentasikan atribut/properti dalam sebuah class.  \n",
    "###### Dalam sebuah class, aku dapat mendefinisikan dua jenis atribut yaitu.\n",
    "1.\tClass Attribute adalah properti/atribut yang bernilai sama untuk oleh seluruh objek dari sebuah\n",
    "2.\tInstance Attribute adalah properti/atribut yang nilainya berbeda-beda untuk setiap objek dari sebuah class.\n",
    "\n",
    "## Class dan Objek dalam Python - Part 3\n",
    "Berkaitan dengan kedua jenis atribut yang telah aku pelajari, aku menggunakan contoh berikut untuk memperkuat pemahaman ky terkait dengan konsep class attribute.\n",
    "class Karyawan pada umumnya memiliki beberapa atribut seperti nama, usia, pendapatan serta nama perusahaan di mana karyawan tersebut bekerja. Untuk merepresentasikan diriku dan Senja sebagai karyawan yang bekerja di sebuah perusahaan yang sama (anggap saja perusahan ABC), aku dapat merepresentasikan dengan menggunakan _konsep class attribute\n",
    "Menggunakan potongan kode di atas, nama_perusahaan sebagai class attribute dapat kita akses dengan menggunakan syntax:\n",
    "\n",
    "akan menghasilkan output: ABC\n",
    "Kemudian, sesuai dengan konsep yang telah aku pelajari sebelumnya, saat aku mengubah nilai atribut yang merupakan sebuah class attribute, nilai dari atribut akan berubah untuk seluruh objek.\n",
    "Saat perusahaan berubah nama, misalkan nama perusahaan berubah dari 'ABC' ke 'DEF', dikarenakan atribut nama_perusahaan merupakan sebuah class attribute, aku hanya cukup mengganti nama_perusahaan pada salah satu objek saja (tidak perlu mengganti nama_perusahaan milik seluruh objek). Contohnya:\n",
    "akan menghasilkan output: DEF\n",
    "Dengan merubah nama perusahaan, maka nama perusahaan milik objek Senja juga secara otomatis berubah menjadi DEF. \n"
   ]
  },
  {
   "cell_type": "markdown",
   "metadata": {},
   "source": [
    "## Tugas:\n",
    "Aku di minta untuk mengerjakan tutorial sederhana untuk membantu memahami konsep OOP:\n",
    "1.\tDefinisikan Class Karyawan\n",
    "2.\tInisiasi object yang dinyatakan dalam variabel Aksara dan Senja\n",
    "3.\tCetak Nama Perusahaan melalui penggunaan keyword __class__\n",
    "4.\tUbah Nama Perusahaan menjadi 'DEF' \n"
   ]
  },
  {
   "cell_type": "code",
   "execution_count": 21,
   "metadata": {},
   "outputs": [
    {
     "name": "stdout",
     "output_type": "stream",
     "text": [
      "ABC\n",
      "DEF\n",
      "DEF\n"
     ]
    }
   ],
   "source": [
    "# 1. efinisikan class karyawan\n",
    "class karyawan:\n",
    "    nama_perusahaan = 'ABC'\n",
    "# 2. inisiasi object yang dinyatakan dalam variabel Aksara dan Senja\n",
    "aksara = karyawan()\n",
    "senja = karyawan()\n",
    "# 3. cetak nama perusahaan melalui penggunaan keyword __class__\n",
    "# pada class attribute nama_perusahaan\n",
    "print(aksara.__class__.nama_perusahaan)\n",
    "# 4. ubah nama perusahaan enjadi = 'DEF'\n",
    "aksara.__class__.nama_perusahaan = 'DEF'\n",
    "# cetak nama perusahaan objek aksara dan senja\n",
    "print(aksara.__class__.nama_perusahaan)\n",
    "print(senja.__class__.nama_perusahaan)"
   ]
  },
  {
   "cell_type": "markdown",
   "metadata": {},
   "source": [
    "## Class dan Object dalam Python - Part 4\n",
    "#### Konsep instance attribute\n",
    "Pada bagian sebelumnya aku telah mempelajari contoh deklarasi class Karyawan; nama, usia dan pendapatan karyawan adalah contoh dari konsep instance attribute. Hal ini dikarenakan setiap karyawan tentunya dapat memiliki nama, usia dan pendapatan yang berbeda.\n",
    "\n",
    "### Tugas: \n",
    "Untuk merepresentasikan instance attribute milik Aksara, aku mengetik potongan kode berikut pada live code editor:\n",
    "menghasilkan output:\n",
    "##### Aksara, Usia 25, Pendapatan: 8500000\n",
    "Selanjutnya, untuk merepresentasikan instance attribute milik Senja, aku mengetik potongan kode berikut pada live code editor:\n",
    "menghasilkan output:\n",
    "##### Senja, Usia 28, Pendapatan: 12500000\n"
   ]
  },
  {
   "cell_type": "code",
   "execution_count": 26,
   "metadata": {},
   "outputs": [
    {
     "name": "stdout",
     "output_type": "stream",
     "text": [
      "Aksara, usia: 25, pendapatan: 12500000\n",
      "senja, usia: 25, pendapatan: 12500000\n"
     ]
    }
   ],
   "source": [
    "# Definisikan class Karyawan\n",
    "class Karyawan:\n",
    "    nama_perusahaan = 'ABC'\n",
    "    def __init__(self, nama, usia, pendapatan):\n",
    "        self.nama = nama\n",
    "        self.usia = usia\n",
    "        self.pendapatan = pendapatan\n",
    "# Buat Object bernama aksara dan senja\n",
    "aksara = Karyawan('Aksara',25,8500000)\n",
    "senja = Karyawan('senja',28,12500000)\n",
    "# cetak objek bernama aksara dan senja\n",
    "print(aksara.nama + ', usia: ' + str(aksara.usia) + ', pendapatan: ' + str(senja.pendapatan))\n",
    "print(senja.nama + ', usia: ' + str(aksara.usia) + ', pendapatan: ' + str(senja.pendapatan))"
   ]
  },
  {
   "cell_type": "markdown",
   "metadata": {},
   "source": [
    "Dari potongan kode di atas, atribut nama, usia dan pendapatan merupakan contoh dari instance variabel. Sebagai tambahan, fungsi __init__() di dalam class Karyawan secara khusus disebut sebagai constructor. Melalui sebuah constructor, aku dapat meng-assign (menginisialisasi) atribut-atribut milik sebuah objek.\n",
    "Pada bahasa pemrograman Python, setiap fungsi (termasuk constructor) akan menerima dirinya sendiri (self) sebagai parameter pertama dari fungsi. Kemudian, aku dapat menambahkan parameter-parameter lain setelah parameter self sesuai dengan kebutuhan. Seperti pada contoh di atas, saat objek dibuat (diinisialisasi), aku dapat melemparkan nama, usia dan pendapatan melalui syntax,\n",
    "###### aksara = Karyawan('Aksara', 25, 8500000)\n",
    "Terakhir, aku belajar bahwa objek aksara dan senja diizinkan untuk memiliki nama, usia dan pendapatan yang berbeda. Untuk mengakses instance attribute dalam sebuah class, aku perlu menuliskan sintaks self diikuti dengan tanda titik (.) sebelum nama atribut.\n"
   ]
  },
  {
   "cell_type": "code",
   "execution_count": 27,
   "metadata": {},
   "outputs": [
    {
     "name": "stdout",
     "output_type": "stream",
     "text": [
      "17000000\n"
     ]
    }
   ],
   "source": [
    "class Karyawan:\n",
    "    nama_perusahaan = 'ABC'\n",
    "    def __init__(self, nama, usia, pendapatan):\n",
    "        self.nama = nama\n",
    "        self.usia = usia\n",
    "        self.pendapatan = pendapatan\n",
    "        if usia > 30:\n",
    "            self.pendapatan += 1500000\n",
    "karyawan_1 = Karyawan('Budi', 35, 7500000)\n",
    "karyawan_2 = Karyawan('Didi', 30, 8000000)\n",
    "total_pengeluaran = karyawan_1.pendapatan + karyawan_2.pendapatan\n",
    "print(total_pengeluaran)"
   ]
  },
  {
   "cell_type": "code",
   "execution_count": 28,
   "metadata": {},
   "outputs": [
    {
     "name": "stdout",
     "output_type": "stream",
     "text": [
      "11000000\n"
     ]
    }
   ],
   "source": [
    "class Karyawan:\n",
    "    nama_perusahaan = 'ABC'\n",
    "    tunjangan_transportasi = 500000\n",
    "    def __init__(self, nama, usia, pendapatan):\n",
    "        self.nama = nama\n",
    "        self.usia = usia\n",
    "        self.pendapatan = pendapatan\n",
    "\n",
    "karyawan_1 = Karyawan('Budi', 35, 5000000)\n",
    "karyawan_2 = Karyawan('Didi', 30, 5000000)\n",
    "karyawan_1.__class__.nama_perusahaan = 1000000\n",
    "\n",
    "total_pengeluaran = karyawan_1.__class__.tunjangan_transportasi\n",
    "total_pengeluaran += karyawan_2. __class__.tunjangan_transportasi\n",
    "total_pengeluaran += karyawan_1.pendapatan\n",
    "total_pengeluaran += karyawan_2.pendapatan\n",
    "print(total_pengeluaran)\n"
   ]
  },
  {
   "cell_type": "markdown",
   "metadata": {},
   "source": [
    "## Behavior Pada Class\n",
    "Selain dapat mendefinisikan atribut, dalam sebuah class, aku diperbolehkan untuk mendefinisikan fungsi-fungsi (behavior) dari sebuah class.\n",
    "Dari potongan kode yang telah aku gunakan, aku dapat menambahkan fungsi-fungsi berkaitan dengan class Karyawan. Sebagai contoh, seorang karyawan tentunya mungkin saja memiliki pendapatan tambahan berdasarkan banyaknya kerja lembur dan jumlah proyek yang telah diselesaikan.\n",
    "\n",
    "### Tugas:\n",
    "Untuk menghitung pendapatan tambahan dari jumlah kerja lembur  dan jumlah proyek yang diselesaikan oleh seorang karyawan dan mengakses pendapatan total dari seorang karyawan, aku dapat menuliskan potongan kode berikut.\n",
    "untuk menambahkan pendapatan lembur diriku, aku dapat menggunakan fungsi lembur() pada objek aksara.\n",
    "untuk menambahkan pendapatan tambahan proyek pada senja, aku dapat mengakses fungsi tambahan_proyek() pada objek senja\n",
    "Selanjutnya, aku dapat menghitung total pendapatanku dan Senja\n",
    "Layaknya proses pendefinisian fungsi pada Python, fungsi-fungsi dalam sebuah class juga dapat memiliki parameter (seperti fungsi tambahan_proyek dalam contoh) ataupun mengembalikan sebuah nilai (seperti fungsi total_pendapatan dalam contoh)."
   ]
  },
  {
   "cell_type": "code",
   "execution_count": 44,
   "metadata": {},
   "outputs": [
    {
     "name": "stdout",
     "output_type": "stream",
     "text": [
      "Pendapatan Total Aksara: 8500000\n",
      "Pendapatan Total Senja: 15000000\n"
     ]
    }
   ],
   "source": [
    "# definisikan class karyawan berikut dengan attribut dan fungsinya\n",
    "class karyawan:\n",
    "    nama_perusahaan = 'ABC'\n",
    "    insentif_lembur = 250000\n",
    "    def __init__(self, nama, usia, pendapatan):\n",
    "        self.nama = nama\n",
    "        self.usia = usia\n",
    "        self.pendapatan = pendapatan\n",
    "        self.pendapatan_tambahan = 0\n",
    "    def lembur(self):\n",
    "        self.pedapatan_tambahan += insentif_lembur\n",
    "    def tambahan_proyek(self, insentif_proyek):\n",
    "        self.pendapatan_tambahan += insentif_proyek\n",
    "    def total_pendapatan(self):\n",
    "        return self.pendapatan + self.pendapatan_tambahan\n",
    "# Buat object dari karyawan bernama Aksara dan Senja\n",
    "aksara = karyawan('Aksara', 25, 8500000)\n",
    "senja = karyawan('Senja', 28, 12500000)\n",
    "# Senja memiliki proyek tambahan\n",
    "senja.tambahan_proyek(2500000)\n",
    "# Cetak pendapatan total Aksara dan Senja\n",
    "print('Pendapatan Total Aksara: ' + str(aksara.total_pendapatan()))\n",
    "print('Pendapatan Total Senja: ' +str(senja.total_pendapatan()))\n"
   ]
  },
  {
   "cell_type": "markdown",
   "metadata": {},
   "source": [
    "# TUGAS PRAKTEK\n",
    "Seperti biasa, aku selalu pusing setiap usai membaca teori data. “Gimana, Aksara?” tanya Senja tanpa memalingkan perhatian dari laptop.\n",
    "“Kayaknya butuh praktik deh,” sahutku.\n",
    "“Oke, ini coba kamu bikin sistem manajemen perusahaan sederhana pakai Object Oriented (OO) ya. Artinya dalam program ini kamu harus mampu memuat informasi nama, alamat, nomor telepon, dan daftar karyawan yang bekerja. Satu lagi, jangan lupa masukkan fungsi untuk mengaktifkan dan menonaktifkan karyawan.”\n",
    "“Siap. Ini aku masukkan informasi class karyawan juga kali yah?” tanyaku sembari bersiap-siap memasukkan kode dan mendaftar informasi karyawan secara lebih rapi, mulai dari nama, usia, pendapatan tetap, tambahan, dan insentif lembur.\n",
    "“Bagus juga itu. Bikin saja pendapatan mula-mula karyawannya bernilai 0, lalu bisa bertambah oleh fungsi lembur dan fungsi tambahan proyek sebagai parameter dan variabel pendapatan tambahan karyawan.”\n",
    "Aku mengangguk dan siap bertempur. Terakhir aku menyelipkan fungsi untuk menghitung total pendapatan. Ini paling penting, hehehe.\n"
   ]
  },
  {
   "cell_type": "code",
   "execution_count": 24,
   "metadata": {},
   "outputs": [],
   "source": [
    "# Definisikan class Karyawan\n",
    "class Karyawan:\n",
    "    def __init__(self, nama, usia, pendapatan, insentif_lembur): \n",
    "        self.nama = nama\n",
    "        self.usia = usia\n",
    "        self.pendapatan = pendapatan\n",
    "        self.pendapatan_tambahan = 0\n",
    "        self.insentif_lembur = insentif_lembur \n",
    "    def lembur(self):\n",
    "        self.pendapatan_tambahan += self.insentif_lembur \n",
    "    def tambahan_proyek(self, jumlah_tambahan):\n",
    "        self.pendapatan_tambahan += jumlah_tambahan \n",
    "    def total_pendapatan(self):\n",
    "        return self.pendapatan + self.pendapatan_tambahan \n",
    "        # Definisikan class Perusahaan\n",
    "class Perusahaan:\n",
    "    def __init__(self, nama, alamat, nomor_telepon): \n",
    "        self.nama = nama\n",
    "        self.alamat = alamat \n",
    "        self.nomor_telepon = nomor_telepon\n",
    "        self.list_karyawan = []\n",
    "    def aktifkan_karyawan(self, karyawan): \n",
    "        self.list_karyawan.append(karyawan)\n",
    "    def nonaktifkan_karyawan(self, nama_karyawan): \n",
    "        karyawan_nonaktif = None\n",
    "        for karyawan in self.list_karyawan:\n",
    "            if karyawan.nama == nama_karyawan: \n",
    "                karyawan_nonaktif = karyawan \n",
    "                break\n",
    "            if karyawan_nonaktif is not None: \n",
    "                self.list_karyawan.remove(karyawan_nonaktif)"
   ]
  },
  {
   "cell_type": "markdown",
   "metadata": {},
   "source": [
    "# TUGAS PRAKTEK\n",
    "Sekitar satu jam lebih berkutat depan laptop, kode aku kelar juga! Tapi, sebelum kutunjukkan pada Senja, lebih baik aku coba simulasikan dulu. Kuambil post-it kuning di ujung meja dan kugambar tabel berisi daftar perusahaan dan karyawan sebagai contoh, lengkap dengan pendapatan tetap dan tambahan yang diterima.\n",
    "- Nama Perusahaan: ABC\n",
    "- Alamat                  : Jl. Jendral Sudirman, Blok 11\n",
    "- No. Telp                : (021) 95205XX\n",
    "\n",
    "###### Nama Pekerja\tUsia\tPendapatan\tInsentif Lembur\n",
    "- Ani\t25\t8500000\t100000\n",
    "- Budi\t28\t12000000\t150000\n",
    "- Cici\t30\t15000000\t200000\n",
    "\n",
    "Kalau sudah seperti ini, tinggal dimasukkan saja ke variabel list_karyawan, lalu operasikan. “Programnya berhasil!” batinku.\n"
   ]
  },
  {
   "cell_type": "code",
   "execution_count": 33,
   "metadata": {},
   "outputs": [
    {
     "name": "stdout",
     "output_type": "stream",
     "text": [
      "Pendapatan Total karyawan_1: 8500000\n"
     ]
    }
   ],
   "source": [
    "# Definisikan perusahaan\n",
    "perusahaan = Perusahaan('ABC', 'Jl. Jendral Sudirman, Blok 11', '(021) 95205XX')\n",
    "# Definisikan nama-nama karyawan\n",
    "karyawan_1 = Karyawan('Ani', 25, 8500000, 100000)\n",
    "karyawan_2 = Karyawan('Budi', 28, 12000000, 150000)\n",
    "karyawan_3 = Karyawan('Cici', 30, 15000000, 200000)\n",
    "# Aktifkan karyawan di perusahaan ABC\n",
    "perusahaan.aktifkan_karyawan(karyawan_1)\n",
    "perusahaan.aktifkan_karyawan(karyawan_2)\n",
    "perusahaan.aktifkan_karyawan(karyawan_3)\n",
    "print('Pendapatan Total karyawan_1: ' + str(karyawan_1.total_pendapatan()))"
   ]
  },
  {
   "cell_type": "markdown",
   "metadata": {},
   "source": [
    "## Encapsulation pada Python - Part 1\n",
    "Enkapsulasi (Encapsulation) adalah sebuah teknik dalam OOP yang mengizinkan aku untuk menyembunyikan detil dari sebuah atribut dalam sebuah class. Pada contoh-contoh sebelumnya, setiap atribut dan fungsi yang telah aku definisikan belum menggunakan konsep enkapsulasi, yang mengartikan bahwa setiap atribut dan fungsi dapat diakses di luar class."
   ]
  },
  {
   "cell_type": "markdown",
   "metadata": {},
   "source": [
    "## Encapsulation pada Python - Part 2\n",
    "Pada contoh di atas, terlihat bahwa atribut nama pada setiap objek dapat diakses secara bebas di luar scope dari sebuah class. Agar suatu properti ataupun fungsi dari sebuah class tidak dapat diakses secara bebas di luar scope milik suatu class, aku dapat mendefinisikan access modifier (level akses) saat sebuah atribut/fungsi didefinisikan.\n",
    "Terdapat 2 macam access modifier dalam Python, yakni.\n",
    "- 1.\tPublic access: dapat aku definisikan dengan secara langsung menuliskan nama dari atribut/ fungsi. Dalam sebuah objek, atribut/fungsi yang bersifat public access dapat diakses di luar scope sebuah class\n",
    "- 2.\tPrivate access: dapat aku definisikan dengan menambahkan double underscore (__) sebelum menuliskan nama dari atribut/fungsi. Dalam sebuah objek, atribut/fungsi yang bersifat private access hanya dapat diakses di dalam scope sebuah class.\n"
   ]
  },
  {
   "cell_type": "markdown",
   "metadata": {},
   "source": [
    "### TUGAS\n",
    "Untuk memperkuat pemahamanku terkait konsep enkapsulasi dalam paradigma OO, aku menggunakan contoh syntax dan mengetiknya pada live code editor:\n",
    "Pada potongan kode di atas, atribut nama_perusahaan bersifat public yang mengartikan bahwa aku dapat mengakses atribut ini di luar scope class Karyawan.\n",
    "###### tidak akan menyebabkan error dan menghasilkan output: ABC\n",
    "Kemudian, atribut __nama, __usia, __pendapatan_tambahan, __insentif_lembur dan pendapatan bersifat private sehingga atribut ini hanya dapat diakses di dalam scope class Karyawan.\n",
    "Saat aku mencoba mengakses atribut-atribut ini di luar scope class Karyawan, Python akan mengembalikan error yang menyatakan bahwa class Karyawan tidak memiliki atribut tersebut. \n",
    "##### Sebagai contoh,\n",
    "akan menyebabkan error yang menyatakan bahwa objek Karyawan tidak memiliki atribut  __nama.\n"
   ]
  },
  {
   "cell_type": "code",
   "execution_count": 45,
   "metadata": {},
   "outputs": [
    {
     "name": "stdout",
     "output_type": "stream",
     "text": [
      "ABC\n",
      "ABC\n"
     ]
    }
   ],
   "source": [
    "# Definisikan class Karyawan\n",
    "class Karyawan: \n",
    "    nama_perusahaan = 'ABC' \n",
    "    __insentif_lembur = 250000\n",
    "    def __init__(self, nama, usia, pendapatan): \n",
    "        self.__nama = nama\n",
    "        self.__usia = usia \n",
    "        self.__pendapatan = pendapatan \n",
    "        self.__pendapatan_tambahan = 0\n",
    "    def lembur(self):\n",
    "        self.__pendapatan_tambahan += self.__insentif_lembur \n",
    "    def tambahan_proyek(self, insentif_proyek):\n",
    "        self.__pendapatan_tambahan +=insentif_proyek \n",
    "    def total_pendapatan(self):\n",
    "        return self.__pendapatan + self.__pendapatan_tambahan\n",
    "# Buat objek karyawan bernama Aksara\n",
    "aksara = Karyawan('Aksara', 25, 8500000)\n",
    "# Akses ke attribute class Karyawan\n",
    "print(aksara.__class__.nama_perusahaan)\n",
    "# Akan menimbulkan error ketika di run\n",
    "print(aksara.__class__.nama_perusahaan)\n"
   ]
  },
  {
   "cell_type": "markdown",
   "metadata": {},
   "source": [
    "### QUIZ 1\n",
    "jalankan potongan kode dibawah ini\n",
    "###### jawaban : potongan kode gagal dijalankan"
   ]
  },
  {
   "cell_type": "code",
   "execution_count": 46,
   "metadata": {},
   "outputs": [
    {
     "ename": "AttributeError",
     "evalue": "'Karyawan' object has no attribute '__insentif_lembur'",
     "output_type": "error",
     "traceback": [
      "\u001b[1;31m---------------------------------------------------------------------------\u001b[0m",
      "\u001b[1;31mAttributeError\u001b[0m                            Traceback (most recent call last)",
      "\u001b[1;32m<ipython-input-46-1b563901a66e>\u001b[0m in \u001b[0;36m<module>\u001b[1;34m()\u001b[0m\n\u001b[0;32m     15\u001b[0m \u001b[1;33m\u001b[0m\u001b[0m\n\u001b[0;32m     16\u001b[0m \u001b[0maksara\u001b[0m \u001b[1;33m=\u001b[0m \u001b[0mKaryawan\u001b[0m\u001b[1;33m(\u001b[0m\u001b[1;34m'Aksara'\u001b[0m\u001b[1;33m,\u001b[0m \u001b[1;36m25\u001b[0m\u001b[1;33m,\u001b[0m \u001b[1;36m8500000\u001b[0m\u001b[1;33m)\u001b[0m\u001b[1;33m\u001b[0m\u001b[0m\n\u001b[1;32m---> 17\u001b[1;33m \u001b[0maksara\u001b[0m\u001b[1;33m.\u001b[0m\u001b[0mtambahan_proyek\u001b[0m\u001b[1;33m(\u001b[0m\u001b[0maksara\u001b[0m\u001b[1;33m.\u001b[0m\u001b[0m__insentif_lembur\u001b[0m\u001b[1;33m)\u001b[0m\u001b[1;33m\u001b[0m\u001b[0m\n\u001b[0m\u001b[0;32m     18\u001b[0m \u001b[0maksara\u001b[0m\u001b[1;33m.\u001b[0m\u001b[0mlembur\u001b[0m\u001b[1;33m(\u001b[0m\u001b[1;33m)\u001b[0m\u001b[1;33m\u001b[0m\u001b[0m\n\u001b[0;32m     19\u001b[0m \u001b[0maksara\u001b[0m\u001b[1;33m.\u001b[0m\u001b[0mlembur\u001b[0m\u001b[1;33m(\u001b[0m\u001b[1;33m)\u001b[0m\u001b[1;33m\u001b[0m\u001b[0m\n",
      "\u001b[1;31mAttributeError\u001b[0m: 'Karyawan' object has no attribute '__insentif_lembur'"
     ]
    }
   ],
   "source": [
    "class Karyawan:\n",
    "    nama_perusahaan = 'ABC'\n",
    "    __insentif_lembur = 250000\n",
    "    def __init__(self, nama, usia, pendapatan):\n",
    "        self.__nama = nama\n",
    "        self.__usia = usia\n",
    "        self.__pendapatan = pendapatan\n",
    "        self.__pendapatan_tambahan = 0\n",
    "    def lembur(self):\n",
    "        self.__pendapatan_tambahan += self.__insentif_lembur\n",
    "    def tambahan_proyek(self, insentif_proyek):\n",
    "        self.__pendapatan_tambahan += insentif_proyek\n",
    "    def total_pendapatan(self):\n",
    "        return self.__pendapatan + self.__pendapatan_tambahan\n",
    "\n",
    "aksara = Karyawan('Aksara', 25, 8500000)\n",
    "aksara.tambahan_proyek(aksara.__insentif_lembur)\n",
    "aksara.lembur()\n",
    "aksara.lembur() \n",
    "print(aksara.total_pendapatan())\n"
   ]
  },
  {
   "cell_type": "markdown",
   "metadata": {},
   "source": [
    "### QUIZ 2\n",
    "Jalankan potongan kode dibawah ini\n",
    "jawaban = potongan kode gagal dijalankan"
   ]
  },
  {
   "cell_type": "code",
   "execution_count": 47,
   "metadata": {},
   "outputs": [
    {
     "ename": "AttributeError",
     "evalue": "'Karyawan' object has no attribute '_Karyawan__insentif_lembur'",
     "output_type": "error",
     "traceback": [
      "\u001b[1;31m---------------------------------------------------------------------------\u001b[0m",
      "\u001b[1;31mAttributeError\u001b[0m                            Traceback (most recent call last)",
      "\u001b[1;32m<ipython-input-47-bcaf61119241>\u001b[0m in \u001b[0;36m<module>\u001b[1;34m()\u001b[0m\n\u001b[0;32m     18\u001b[0m \u001b[1;33m\u001b[0m\u001b[0m\n\u001b[0;32m     19\u001b[0m \u001b[0mkaryawan_1\u001b[0m \u001b[1;33m=\u001b[0m \u001b[0mKaryawan\u001b[0m\u001b[1;33m(\u001b[0m\u001b[1;34m'Kiki'\u001b[0m\u001b[1;33m,\u001b[0m \u001b[1;36m35\u001b[0m\u001b[1;33m,\u001b[0m \u001b[1;36m8000000\u001b[0m\u001b[1;33m)\u001b[0m\u001b[1;33m\u001b[0m\u001b[0m\n\u001b[1;32m---> 20\u001b[1;33m \u001b[0mkaryawan_1\u001b[0m\u001b[1;33m.\u001b[0m\u001b[0mlembur\u001b[0m\u001b[1;33m(\u001b[0m\u001b[1;33m)\u001b[0m\u001b[1;33m\u001b[0m\u001b[0m\n\u001b[0m\u001b[0;32m     21\u001b[0m \u001b[0mkaryawan_1\u001b[0m\u001b[1;33m.\u001b[0m\u001b[0mtambahan_proyek\u001b[0m\u001b[1;33m(\u001b[0m\u001b[0mkaryawan_1\u001b[0m\u001b[1;33m.\u001b[0m\u001b[0mtotal_pendapatan\u001b[0m\u001b[1;33m(\u001b[0m\u001b[1;33m)\u001b[0m\u001b[1;33m)\u001b[0m\u001b[1;33m\u001b[0m\u001b[0m\n\u001b[0;32m     22\u001b[0m \u001b[0mprint\u001b[0m\u001b[1;33m(\u001b[0m\u001b[0mkaryawan_1\u001b[0m\u001b[1;33m.\u001b[0m\u001b[0mtotal_pendapatan\u001b[0m\u001b[1;33m(\u001b[0m\u001b[1;33m)\u001b[0m\u001b[1;33m)\u001b[0m\u001b[1;33m\u001b[0m\u001b[0m\n",
      "\u001b[1;32m<ipython-input-47-bcaf61119241>\u001b[0m in \u001b[0;36mlembur\u001b[1;34m(self)\u001b[0m\n\u001b[0;32m      8\u001b[0m         \u001b[0mself\u001b[0m\u001b[1;33m.\u001b[0m\u001b[0m__pendapatan_tambahan\u001b[0m \u001b[1;33m=\u001b[0m \u001b[1;36m0\u001b[0m\u001b[1;33m\u001b[0m\u001b[0m\n\u001b[0;32m      9\u001b[0m     \u001b[1;32mdef\u001b[0m \u001b[0mlembur\u001b[0m\u001b[1;33m(\u001b[0m\u001b[0mself\u001b[0m\u001b[1;33m)\u001b[0m\u001b[1;33m:\u001b[0m\u001b[1;33m\u001b[0m\u001b[0m\n\u001b[1;32m---> 10\u001b[1;33m         \u001b[0minsentif_lembur\u001b[0m \u001b[1;33m=\u001b[0m \u001b[0mself\u001b[0m\u001b[1;33m.\u001b[0m\u001b[0m__insentif_lembur\u001b[0m\u001b[1;33m\u001b[0m\u001b[0m\n\u001b[0m\u001b[0;32m     11\u001b[0m         \u001b[1;32mif\u001b[0m \u001b[0musia\u001b[0m \u001b[1;33m>\u001b[0m \u001b[1;36m30\u001b[0m\u001b[1;33m:\u001b[0m\u001b[1;33m\u001b[0m\u001b[0m\n\u001b[0;32m     12\u001b[0m             \u001b[0minsentif_lembur\u001b[0m \u001b[1;33m*=\u001b[0m \u001b[1;36m2\u001b[0m\u001b[1;33m\u001b[0m\u001b[0m\n",
      "\u001b[1;31mAttributeError\u001b[0m: 'Karyawan' object has no attribute '_Karyawan__insentif_lembur'"
     ]
    }
   ],
   "source": [
    "class Karyawan:\n",
    "    nama_perusahaan = 'ABC'\n",
    "    insentif_lembur = 250000\n",
    "    def __init__(self, nama, usia, pendapatan):\n",
    "        self.__nama = nama\n",
    "        self.__usia = usia\n",
    "        self.__pendapatan = pendapatan\n",
    "        self.__pendapatan_tambahan = 0\n",
    "    def lembur(self):\n",
    "        insentif_lembur = self.__insentif_lembur\n",
    "        if usia > 30:\n",
    "            insentif_lembur *= 2\n",
    "        self.__pendapatan_tambahan += insentif_lembur\n",
    "    def tambahan_proyek(self, insentif_proyek):\n",
    "        self.__pendapatan_tambahan += insentif_proyek\n",
    "    def total_pendapatan(self):\n",
    "        return self.__pendapatan + self.__pendapatan_tambahan\n",
    "\n",
    "karyawan_1 = Karyawan('Kiki', 35, 8000000)\n",
    "karyawan_1.lembur()\n",
    "karyawan_1.tambahan_proyek(karyawan_1.total_pendapatan())\n",
    "print(karyawan_1.total_pendapatan())\n"
   ]
  },
  {
   "cell_type": "markdown",
   "metadata": {},
   "source": [
    "### Inheritance pada Python – Part 1\n",
    "Inheritance adalah salah satu mekanisme di konsep OO yang mengizinkan aku untuk mendefinisikan sebuah class baru berdasarkan class yang sebelumnya telah dideklarasikan.\n",
    "Melalui konsep inheritance, sebuah class baru dapat memiliki atribut dan fungsi pada class yang sebelumnya telah didefinisikan. Pada konsep inheritance, atribut/fungsi yang akan diwariskan hanyalah atribut/fungsi dengan access modifier public, atribut/fungsi dengan access modifier private tidak akan diturunkan.\n"
   ]
  },
  {
   "cell_type": "markdown",
   "metadata": {},
   "source": [
    "## TUGAS \n",
    "melakukan inheritance (menurunkan seluruh atribut dan fungsi dari class Karyawan) ke class AnalisData\n",
    "melakukan inheritance (menurunkan seluruh atribut dan fungsi dari class Karyawan) ke class IlmuwanData\n",
    "###### objek AnalisData dapat mengakses fungsi lembur milik class Karyawan\n",
    "akan menghasilkan output: 8750000\n",
    "Selanjutnya,\n",
    "###### objek IlmuwanData dapat mengakses fungsi tambahan_proyek milik class Karyawan\n",
    "akan menghasilkan output: 15000000\n",
    "\n",
    "###### Penjelasan:\n",
    "- Melalui potongan kode di atas, aku telah menerapkan konsep inheritance. Melalui konsep inheritance class AnalisData dan IlmuwanData akan memiliki setiap atribut dan fungsi yang dimiliki oleh class Karyawan (Hal ini dikarenakan seluruh atribut dan fungsi dari class Karyawan bersifat public).\n",
    "- Pada konsep inheritance, class AnalisData dan class IlmuwanData disebut sebagai child class dari class Karyawan; sehingga class Karyawan dapat disebut sebagai parent class dari class AnalisData dan IlmuwanData.\n",
    "- Suatu child class dapat mengakses atribut ataupun fungsi yang dimiliki oleh parent class dengan menggunakan fungsi super(). Pada contoh di atas, fungsi super() digunakan oleh child class (AnalisData dan IlmuwanData) untuk mengakses constructor yang dimiliki oleh parent class (Karyawan).\n",
    "- Catatan: Sebenarnya, aku tidak perlu mendefinisikan kembali fungsi (termasuk constructor) ataupun properti yang memiliki public access modifier di sebuah child class. Python akan secara otomatis mewariskan seluruh fungsi dan properti dengan public access modifier ke sebuah child class. Contoh potongan kode di atas hanya diperkenankan untuk mencontohkan penggunaan fungsi super().\n"
   ]
  },
  {
   "cell_type": "code",
   "execution_count": 1,
   "metadata": {},
   "outputs": [
    {
     "name": "stdout",
     "output_type": "stream",
     "text": [
      "8750000\n"
     ]
    },
    {
     "ename": "NameError",
     "evalue": "name 'IlmuwanData' is not defined",
     "output_type": "error",
     "traceback": [
      "\u001b[1;31m---------------------------------------------------------------------------\u001b[0m",
      "\u001b[1;31mNameError\u001b[0m                                 Traceback (most recent call last)",
      "\u001b[1;32m<ipython-input-1-57fbc8d41337>\u001b[0m in \u001b[0;36m<module>\u001b[1;34m()\u001b[0m\n\u001b[0;32m     21\u001b[0m \u001b[1;31m# Buat kembali class turunan (sebagai inherit class) dari class karyawan,\u001b[0m\u001b[1;33m\u001b[0m\u001b[1;33m\u001b[0m\u001b[0m\n\u001b[0;32m     22\u001b[0m \u001b[1;31m# yaitu class IlmuwanData\u001b[0m\u001b[1;33m\u001b[0m\u001b[1;33m\u001b[0m\u001b[0m\n\u001b[1;32m---> 23\u001b[1;33m \u001b[1;32mclass\u001b[0m \u001b[0mIlmuwanData\u001b[0m\u001b[1;33m(\u001b[0m\u001b[0mKaryawan\u001b[0m\u001b[1;33m)\u001b[0m\u001b[1;33m:\u001b[0m\u001b[1;33m\u001b[0m\u001b[0m\n\u001b[0m\u001b[0;32m     24\u001b[0m     \u001b[1;32mdef\u001b[0m \u001b[0m__init__\u001b[0m\u001b[1;33m(\u001b[0m\u001b[0mself\u001b[0m\u001b[1;33m,\u001b[0m \u001b[0mnama\u001b[0m\u001b[1;33m,\u001b[0m \u001b[0musia\u001b[0m\u001b[1;33m,\u001b[0m \u001b[0mpendapatan\u001b[0m\u001b[1;33m)\u001b[0m\u001b[1;33m:\u001b[0m\u001b[1;33m\u001b[0m\u001b[0m\n\u001b[0;32m     25\u001b[0m \u001b[1;31m# melakukan pemanggilan konstruktur class Karyawan\u001b[0m\u001b[1;33m\u001b[0m\u001b[1;33m\u001b[0m\u001b[0m\n",
      "\u001b[1;32m<ipython-input-1-57fbc8d41337>\u001b[0m in \u001b[0;36mIlmuwanData\u001b[1;34m()\u001b[0m\n\u001b[0;32m     30\u001b[0m     \u001b[0mprint\u001b[0m\u001b[1;33m(\u001b[0m\u001b[0maksara\u001b[0m\u001b[1;33m.\u001b[0m\u001b[0mtotal_pendapatan\u001b[0m\u001b[1;33m(\u001b[0m\u001b[1;33m)\u001b[0m\u001b[1;33m)\u001b[0m\u001b[1;33m\u001b[0m\u001b[0m\n\u001b[0;32m     31\u001b[0m \u001b[1;31m# Buat objek karyawan yang bekerja sebagai IlmuwanData\u001b[0m\u001b[1;33m\u001b[0m\u001b[1;33m\u001b[0m\u001b[0m\n\u001b[1;32m---> 32\u001b[1;33m     \u001b[0msenja\u001b[0m \u001b[1;33m=\u001b[0m \u001b[0mIlmuwanData\u001b[0m\u001b[1;33m(\u001b[0m\u001b[1;34m'Senja'\u001b[0m\u001b[1;33m,\u001b[0m \u001b[1;36m28\u001b[0m\u001b[1;33m,\u001b[0m \u001b[1;36m13000000\u001b[0m\u001b[1;33m)\u001b[0m\u001b[1;33m\u001b[0m\u001b[0m\n\u001b[0m\u001b[0;32m     33\u001b[0m     \u001b[0msenja\u001b[0m\u001b[1;33m.\u001b[0m\u001b[0mtambahan_proyek\u001b[0m\u001b[1;33m(\u001b[0m\u001b[1;36m2000000\u001b[0m\u001b[1;33m)\u001b[0m\u001b[1;33m\u001b[0m\u001b[0m\n\u001b[0;32m     34\u001b[0m     \u001b[0mprint\u001b[0m\u001b[1;33m(\u001b[0m\u001b[0msenja\u001b[0m\u001b[1;33m.\u001b[0m\u001b[0mtotal_pendapatan\u001b[0m\u001b[1;33m(\u001b[0m\u001b[1;33m)\u001b[0m\u001b[1;33m)\u001b[0m\u001b[1;33m\u001b[0m\u001b[0m\n",
      "\u001b[1;31mNameError\u001b[0m: name 'IlmuwanData' is not defined"
     ]
    }
   ],
   "source": [
    "class Karyawan: \n",
    "    nama_perusahaan = 'ABC' \n",
    "    insentif_lembur = 250000\n",
    "    def __init__(self, nama, usia, pendapatan): \n",
    "        self.nama = nama\n",
    "        self.usia = usia \n",
    "        self.pendapatan = pendapatan \n",
    "        self.pendapatan_tambahan = 0\n",
    "    def lembur(self):\n",
    "        self.pendapatan_tambahan += self.insentif_lembur \n",
    "    def tambahan_proyek(self, insentif_proyek):\n",
    "        self.pendapatan_tambahan += insentif_proyek \n",
    "    def total_pendapatan(self):\n",
    "        return self.pendapatan + self.pendapatan_tambahan\n",
    "# Buat class turunan (sebagai inherit class) dari class karyawan, \n",
    "# yaitu class AnalisData\n",
    "class AnalisData(Karyawan):\n",
    "    def __init__(self, nama, usia, pendapatan):\n",
    "# melakukan pemanggilan konstruktur class Karyawan \n",
    "        super().__init__(nama, usia, pendapatan)\n",
    "# Buat kembali class turunan (sebagai inherit class) dari class karyawan,  \n",
    "# yaitu class IlmuwanData\n",
    "class IlmuwanData(Karyawan):\n",
    "    def __init__(self, nama, usia, pendapatan):\n",
    "# melakukan pemanggilan konstruktur class Karyawan \n",
    "        super().__init__(nama, usia, pendapatan)\n",
    "# Buat objek karyawan yang bekerja sebagai AnalisData\n",
    "    aksara = AnalisData('Aksara', 25, 8500000)\n",
    "    aksara.lembur()\n",
    "    print(aksara.total_pendapatan())\n",
    "# Buat objek karyawan yang bekerja sebagai IlmuwanData\n",
    "    senja = IlmuwanData('Senja', 28, 13000000)\n",
    "    senja.tambahan_proyek(2000000)\n",
    "    print(senja.total_pendapatan())\n"
   ]
  },
  {
   "cell_type": "markdown",
   "metadata": {},
   "source": [
    "## Inheritance Pada Python - Part 2\n",
    "Pada bagian pertama aku telah mempelajari bagaimana child class mewarisi fungsi/atribut dari parent class dengan menggunakan fungsi super(). Melalui konsep inheritance, child class dapat memodifikasi atribut/ fungsi yang diwarisi oleh sebuah parent class dengan mendefinisikan ulang atribut/ fungsi menggunakan nama yang sama. \n",
    "### Tugas\n",
    "- fungsi lembur pada objek aksara sebagai bagian dari class AnalisData akan menambahkan total_pendapatan milik objek sebesar 250000 mengikuti insentif_lembur milik class Karyawan\n",
    "akan menghasilkan output: 8750000\n",
    "Selanjutnya,\n",
    "- fungsi lembur pada objek senja sebagai bagian dari class IlmuwanData akan menambahkan total_pendapatan milik objek sebesar 500000 dikarenakan class IlmuwanData telah mendefinisikan kembali nilai insentif lembur menjadi 500000\n",
    "akan menghasilkan output: 13500000\n"
   ]
  },
  {
   "cell_type": "code",
   "execution_count": 2,
   "metadata": {},
   "outputs": [
    {
     "name": "stdout",
     "output_type": "stream",
     "text": [
      "8750000\n"
     ]
    },
    {
     "ename": "NameError",
     "evalue": "name 'IlmuwanData' is not defined",
     "output_type": "error",
     "traceback": [
      "\u001b[1;31m---------------------------------------------------------------------------\u001b[0m",
      "\u001b[1;31mNameError\u001b[0m                                 Traceback (most recent call last)",
      "\u001b[1;32m<ipython-input-2-ebc388734c0e>\u001b[0m in \u001b[0;36m<module>\u001b[1;34m()\u001b[0m\n\u001b[0;32m     23\u001b[0m \u001b[1;31m# Buat kembali class turunan (sebagai inherit class) dari class karyawan,\u001b[0m\u001b[1;33m\u001b[0m\u001b[1;33m\u001b[0m\u001b[0m\n\u001b[0;32m     24\u001b[0m \u001b[1;31m# yaitu class IlmuwanData\u001b[0m\u001b[1;33m\u001b[0m\u001b[1;33m\u001b[0m\u001b[0m\n\u001b[1;32m---> 25\u001b[1;33m \u001b[1;32mclass\u001b[0m \u001b[0mIlmuwanData\u001b[0m\u001b[1;33m(\u001b[0m\u001b[0mKaryawan\u001b[0m\u001b[1;33m)\u001b[0m\u001b[1;33m:\u001b[0m\u001b[1;33m\u001b[0m\u001b[0m\n\u001b[0m\u001b[0;32m     26\u001b[0m \u001b[1;31m# mengubah atribut insentif_lembur yang digunakan pada fungsi lembur()\u001b[0m\u001b[1;33m\u001b[0m\u001b[1;33m\u001b[0m\u001b[0m\n\u001b[0;32m     27\u001b[0m     \u001b[0minsentif_lembur\u001b[0m \u001b[1;33m=\u001b[0m \u001b[1;36m500000\u001b[0m\u001b[1;33m\u001b[0m\u001b[0m\n",
      "\u001b[1;32m<ipython-input-2-ebc388734c0e>\u001b[0m in \u001b[0;36mIlmuwanData\u001b[1;34m()\u001b[0m\n\u001b[0;32m     33\u001b[0m     \u001b[0mprint\u001b[0m\u001b[1;33m(\u001b[0m\u001b[0maksara\u001b[0m\u001b[1;33m.\u001b[0m\u001b[0mtotal_pendapatan\u001b[0m\u001b[1;33m(\u001b[0m\u001b[1;33m)\u001b[0m\u001b[1;33m)\u001b[0m\u001b[1;33m\u001b[0m\u001b[0m\n\u001b[0;32m     34\u001b[0m \u001b[1;31m# Buat objek karyawan yang bekerja sebagai IlmuwanData\u001b[0m\u001b[1;33m\u001b[0m\u001b[1;33m\u001b[0m\u001b[0m\n\u001b[1;32m---> 35\u001b[1;33m     \u001b[0msenja\u001b[0m \u001b[1;33m=\u001b[0m \u001b[0mIlmuwanData\u001b[0m\u001b[1;33m(\u001b[0m\u001b[1;34m'Senja'\u001b[0m\u001b[1;33m,\u001b[0m \u001b[1;36m28\u001b[0m\u001b[1;33m,\u001b[0m \u001b[1;36m13000000\u001b[0m\u001b[1;33m)\u001b[0m\u001b[1;33m\u001b[0m\u001b[0m\n\u001b[0m\u001b[0;32m     36\u001b[0m     \u001b[0msenja\u001b[0m\u001b[1;33m.\u001b[0m\u001b[0mlembur\u001b[0m\u001b[1;33m(\u001b[0m\u001b[1;33m)\u001b[0m\u001b[1;33m\u001b[0m\u001b[0m\n\u001b[0;32m     37\u001b[0m     \u001b[0mprint\u001b[0m\u001b[1;33m(\u001b[0m\u001b[0msenja\u001b[0m\u001b[1;33m.\u001b[0m\u001b[0mtotal_pendapatan\u001b[0m\u001b[1;33m(\u001b[0m\u001b[1;33m)\u001b[0m\u001b[1;33m)\u001b[0m\u001b[1;33m\u001b[0m\u001b[0m\n",
      "\u001b[1;31mNameError\u001b[0m: name 'IlmuwanData' is not defined"
     ]
    }
   ],
   "source": [
    "# Definisikan class Karyawan (sebagai base class)\n",
    "# Definisikan class Karyawan (sebagai base class)\n",
    "class Karyawan: \n",
    "    nama_perusahaan = 'ABC' \n",
    "    insentif_lembur = 250000\n",
    "    def __init__(self, nama, usia, pendapatan): \n",
    "        self.nama = nama\n",
    "        self.usia = usia \n",
    "        self.pendapatan = pendapatan \n",
    "        self.pendapatan_tambahan = 0\n",
    "    def lembur(self):\n",
    "        self.pendapatan_tambahan += self.insentif_lembur \n",
    "    def tambahan_proyek(self, insentif_proyek):\n",
    "        self.pendapatan_tambahan += insentif_proyek \n",
    "    def total_pendapatan(self):\n",
    "        return self.pendapatan + self.pendapatan_tambahan\n",
    "# Buat class turunan (sebagai inherit class) dari class karyawan, \n",
    "# yaitu class AnalisData\n",
    "class AnalisData(Karyawan):\n",
    "    def __init__(self, nama, usia, pendapatan):\n",
    "# melakukan pemanggilan konstruktur class Karyawan \n",
    "        super().__init__(nama, usia, pendapatan)\n",
    "# Buat kembali class turunan (sebagai inherit class) dari class karyawan,  \n",
    "# yaitu class IlmuwanData\n",
    "class IlmuwanData(Karyawan):\n",
    "# mengubah atribut insentif_lembur yang digunakan pada fungsi lembur()\n",
    "    insentif_lembur = 500000\n",
    "    def __init__(self, nama, usia, pendapatan): \n",
    "        super().__init__(nama, usia, pendapatan)\n",
    "# Buat objek karyawan yang bekerja sebagai AnalisData\n",
    "    aksara = AnalisData('Aksara', 25, 8500000)\n",
    "    aksara.lembur()\n",
    "    print(aksara.total_pendapatan())\n",
    "# Buat objek karyawan yang bekerja sebagai IlmuwanData\n",
    "    senja = IlmuwanData('Senja', 28, 13000000)\n",
    "    senja.lembur()\n",
    "    print(senja.total_pendapatan())\n"
   ]
  },
  {
   "cell_type": "code",
   "execution_count": 3,
   "metadata": {},
   "outputs": [
    {
     "name": "stdout",
     "output_type": "stream",
     "text": [
      "Si Jago tidak bisa terbang\n"
     ]
    }
   ],
   "source": [
    "class Burung:\n",
    "    def __init__(self, nama):\n",
    "        self.nama = nama\n",
    "    def fly(self):\n",
    "        print(nama + ' sedang terbang')\n",
    "\n",
    "class Ayam(Burung):\n",
    "    def fly(self):\n",
    "        print(self.nama + ' tidak bisa terbang')\n",
    "\n",
    "anak_ayam = Ayam('Si Jago')\n",
    "anak_ayam.fly()\n"
   ]
  },
  {
   "cell_type": "code",
   "execution_count": 4,
   "metadata": {},
   "outputs": [
    {
     "name": "stdout",
     "output_type": "stream",
     "text": [
      "Bersuara\n",
      "Guk\n"
     ]
    }
   ],
   "source": [
    "class Mamalia:\n",
    "    def __init__(self, nama):\n",
    "        self.__nama = nama\n",
    "    def interaksi(self):\n",
    "        print('Bersuara')\n",
    "\n",
    "class Anjing(Mamalia):\n",
    "    def interaksi(self):\n",
    "        print('Guk')\n",
    "\n",
    "class Manusia(Mamalia):\n",
    "    pass\n",
    "\n",
    "blacky = Anjing('Blacky')\n",
    "toni = Manusia('Toni')\n",
    "toni.interaksi()\n",
    "blacky.interaksi()\n"
   ]
  },
  {
   "cell_type": "markdown",
   "metadata": {},
   "source": [
    "## Polymorphism pada python - Part 1\n",
    "Selain dapat mendefinisikan ulang nilai dari atribut yang diwarisi oleh parent class seperti pada contoh di atas, aku juga dapat juga dapat mendefinisikan ulang fungsi yang telah diwarisi oleh parent class.\n",
    "Saat aku mendefinisikan kembali fungsi yang telah diwarisi oleh parent class, secara tidak langsung aku telah menerapkan salah satu mekanisme yang secara khusus pada paradigma OO disebut dengan istilah polymorphism.\n",
    "\n",
    "### Tugas:\n",
    "- Aku menerapkan Polymorphism dengan mengetik potongan kode berikut pada Live Code Editor\n",
    "Aku melakukan pemanggilan konstruktur class Karyawan, menerapkan polymorphism dengan mendefinisikan kembali fungsi lembur() pada AnalisData, dan menambahkan 10% tambahan pendapatan pada class AnalisData\n",
    "- fungsi lembur() pada objek aksara sebagai bagian dari class AnalisData akan menambahkan total_pendapatan milik objek sebesar 850000 (10% dari pendapatannya) mengikuti definisi dari fungsi lembur() pada class AnalisData\n",
    "akan menghasilkan output: 9350000.\n"
   ]
  },
  {
   "cell_type": "code",
   "execution_count": 8,
   "metadata": {},
   "outputs": [
    {
     "name": "stdout",
     "output_type": "stream",
     "text": [
      "9350000\n"
     ]
    }
   ],
   "source": [
    "# Definisikan class Karyawan (sebagai base class)\n",
    "class Karyawan: \n",
    "    nama_perusahaan = 'ABC' \n",
    "    insentif_lembur = 250000\n",
    "    def __init__(self, nama, usia, pendapatan): \n",
    "        self.nama = nama\n",
    "        self.usia = usia \n",
    "        self.pendapatan = pendapatan \n",
    "        self.pendapatan_tambahan = 0\n",
    "    def lembur(self):\n",
    "        self.pendapatan_tambahan += self.insentif_lembur \n",
    "    def tambahan_proyek(self, insentif_proyek):\n",
    "        self.pendapatan_tambahan += insentif_proyek \n",
    "    def total_pendapatan(self):\n",
    "        return self.pendapatan + self.pendapatan_tambahan\n",
    "# Buat class turunan (sebagai inherit class) dari class karyawan, \n",
    "# yaitu class AnalisData\n",
    "class AnalisData(Karyawan):\n",
    "    def __init__(self, nama, usia, pendapatan):\n",
    "# melakukan pemanggilan konstruktur class Karyawan \n",
    "        super().__init__(nama, usia, pendapatan)\n",
    "# menerapkan polymorphism dengan mendefinisikan kembali fungsi \n",
    "# lembur() pada class AnalisData \n",
    "    def lembur(self):\n",
    "# pendapatan tambahan pada class AnalisData sebesar\n",
    "# 10 % dari pendapatannya.\n",
    "        self.pendapatan_tambahan += int(self.pendapatan * 0.1)\n",
    "# Buat objek karyawan yang bekerja sebagai AnalisData\n",
    "aksara = AnalisData('Aksara', 25, 8500000)\n",
    "aksara.lembur()\n",
    "print(aksara.total_pendapatan())\n"
   ]
  },
  {
   "cell_type": "markdown",
   "metadata": {},
   "source": [
    "## Polymorphism pada Python - Part 2\n",
    "Pada konsep inheritance, melalui fungsi super(), selain dapat mengakses constructor milik parent class, child class juga dapat mengakses atribut/fungsi yang dimiliki oleh parent class.\n",
    "Tugas:\n",
    "Aku menggunakan potongan kode berikut dan mengetiknya pada Live Code Editor:\n",
    "akan menghasilkan output: 9175000\n"
   ]
  },
  {
   "cell_type": "code",
   "execution_count": 9,
   "metadata": {},
   "outputs": [
    {
     "name": "stdout",
     "output_type": "stream",
     "text": [
      "9175000\n"
     ]
    }
   ],
   "source": [
    "# Definisikan class Karyawan (sebagai base class)\n",
    "class Karyawan: \n",
    "    nama_perusahaan = 'ABC' \n",
    "    insentif_lembur = 250000\n",
    "    def __init__(self, nama, usia, pendapatan): \n",
    "        self.nama = nama\n",
    "        self.usia = usia \n",
    "        self.pendapatan = pendapatan \n",
    "        self.pendapatan_tambahan = 0\n",
    "    def lembur(self):\n",
    "        self.pendapatan_tambahan += self.insentif_lembur \n",
    "    def tambahan_proyek(self, insentif_proyek):\n",
    "        self.pendapatan_tambahan += insentif_proyek \n",
    "    def total_pendapatan(self):\n",
    "        return self.pendapatan + self.pendapatan_tambahan\n",
    "# Buat class turunan (sebagai inherit class) dari class karyawan, \n",
    "# yaitu class AnalisData\n",
    "class AnalisData(Karyawan):\n",
    "    def __init__(self, nama, usia, pendapatan): \n",
    "        super().__init__ (nama, usia, pendapatan)\n",
    "# mendefinisikan kembali fungsi lembur() pada class AnalisData \n",
    "    def lembur(self):\n",
    "# memanggil fungsi lembur pada class Karyawan \n",
    "        super().lembur()\n",
    "# pendapatan tambahan pada class AnalisData sebesar\n",
    "# 5 % dari pendapatannya.\n",
    "        self.pendapatan_tambahan += int(self.pendapatan * 0.05)\n",
    "# Buat objek karyawan yang bekerja sebagai AnalisData\n",
    "aksara = AnalisData('Aksara', 25, 8500000)\n",
    "aksara.lembur()\n",
    "print(aksara.total_pendapatan())"
   ]
  },
  {
   "cell_type": "markdown",
   "metadata": {},
   "source": [
    "## TUGAS PRAKTEK\n",
    "aku mulai memasukkan informasi yang cukup untuk membuat class Tenaga Lepas, berisi nama, usia, dan pendapatan selama bergabung di sebuah proyek. Lalu, apa lagi ya?\n",
    "“Nja, mau nanya. Kalau karyawan lepas, insentif tambahannya dari uang lembur juga?”\n",
    "“Engga, Aksara. Di kantor kita, karyawan lepas dapat insentif dari proyek yang dikerjakan. Kalau hasilnya sukses bisa dapat 1% dari nilai proyek.”\n",
    "“Oke,” aku mencatat itu sebagai penghitungan akhir dan mulai menulis kodenya.\n"
   ]
  },
  {
   "cell_type": "code",
   "execution_count": 14,
   "metadata": {},
   "outputs": [
    {
     "name": "stdout",
     "output_type": "stream",
     "text": [
      "8500000\n"
     ]
    }
   ],
   "source": [
    "# Definisikan class Karyawan sebagai parent class\n",
    "class Karyawan:\n",
    "    def __init__(self, nama, usia, pendapatan, insentif_lembur):\n",
    "        self.nama = nama\n",
    "        self.usia = usia\n",
    "        self.pendapatan = pendapatan\n",
    "        self.pendapatan_tambahan = 0\n",
    "        self.insentif_lembur = insentif_lembur\n",
    "    def lembur(self):\n",
    "        self.pendapatan_tambahan += self.insentif_lembur\n",
    "    def tambahan_proyek(self,jumlah_tambahan):\n",
    "        self.pendapatan_tambahan += jumlah_tambahan\n",
    "    def total_pendapatan(self):\n",
    "        return self.pendapatan + self.pendapatan_tambahan\n",
    "# Definisikan class TenagaLepas sebagai child class dari\n",
    "# class Karyawan\n",
    "class TenagaLepas(Karyawan):\n",
    "    def __init__(self, nama, usia, pendapatan):\n",
    "        super().__init__(nama, usia, pendapatan, 0)\n",
    "    def tambahan_proyek(self, nilai_proyek):\n",
    "        self.pendapatan_tambahan += nilai_proyek * 0.01\n",
    "# Definisikan class AnalisData sebagai child class dari\n",
    "# class Karyawan\n",
    "class AnalisData(Karyawan):\n",
    "    pass\n",
    "# Definisikan class IlmuwanData sebagai child class dari\n",
    "# class Karyawan\n",
    "class IlmuwanData(Karyawan):\n",
    "    def tambahan_proyek(self, nilai_proyek):\n",
    "        self.pendapatan_tambahan += 0.1 * nilai_proyek\n",
    "# Definisikan class PembersihData sebagai child class dari\n",
    "# class TenagaLepas\n",
    "class PembersihData(TenagaLepas):\n",
    "    pass\n",
    "# Definisikan class DokumenterTeknis sebagai child class dari\n",
    "# class TenagaLepas\n",
    "class DokumenterTeknis(TenagaLepas):\n",
    "    def tambahan_proyek(self, jumlah_tambahan):\n",
    "        return\n",
    "aksara = TenagaLepas('Aksara', 25, 8500000)\n",
    "aksara.lembur()\n",
    "print(aksara.total_pendapatan())"
   ]
  },
  {
   "cell_type": "markdown",
   "metadata": {},
   "source": [
    "# Overloading\n",
    "Pada bahasa pemrograman lain yang mendukung paradigma OO seperti C# ataupun Java, polymorphism juga dapat diterapkan melalui sebuah fitur yang dikenal dengan istilah method overloading.\n",
    "Metode overloading mengizinkan sebuah class untuk memiliki sekumpulan fungsi dengan nama yang sama dan parameter yang berbeda. Berkaitan dengan hal ini, Python tidak mengizinkan pendeklarasian fungsi (baik pada class ataupun tidak) dengan nama yang sama.\n",
    "Untuk mengimplementasikan method overloading pada Python, aku dapat menggunakan sebuah teknik yang dikenal dengan function default parameters.\n",
    "\n",
    "# Tugas Praktek\n",
    "Perusahaan ABC memiliki 3 orang karyawan baru seperti yang diberikan dalam tabel berikut:\n",
    "- Nama\tUsia\tPendapatan\n",
    "- Budi\t?\t?\n",
    "- Didi\t25\t?\n",
    "- Hadi\t?\t8000000\n",
    "Aku di minta untuk mengisi tabel, dengan detail berikut:\n",
    "- Budi berusia = 21 dan pendapatan = 5000000\n",
    "- Didi berusia 25 dan pendapatan = 5000000\n",
    "- Hadi berusia 21 dan pendapatan = 8000000\n"
   ]
  },
  {
   "cell_type": "code",
   "execution_count": 15,
   "metadata": {},
   "outputs": [
    {
     "name": "stdout",
     "output_type": "stream",
     "text": [
      "Budi\n",
      "21\n",
      "5000000\n",
      "Didi\n",
      "25\n",
      "5000000\n",
      "Hadi\n",
      "21\n",
      "8000000\n"
     ]
    }
   ],
   "source": [
    "class Karyawan:\n",
    "    nama_perusahaan = 'ABC'\n",
    "    insentif_lembur = 250000\n",
    "# usia akan di-set nilainya menjadi 21 saat tidak\n",
    "# dispesifikasikan dan pendapatan akan di-set nilainya\n",
    "# menjadi 5000000 saat tidak dispesifikasikan\n",
    "    def __init__(self, nama, usia=21, pendapatan=5000000):\n",
    "        self.nama = nama\n",
    "        self.usia = usia\n",
    "        self.pendapatan = pendapatan\n",
    "        self.pendapatan_tambahan = 0\n",
    "    def lembur(self):\n",
    "        self.pendapatan_tambahan += self.insentif_lembur\n",
    "    def tambahan_proyek(self, insentif_proyek):\n",
    "        self.pendapatan_tambahan += insentif_proyek\n",
    "    def total_pendapatan(self):\n",
    "        return self.pendapatan + self.pendapatan_tambahan\n",
    "# Karyawan baru pertama yang bernama Budi\n",
    "karyawan_baru1 = Karyawan('Budi')\n",
    "print(karyawan_baru1.nama)\n",
    "print(karyawan_baru1.usia)\n",
    "print(karyawan_baru1.total_pendapatan())\n",
    "# Karyawan baru ke-2 yang bernama Didi, umur 25\n",
    "karyawan_baru2 = Karyawan('Didi', 25)\n",
    "print(karyawan_baru2.nama)\n",
    "print(karyawan_baru2.usia)\n",
    "print(karyawan_baru2.total_pendapatan())\n",
    "# Karyawan baru ke-3 yang bernama Hadi, pendapatan 8000000\n",
    "karyawan_baru3 = Karyawan('Hadi', pendapatan=8000000)\n",
    "print(karyawan_baru3.nama)\n",
    "print(karyawan_baru3.usia)\n",
    "print(karyawan_baru3.total_pendapatan())\n"
   ]
  },
  {
   "cell_type": "markdown",
   "metadata": {},
   "source": [
    "# STUDI KASUS\n",
    "Di perusahaan ini, seorang analis data yang masuk umumnya berusia 21, memiliki pendapatan senilai 6.500.000 dan insentif lembur senilai 100.000. Kemudian, untuk seorang ilmuwan data yang masuk umumnya berusia 25, memiliki pendapatan senilai 12.000.000, dan insentif lembur senilai 150.000. Di sisi lain, untuk tenaga lepas, hanya terdapat pendapatan umum senilai 4000000 untuk pembersih data dan 2500000 untuk dokumenter teknis. \n",
    "Berikut adalah data perusahaan beserta detail karyawan yang bekerja.\n",
    "- Nama Perusahaan: ABC\n",
    "- Alamat                  : Jl. Jendral Sudirman, Blok 11 \n",
    "- Telepon                 : (021) 95812XX\n",
    "\n",
    "###### Nama\tUsia\tPekerjaan\tPendapatan\n",
    "- Ani\t25\tPembersih Data\t-\n",
    "- Budi\t18\tDokumenter Teknis\t-\n",
    "- Cici\t-\tIlmuwan Data\t-\n",
    "- Didi\t32\tIlmuwan Data\t20000000\n",
    "- Efi\t-\tAnalis Data\t-\n",
    "- Febi\t28\tAnalis Data\t12000000\n",
    "###### Note: saat usia/pendapatan kosong maka usia/pendapatan mengikuti standar perusahaan.\n",
    "“Dengan kasus ini, berarti di akhir aku harus mencetak total pengeluaran perusahaan untuk menguji kelancaranku dalam menerapkan OOP dengan Python nih,”\n",
    "\n",
    "### TUGAS\n",
    "- Simulasikan dengan program yang telah dibuat. \n",
    "- Cetak total pengeluaran yang dimiliki perusahaan untuk menguji fungsionalitas konsep dan teknik polymorphism yang diterapkan."
   ]
  },
  {
   "cell_type": "code",
   "execution_count": 30,
   "metadata": {},
   "outputs": [
    {
     "ename": "SyntaxError",
     "evalue": "'return' outside function (<ipython-input-30-e3ab62ab8561>, line 69)",
     "output_type": "error",
     "traceback": [
      "\u001b[1;36m  File \u001b[1;32m\"<ipython-input-30-e3ab62ab8561>\"\u001b[1;36m, line \u001b[1;32m69\u001b[0m\n\u001b[1;33m    return pengeluaran\u001b[0m\n\u001b[1;37m    ^\u001b[0m\n\u001b[1;31mSyntaxError\u001b[0m\u001b[1;31m:\u001b[0m 'return' outside function\n"
     ]
    }
   ],
   "source": [
    "# Definisikan class Karyawan sebagai parent class\n",
    "class Karyawan:\n",
    "    def __init__(self, nama, usia, pendapatan, insentif_lembur):\n",
    "        self.nama = nama\n",
    "        self.usia = usia\n",
    "        self.pendapatan = pendapatan\n",
    "        self.pendapatan_tambahan = 0\n",
    "        self.insentif_lembur = insentif_lembur\n",
    "    def lembur(self):\n",
    "        self.pendapatan_tambahan += self.insentif_lembur\n",
    "    def tambahan_proyek(self,jumlah_tambahan):\n",
    "        self.pendapatan_tambahan += jumlah_tambahan\n",
    "    def total_pendapatan(self):\n",
    "        return self.pendapatan + self.pendapatan_tambahan\n",
    "        \n",
    "# Definisikan class TenagaLepas sebagai child class dari class Karyawan\n",
    "class TenagaLepas(Karyawan):\n",
    "    def __init__(self, nama, usia, pendapatan):\n",
    "        super().__init__(nama, usia, pendapatan, 0)\n",
    "    def tambahan_proyek(self, nilai_proyek):\n",
    "        self.pendapatan_tambahan += nilai_proyek * 0.01\n",
    "      \n",
    "    # Definisikan class AnalisData sebagai child class dari class Karyawan\n",
    "class AnalisData(Karyawan):\n",
    "    def __init__(self, nama, usia = 21, pendapatan = 6500000,insentif_lembur = 100000):\n",
    "        super().__init__(nama, usia, pendapatan, insentif_lembur)\n",
    "      \n",
    "    # Definisikan class IlmuwanData sebagai child class dari class Karyawan\n",
    "class IlmuwanData(Karyawan):\n",
    "    def __init__(self, nama, usia = 25, pendapatan = 12000000,\n",
    "        insentif_lembur = 150000):\n",
    "            super().__init__(nama, usia, pendapatan,insentif_lembur)\n",
    "    def tambahan_proyek(self, nilai_proyek):\n",
    "        self.pendapatan_tambahan += 0.1 * nilai_proyek\n",
    "       \n",
    "       # Definisikan class PembersihData sebagai child class dari class TenagaLepas\n",
    "class PembersihData(TenagaLepas):\n",
    "    def __init__(self, nama, usia, pendapatan = 4000000):\n",
    "        super().__init__(nama, usia, pendapatan)\n",
    "       \n",
    " # Definisikan class DokumenterTeknis sebagai child class dari class TenagaLepas\n",
    "class DokumenterTeknis(TenagaLepas):\n",
    "    def __init__(self, nama, usia, pendapatan = 2500000):\n",
    "        super().__init__(nama, usia, pendapatan)\n",
    "    def tambahan_proyek(self, jumlah_tambahan):\n",
    "         return\n",
    "    \n",
    "# Definisikan class Perusahaan\n",
    "class Perusahaan:\n",
    "    def __init__(self, nama, alamat, nomor_telepon):\n",
    "        self.nama = nama\n",
    "        self.alamat = alamat\n",
    "        self.nomor_telepon = nomor_telepon\n",
    "        self.list_karyawan = []\n",
    "    def aktifkan_karyawan(self, karyawan):\n",
    "        self.list_karyawan.append(karyawan)\n",
    "    def nonaktifkan_karyawan(self, nama_karyawan):\n",
    "        karyawan_nonaktif = None\n",
    "        for karyawan in self.list_karyawan:\n",
    "            if karyawan.nama == nama_karyawan:\n",
    "                karyawan_nonaktif = karyawan\n",
    "            break\n",
    "            if karyawan_nonaktif is not None:\n",
    "                self.list_karyawan.remove(karyawan_nonaktif)\n",
    "    def total_pengeluaran(self):\n",
    "        pengeluaran = 0\n",
    "    for karyawan in self.list_karyawan:\n",
    "        pengeluaran += karyawan.total_pendapatan()\n",
    "        return pengeluaran\n",
    "    def cari_karyawan(self, nama_karyawan):\n",
    "        for karyawan in self.list_karyawan:\n",
    "            if karyawan.nama == nama_karyawan:\n",
    "                return pengeluaran\n",
    "                return none\n",
    "# Create object karyawan sesuai dengan tugasnya masing-masing\n",
    "# seperti yang dinyatakan dalam tabel.\n",
    "ani = PembersihData('Ani', 25)\n",
    "budi = DokumenterTeknis('Budi', 18)\n",
    "cici = IlmuwanData('Cici')\n",
    "didi = IlmuwanData('Didi', 32, 20000000)\n",
    "efi = AnalisData('Efi')\n",
    "febi = AnalisData('Febi', 28, 12000000)  \n",
    "# Create object perusahaan\n",
    "perusahaan = Perusahaan('ABC','Jl. Jendral Sudirman, Blok 11', '(021) 95812XX') \n",
    "# Aktifkan setiap karyawan yang telah didefinisikan\n",
    "perusahaan.aktifkan_karyawan(ani)\n",
    "perusahaan.aktifkan_karyawan(budi)\n",
    "perusahaan.aktifkan_karyawan(cici)\n",
    "perusahaan.aktifkan_karyawan(didi)\n",
    "perusahaan.aktifkan_karyawan(efi)\n",
    "perusahaan.aktifkan_karyawan(febi)\n",
    "# Cetak keseluruhan total pengeluaran perusahaan\n",
    "print(perusahaan.total_pengeluaran())\n"
   ]
  },
  {
   "cell_type": "markdown",
   "metadata": {},
   "source": [
    "## Hasil Belajarku\n",
    "Wah senangnya! Aku telah berhasil menyelesaikan rangkaian pelajaran Python for Data Professional Beginner.\n",
    "Dari materi yang telah aku pelajari dan praktekkan, aku telah mempelajari:\n",
    "•\tKonsep Object Oriented Programming (OOP) pada Python.\n",
    "•\tTeknik Class dan Objects, serta Class Behavior pada Python.\n",
    "•\tTeknik Encapsulation dan Inheritance dalam pemograman OOP dengan Python.\n",
    "•\tTeknik Polymorphism dan teknik Overloading dalam pemograman OOP pada Python.\n",
    "•\tTeknik membuat program OOP pada Python untuk kasus bisnis sederhana.\n"
   ]
  },
  {
   "cell_type": "code",
   "execution_count": null,
   "metadata": {},
   "outputs": [],
   "source": []
  }
 ],
 "metadata": {
  "kernelspec": {
   "display_name": "Python 3",
   "language": "python",
   "name": "python3"
  },
  "language_info": {
   "codemirror_mode": {
    "name": "ipython",
    "version": 3
   },
   "file_extension": ".py",
   "mimetype": "text/x-python",
   "name": "python",
   "nbconvert_exporter": "python",
   "pygments_lexer": "ipython3",
   "version": "3.7.0"
  }
 },
 "nbformat": 4,
 "nbformat_minor": 2
}
