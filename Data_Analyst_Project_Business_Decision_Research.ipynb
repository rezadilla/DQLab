{
  "nbformat": 4,
  "nbformat_minor": 0,
  "metadata": {
    "colab": {
      "name": "Data Analyst Project Business Decision Research.ipynb",
      "provenance": [],
      "collapsed_sections": []
    },
    "kernelspec": {
      "display_name": "Python 3",
      "name": "python3"
    }
  },
  "cells": [
    {
      "cell_type": "markdown",
      "metadata": {
        "id": "EBVrqowV2bXn"
      },
      "source": [
        "## Market Research and Recommendation and Visualization Technique for Business Decision Making \r\n",
        "\r\n",
        "DQLab sport center adalah toko yang menjual berbagai kebutuhan olahraga seperti Jaket, Baju, Tas, dan Sepatu. Toko ini mulai berjualan sejak tahun 2013, sehingga sudah memiliki pelanggan tetap sejak lama, dan tetap berusaha untuk mendapatkan pelanggan baru sampai saat ini.\r\n",
        "Di awal tahun 2019,   manajer toko tersebut merekrut junior DA untuk membantu  memecahkan masalah yang ada di tokonya, yaitu menurunnya pelanggan yang membeli kembali ke tokonya.  Junior DA tersebut pun diberi kepercayaan mengolah data transaksi toko tersebut. Manajer toko mendefinisikan bahwa customer termasuk sudah bukan disebut pelanggan lagi (churn) ketika dia sudah tidak bertransaksi ke tokonya lagi sampai dengan 6 bulan terakhir dari update data terakhir yang tersedia.  \r\n",
        "Manajer toko pun memberikan data transaksi dari tahun 2013 sampai dengan 2019 dalam bentuk csv (comma separated value) dengan data_retail.csv dengan jumlah baris 100.000 baris data.\r\n"
      ]
    },
    {
      "cell_type": "markdown",
      "metadata": {
        "id": "95qEKL1O3SDu"
      },
      "source": [
        "## Hal yang akan dilakukan\r\n",
        "1.\tData preparation test\r\n",
        "- Importing data: Melakukan import data_retail.csv ke python environment.\r\n",
        "- Cleansing data: Melakukan pembersihan dan modifikasi data sehingga siap digunakan untuk analisis lebih lanjut.\r\n",
        "2.\tData visualization test: Mendapatkan insight dari hasil visualisasi yang telah dibuat.\r\n",
        "3.\tBasic stats method test: Mendapatkan insight dari model dan evaluasi model yang sudah dibuat dan diuji.\r\n"
      ]
    },
    {
      "cell_type": "code",
      "metadata": {
        "id": "iZe1zXYm2xNM"
      },
      "source": [
        "#mengimport library\r\n",
        "import pandas as pd\r\n",
        "import matplotlib.pyplot as plt  \r\n",
        "import numpy as np"
      ],
      "execution_count": 6,
      "outputs": []
    },
    {
      "cell_type": "markdown",
      "metadata": {
        "id": "9lyGEqPC3mNL"
      },
      "source": [
        "## Importing Data dan Inspection\r\n",
        "Importlah dataset dari https://dqlab-dataset.s3-ap-southeast-1.amazonaws.com/data_retail.csv dan kemudian inspeksilah dataset tersebut dengan\r\n",
        "1.\tmencetak lima data teratas saja,\r\n",
        "2.\tmencetak info dataset.\r\n"
      ]
    },
    {
      "cell_type": "code",
      "metadata": {
        "colab": {
          "base_uri": "https://localhost:8080/"
        },
        "id": "0rTR0L3rzx21",
        "outputId": "3e0c48bd-b9a3-4078-d11e-215d9cf728ca"
      },
      "source": [
        "# Download dataset winequality_red.csv di DQLab\r\n",
        "!wget -O data_retail.csv https://dqlab-dataset.s3-ap-southeast-1.amazonaws.com/data_retail.csv "
      ],
      "execution_count": 7,
      "outputs": [
        {
          "output_type": "stream",
          "text": [
            "--2021-01-11 05:11:51--  https://dqlab-dataset.s3-ap-southeast-1.amazonaws.com/data_retail.csv\n",
            "Resolving dqlab-dataset.s3-ap-southeast-1.amazonaws.com (dqlab-dataset.s3-ap-southeast-1.amazonaws.com)... 52.219.36.227\n",
            "Connecting to dqlab-dataset.s3-ap-southeast-1.amazonaws.com (dqlab-dataset.s3-ap-southeast-1.amazonaws.com)|52.219.36.227|:443... connected.\n",
            "HTTP request sent, awaiting response... 200 OK\n",
            "Length: 6324421 (6.0M) [text/csv]\n",
            "Saving to: ‘data_retail.csv’\n",
            "\n",
            "data_retail.csv     100%[===================>]   6.03M  4.56MB/s    in 1.3s    \n",
            "\n",
            "2021-01-11 05:11:53 (4.56 MB/s) - ‘data_retail.csv’ saved [6324421/6324421]\n",
            "\n"
          ],
          "name": "stdout"
        }
      ]
    },
    {
      "cell_type": "code",
      "metadata": {
        "colab": {
          "base_uri": "https://localhost:8080/",
          "height": 204
        },
        "id": "jC-J67tc0huX",
        "outputId": "e4f8525f-2111-40f0-8f94-0737bff3154f"
      },
      "source": [
        "# Load dataset\r\n",
        "df = pd.read_csv('data_retail.csv', delimiter=';')\r\n",
        "df.head()"
      ],
      "execution_count": 8,
      "outputs": [
        {
          "output_type": "execute_result",
          "data": {
            "text/html": [
              "<div>\n",
              "<style scoped>\n",
              "    .dataframe tbody tr th:only-of-type {\n",
              "        vertical-align: middle;\n",
              "    }\n",
              "\n",
              "    .dataframe tbody tr th {\n",
              "        vertical-align: top;\n",
              "    }\n",
              "\n",
              "    .dataframe thead th {\n",
              "        text-align: right;\n",
              "    }\n",
              "</style>\n",
              "<table border=\"1\" class=\"dataframe\">\n",
              "  <thead>\n",
              "    <tr style=\"text-align: right;\">\n",
              "      <th></th>\n",
              "      <th>no</th>\n",
              "      <th>Row_Num</th>\n",
              "      <th>Customer_ID</th>\n",
              "      <th>Product</th>\n",
              "      <th>First_Transaction</th>\n",
              "      <th>Last_Transaction</th>\n",
              "      <th>Average_Transaction_Amount</th>\n",
              "      <th>Count_Transaction</th>\n",
              "    </tr>\n",
              "  </thead>\n",
              "  <tbody>\n",
              "    <tr>\n",
              "      <th>0</th>\n",
              "      <td>1</td>\n",
              "      <td>1</td>\n",
              "      <td>29531</td>\n",
              "      <td>Jaket</td>\n",
              "      <td>1466304274396</td>\n",
              "      <td>1538718482608</td>\n",
              "      <td>1467681</td>\n",
              "      <td>22</td>\n",
              "    </tr>\n",
              "    <tr>\n",
              "      <th>1</th>\n",
              "      <td>2</td>\n",
              "      <td>2</td>\n",
              "      <td>29531</td>\n",
              "      <td>Sepatu</td>\n",
              "      <td>1406077331494</td>\n",
              "      <td>1545735761270</td>\n",
              "      <td>1269337</td>\n",
              "      <td>41</td>\n",
              "    </tr>\n",
              "    <tr>\n",
              "      <th>2</th>\n",
              "      <td>3</td>\n",
              "      <td>3</td>\n",
              "      <td>141526</td>\n",
              "      <td>Tas</td>\n",
              "      <td>1493349147000</td>\n",
              "      <td>1548322802000</td>\n",
              "      <td>310915</td>\n",
              "      <td>30</td>\n",
              "    </tr>\n",
              "    <tr>\n",
              "      <th>3</th>\n",
              "      <td>4</td>\n",
              "      <td>4</td>\n",
              "      <td>141526</td>\n",
              "      <td>Jaket</td>\n",
              "      <td>1493362372547</td>\n",
              "      <td>1547643603911</td>\n",
              "      <td>722632</td>\n",
              "      <td>27</td>\n",
              "    </tr>\n",
              "    <tr>\n",
              "      <th>4</th>\n",
              "      <td>5</td>\n",
              "      <td>5</td>\n",
              "      <td>37545</td>\n",
              "      <td>Sepatu</td>\n",
              "      <td>1429178498531</td>\n",
              "      <td>1542891221530</td>\n",
              "      <td>1775036</td>\n",
              "      <td>25</td>\n",
              "    </tr>\n",
              "  </tbody>\n",
              "</table>\n",
              "</div>"
            ],
            "text/plain": [
              "   no  Row_Num  ...  Average_Transaction_Amount Count_Transaction\n",
              "0   1        1  ...                     1467681                22\n",
              "1   2        2  ...                     1269337                41\n",
              "2   3        3  ...                      310915                30\n",
              "3   4        4  ...                      722632                27\n",
              "4   5        5  ...                     1775036                25\n",
              "\n",
              "[5 rows x 8 columns]"
            ]
          },
          "metadata": {
            "tags": []
          },
          "execution_count": 8
        }
      ]
    },
    {
      "cell_type": "code",
      "metadata": {
        "colab": {
          "base_uri": "https://localhost:8080/"
        },
        "id": "xeVLGS630x9g",
        "outputId": "c819add6-3836-4992-b222-93c7e0c871ee"
      },
      "source": [
        "print('info dataset: ')\r\n",
        "df.info()"
      ],
      "execution_count": 9,
      "outputs": [
        {
          "output_type": "stream",
          "text": [
            "info dataset: \n",
            "<class 'pandas.core.frame.DataFrame'>\n",
            "RangeIndex: 100000 entries, 0 to 99999\n",
            "Data columns (total 8 columns):\n",
            " #   Column                      Non-Null Count   Dtype \n",
            "---  ------                      --------------   ----- \n",
            " 0   no                          100000 non-null  int64 \n",
            " 1   Row_Num                     100000 non-null  int64 \n",
            " 2   Customer_ID                 100000 non-null  int64 \n",
            " 3   Product                     100000 non-null  object\n",
            " 4   First_Transaction           100000 non-null  int64 \n",
            " 5   Last_Transaction            100000 non-null  int64 \n",
            " 6   Average_Transaction_Amount  100000 non-null  int64 \n",
            " 7   Count_Transaction           100000 non-null  int64 \n",
            "dtypes: int64(7), object(1)\n",
            "memory usage: 6.1+ MB\n"
          ],
          "name": "stdout"
        }
      ]
    },
    {
      "cell_type": "markdown",
      "metadata": {
        "id": "Motn-oUs30nG"
      },
      "source": [
        "## Data Cleansing\r\n",
        "Dua kolom yang menunjukkan terjadinya transaksi tidak bertipe datetime, maka ubahlah kedua kolom tersebut ke tipe data datetime. Kemudian cetaklah kembali 5 data teratas dari dataframe df dan juga tipe data masing-masing kolomnya.\r\n"
      ]
    },
    {
      "cell_type": "code",
      "metadata": {
        "colab": {
          "base_uri": "https://localhost:8080/"
        },
        "id": "sHm-3pTw3HCQ",
        "outputId": "cdc37a32-375d-4a5d-b9b5-9c1c7010737b"
      },
      "source": [
        "# Kolom First_Transaction\r\n",
        "df['First_Transaction'] = pd.to_datetime(df['First_Transaction']/1000, unit='s', origin='1970-01-01')\r\n",
        "\r\n",
        "# Kolom Last_Transaction\r\n",
        "df['Last_Transaction'] = pd.to_datetime(df['Last_Transaction']/1000, unit='s', origin='1970-01-01')\r\n",
        "print('Lima data teratas:')\r\n",
        "print(df.head())\r\n",
        "print('\\nInfo dataset:')\r\n",
        "print(df.info())"
      ],
      "execution_count": 10,
      "outputs": [
        {
          "output_type": "stream",
          "text": [
            "Lima data teratas:\n",
            "   no  Row_Num  ...  Average_Transaction_Amount Count_Transaction\n",
            "0   1        1  ...                     1467681                22\n",
            "1   2        2  ...                     1269337                41\n",
            "2   3        3  ...                      310915                30\n",
            "3   4        4  ...                      722632                27\n",
            "4   5        5  ...                     1775036                25\n",
            "\n",
            "[5 rows x 8 columns]\n",
            "\n",
            "Info dataset:\n",
            "<class 'pandas.core.frame.DataFrame'>\n",
            "RangeIndex: 100000 entries, 0 to 99999\n",
            "Data columns (total 8 columns):\n",
            " #   Column                      Non-Null Count   Dtype         \n",
            "---  ------                      --------------   -----         \n",
            " 0   no                          100000 non-null  int64         \n",
            " 1   Row_Num                     100000 non-null  int64         \n",
            " 2   Customer_ID                 100000 non-null  int64         \n",
            " 3   Product                     100000 non-null  object        \n",
            " 4   First_Transaction           100000 non-null  datetime64[ns]\n",
            " 5   Last_Transaction            100000 non-null  datetime64[ns]\n",
            " 6   Average_Transaction_Amount  100000 non-null  int64         \n",
            " 7   Count_Transaction           100000 non-null  int64         \n",
            "dtypes: datetime64[ns](2), int64(5), object(1)\n",
            "memory usage: 6.1+ MB\n",
            "None\n"
          ],
          "name": "stdout"
        }
      ]
    },
    {
      "cell_type": "code",
      "metadata": {
        "colab": {
          "base_uri": "https://localhost:8080/"
        },
        "id": "jWpMQ1sr4pIg",
        "outputId": "64bec5e9-469f-4653-a982-b32049af44cd"
      },
      "source": [
        "print(df)"
      ],
      "execution_count": 11,
      "outputs": [
        {
          "output_type": "stream",
          "text": [
            "           no  Row_Num  ...  Average_Transaction_Amount Count_Transaction\n",
            "0           1        1  ...                     1467681                22\n",
            "1           2        2  ...                     1269337                41\n",
            "2           3        3  ...                      310915                30\n",
            "3           4        4  ...                      722632                27\n",
            "4           5        5  ...                     1775036                25\n",
            "...       ...      ...  ...                         ...               ...\n",
            "99995   99996    99996  ...                      298662                 1\n",
            "99996   99997    99997  ...                      349556                 1\n",
            "99997   99998    99998  ...                      598013                 1\n",
            "99998   99999    99999  ...                     1208591                 1\n",
            "99999  100000   100000  ...                      486710                 1\n",
            "\n",
            "[100000 rows x 8 columns]\n"
          ],
          "name": "stdout"
        }
      ]
    },
    {
      "cell_type": "code",
      "metadata": {
        "colab": {
          "base_uri": "https://localhost:8080/",
          "height": 204
        },
        "id": "uUM0QRbr5tKW",
        "outputId": "85d31f58-f826-4d57-b567-66561e2b1b82"
      },
      "source": [
        "df.head()"
      ],
      "execution_count": 12,
      "outputs": [
        {
          "output_type": "execute_result",
          "data": {
            "text/html": [
              "<div>\n",
              "<style scoped>\n",
              "    .dataframe tbody tr th:only-of-type {\n",
              "        vertical-align: middle;\n",
              "    }\n",
              "\n",
              "    .dataframe tbody tr th {\n",
              "        vertical-align: top;\n",
              "    }\n",
              "\n",
              "    .dataframe thead th {\n",
              "        text-align: right;\n",
              "    }\n",
              "</style>\n",
              "<table border=\"1\" class=\"dataframe\">\n",
              "  <thead>\n",
              "    <tr style=\"text-align: right;\">\n",
              "      <th></th>\n",
              "      <th>no</th>\n",
              "      <th>Row_Num</th>\n",
              "      <th>Customer_ID</th>\n",
              "      <th>Product</th>\n",
              "      <th>First_Transaction</th>\n",
              "      <th>Last_Transaction</th>\n",
              "      <th>Average_Transaction_Amount</th>\n",
              "      <th>Count_Transaction</th>\n",
              "    </tr>\n",
              "  </thead>\n",
              "  <tbody>\n",
              "    <tr>\n",
              "      <th>0</th>\n",
              "      <td>1</td>\n",
              "      <td>1</td>\n",
              "      <td>29531</td>\n",
              "      <td>Jaket</td>\n",
              "      <td>2016-06-19 02:44:34.395999908</td>\n",
              "      <td>2018-10-05 05:48:02.608000040</td>\n",
              "      <td>1467681</td>\n",
              "      <td>22</td>\n",
              "    </tr>\n",
              "    <tr>\n",
              "      <th>1</th>\n",
              "      <td>2</td>\n",
              "      <td>2</td>\n",
              "      <td>29531</td>\n",
              "      <td>Sepatu</td>\n",
              "      <td>2014-07-23 01:02:11.493999958</td>\n",
              "      <td>2018-12-25 11:02:41.269999981</td>\n",
              "      <td>1269337</td>\n",
              "      <td>41</td>\n",
              "    </tr>\n",
              "    <tr>\n",
              "      <th>2</th>\n",
              "      <td>3</td>\n",
              "      <td>3</td>\n",
              "      <td>141526</td>\n",
              "      <td>Tas</td>\n",
              "      <td>2017-04-28 03:12:27.000000000</td>\n",
              "      <td>2019-01-24 09:40:02.000000000</td>\n",
              "      <td>310915</td>\n",
              "      <td>30</td>\n",
              "    </tr>\n",
              "    <tr>\n",
              "      <th>3</th>\n",
              "      <td>4</td>\n",
              "      <td>4</td>\n",
              "      <td>141526</td>\n",
              "      <td>Jaket</td>\n",
              "      <td>2017-04-28 06:52:52.546999931</td>\n",
              "      <td>2019-01-16 13:00:03.911000013</td>\n",
              "      <td>722632</td>\n",
              "      <td>27</td>\n",
              "    </tr>\n",
              "    <tr>\n",
              "      <th>4</th>\n",
              "      <td>5</td>\n",
              "      <td>5</td>\n",
              "      <td>37545</td>\n",
              "      <td>Sepatu</td>\n",
              "      <td>2015-04-16 10:01:38.530999899</td>\n",
              "      <td>2018-11-22 12:53:41.529999970</td>\n",
              "      <td>1775036</td>\n",
              "      <td>25</td>\n",
              "    </tr>\n",
              "  </tbody>\n",
              "</table>\n",
              "</div>"
            ],
            "text/plain": [
              "   no  Row_Num  ...  Average_Transaction_Amount Count_Transaction\n",
              "0   1        1  ...                     1467681                22\n",
              "1   2        2  ...                     1269337                41\n",
              "2   3        3  ...                      310915                30\n",
              "3   4        4  ...                      722632                27\n",
              "4   5        5  ...                     1775036                25\n",
              "\n",
              "[5 rows x 8 columns]"
            ]
          },
          "metadata": {
            "tags": []
          },
          "execution_count": 12
        }
      ]
    },
    {
      "cell_type": "markdown",
      "metadata": {
        "id": "ycodACZY7Oca"
      },
      "source": [
        "## Churn Customers\r\n",
        "Untuk menentukan churn customers sesuai definisi yang telah diberikan, carilah\r\n",
        "1.\ttransaksi paling terakhir kapan dilakukan\r\n",
        "2.\tklasifikasikanlah mana customer yang berstatus churn dan mana yang tidak.\r\n"
      ]
    },
    {
      "cell_type": "code",
      "metadata": {
        "colab": {
          "base_uri": "https://localhost:8080/"
        },
        "id": "wgP73jNJ6b1r",
        "outputId": "71bbc587-91bb-4e2c-e33b-6dcffb7b8b77"
      },
      "source": [
        "# Pengecekan transaksaksi terakhir dalam dataset\r\n",
        "print(max(df['Last_Transaction']))"
      ],
      "execution_count": 13,
      "outputs": [
        {
          "output_type": "stream",
          "text": [
            "2019-02-01 23:57:57.286000013\n"
          ],
          "name": "stdout"
        }
      ]
    },
    {
      "cell_type": "code",
      "metadata": {
        "colab": {
          "base_uri": "https://localhost:8080/"
        },
        "id": "cNr6bQJ77ycT",
        "outputId": "5571726a-3c37-44bb-e516-4f0844da7866"
      },
      "source": [
        "# Klasifikasikan customer yang berstatus churn atau tidak\r\n",
        "df.loc[df['Last_Transaction'] <= '2018-08-01', 'is_churn'] = True\r\n",
        "df.loc[df['Last_Transaction'] > '2018-08-01', 'is_churn'] = False\r\n",
        "print('Lima data teratas:')\r\n",
        "print(df.head())"
      ],
      "execution_count": 14,
      "outputs": [
        {
          "output_type": "stream",
          "text": [
            "Lima data teratas:\n",
            "   no  Row_Num  ...  Count_Transaction is_churn\n",
            "0   1        1  ...                 22    False\n",
            "1   2        2  ...                 41    False\n",
            "2   3        3  ...                 30    False\n",
            "3   4        4  ...                 27    False\n",
            "4   5        5  ...                 25    False\n",
            "\n",
            "[5 rows x 9 columns]\n"
          ],
          "name": "stdout"
        }
      ]
    },
    {
      "cell_type": "code",
      "metadata": {
        "colab": {
          "base_uri": "https://localhost:8080/"
        },
        "id": "-6hJ7lw48DeD",
        "outputId": "d4476051-8b9b-41a6-d04a-04871f5257e3"
      },
      "source": [
        "# Hapus kolom-kolom yang tidak diperlukan\r\n",
        "del df['no']\r\n",
        "del df['Row_Num']\r\n",
        "\r\n",
        "# Cetak lima data teratas\r\n",
        "print(df.head())"
      ],
      "execution_count": 15,
      "outputs": [
        {
          "output_type": "stream",
          "text": [
            "   Customer_ID Product  ... Count_Transaction is_churn\n",
            "0        29531   Jaket  ...                22    False\n",
            "1        29531  Sepatu  ...                41    False\n",
            "2       141526     Tas  ...                30    False\n",
            "3       141526   Jaket  ...                27    False\n",
            "4        37545  Sepatu  ...                25    False\n",
            "\n",
            "[5 rows x 7 columns]\n"
          ],
          "name": "stdout"
        }
      ]
    },
    {
      "cell_type": "markdown",
      "metadata": {
        "id": "q4Ot9iJo8dkG"
      },
      "source": [
        "## Customer acquisition by year\r\n",
        "membuat visualisasi data berupa trend of customer acquisition by year dengan meggunakan bar chart. Untuk itu buatlah feature/kolom tambahan yang merupakan tahun dari First_Transaction dan tahun dari Last_Transaction masing-masingnya dengan nama Year_First_Transaction dan Year_Last_Transaction sebelum melakukan visualisasi.\r\n"
      ]
    },
    {
      "cell_type": "code",
      "metadata": {
        "colab": {
          "base_uri": "https://localhost:8080/",
          "height": 297
        },
        "id": "hytHRe798YEQ",
        "outputId": "fa853811-9aa0-42a6-aa29-41a9a2ee2530"
      },
      "source": [
        "import matplotlib.pyplot as plt\r\n",
        "# Kolom tahun transaksi pertama\r\n",
        "df['Year_First_Transaction'] = df['First_Transaction'].dt.year\r\n",
        "# Kolom tahun transaksi terakhir\r\n",
        "df['Year_Last_Transaction'] = df['Last_Transaction'].dt.year\r\n",
        "\r\n",
        "df_year = df.groupby(['Year_First_Transaction'])['Customer_ID'].count()\r\n",
        "df_year.plot(x='Year_First_Transaction', y='Customer_ID', kind='bar', title='Graph of Customer Acquisition')\r\n",
        "plt.xlabel('Year_First_Transaction')\r\n",
        "plt.ylabel('Num_of_Customer')\r\n",
        "plt.tight_layout()\r\n",
        "plt.show()\r\n"
      ],
      "execution_count": 16,
      "outputs": [
        {
          "output_type": "display_data",
          "data": {
            "image/png": "[encoded data removed]",
            "text/plain": [
              "<Figure size 432x288 with 1 Axes>"
            ]
          },
          "metadata": {
            "tags": [],
            "needs_background": "light"
          }
        }
      ]
    },
    {
      "cell_type": "code",
      "metadata": {
        "colab": {
          "base_uri": "https://localhost:8080/",
          "height": 309
        },
        "id": "FyL_EKg-93ZK",
        "outputId": "9a20fbde-2f14-4d8b-e253-e2dd268bb810"
      },
      "source": [
        "df.head()"
      ],
      "execution_count": 17,
      "outputs": [
        {
          "output_type": "execute_result",
          "data": {
            "text/html": [
              "<div>\n",
              "<style scoped>\n",
              "    .dataframe tbody tr th:only-of-type {\n",
              "        vertical-align: middle;\n",
              "    }\n",
              "\n",
              "    .dataframe tbody tr th {\n",
              "        vertical-align: top;\n",
              "    }\n",
              "\n",
              "    .dataframe thead th {\n",
              "        text-align: right;\n",
              "    }\n",
              "</style>\n",
              "<table border=\"1\" class=\"dataframe\">\n",
              "  <thead>\n",
              "    <tr style=\"text-align: right;\">\n",
              "      <th></th>\n",
              "      <th>Customer_ID</th>\n",
              "      <th>Product</th>\n",
              "      <th>First_Transaction</th>\n",
              "      <th>Last_Transaction</th>\n",
              "      <th>Average_Transaction_Amount</th>\n",
              "      <th>Count_Transaction</th>\n",
              "      <th>is_churn</th>\n",
              "      <th>Year_First_Transaction</th>\n",
              "      <th>Year_Last_Transaction</th>\n",
              "    </tr>\n",
              "  </thead>\n",
              "  <tbody>\n",
              "    <tr>\n",
              "      <th>0</th>\n",
              "      <td>29531</td>\n",
              "      <td>Jaket</td>\n",
              "      <td>2016-06-19 02:44:34.395999908</td>\n",
              "      <td>2018-10-05 05:48:02.608000040</td>\n",
              "      <td>1467681</td>\n",
              "      <td>22</td>\n",
              "      <td>False</td>\n",
              "      <td>2016</td>\n",
              "      <td>2018</td>\n",
              "    </tr>\n",
              "    <tr>\n",
              "      <th>1</th>\n",
              "      <td>29531</td>\n",
              "      <td>Sepatu</td>\n",
              "      <td>2014-07-23 01:02:11.493999958</td>\n",
              "      <td>2018-12-25 11:02:41.269999981</td>\n",
              "      <td>1269337</td>\n",
              "      <td>41</td>\n",
              "      <td>False</td>\n",
              "      <td>2014</td>\n",
              "      <td>2018</td>\n",
              "    </tr>\n",
              "    <tr>\n",
              "      <th>2</th>\n",
              "      <td>141526</td>\n",
              "      <td>Tas</td>\n",
              "      <td>2017-04-28 03:12:27.000000000</td>\n",
              "      <td>2019-01-24 09:40:02.000000000</td>\n",
              "      <td>310915</td>\n",
              "      <td>30</td>\n",
              "      <td>False</td>\n",
              "      <td>2017</td>\n",
              "      <td>2019</td>\n",
              "    </tr>\n",
              "    <tr>\n",
              "      <th>3</th>\n",
              "      <td>141526</td>\n",
              "      <td>Jaket</td>\n",
              "      <td>2017-04-28 06:52:52.546999931</td>\n",
              "      <td>2019-01-16 13:00:03.911000013</td>\n",
              "      <td>722632</td>\n",
              "      <td>27</td>\n",
              "      <td>False</td>\n",
              "      <td>2017</td>\n",
              "      <td>2019</td>\n",
              "    </tr>\n",
              "    <tr>\n",
              "      <th>4</th>\n",
              "      <td>37545</td>\n",
              "      <td>Sepatu</td>\n",
              "      <td>2015-04-16 10:01:38.530999899</td>\n",
              "      <td>2018-11-22 12:53:41.529999970</td>\n",
              "      <td>1775036</td>\n",
              "      <td>25</td>\n",
              "      <td>False</td>\n",
              "      <td>2015</td>\n",
              "      <td>2018</td>\n",
              "    </tr>\n",
              "  </tbody>\n",
              "</table>\n",
              "</div>"
            ],
            "text/plain": [
              "   Customer_ID Product  ... Year_First_Transaction Year_Last_Transaction\n",
              "0        29531   Jaket  ...                   2016                  2018\n",
              "1        29531  Sepatu  ...                   2014                  2018\n",
              "2       141526     Tas  ...                   2017                  2019\n",
              "3       141526   Jaket  ...                   2017                  2019\n",
              "4        37545  Sepatu  ...                   2015                  2018\n",
              "\n",
              "[5 rows x 9 columns]"
            ]
          },
          "metadata": {
            "tags": []
          },
          "execution_count": 17
        }
      ]
    },
    {
      "cell_type": "markdown",
      "metadata": {
        "id": "I38y0_MH-IJy"
      },
      "source": [
        "## Transaction by year\r\n",
        "Visualisasikanlah trend jumlah transaksi per tahunnya\r\n"
      ]
    },
    {
      "cell_type": "code",
      "metadata": {
        "colab": {
          "base_uri": "https://localhost:8080/",
          "height": 297
        },
        "id": "FIL3TWBV9_9E",
        "outputId": "9ba7c801-c0da-4d99-bc71-98153d4b31fd"
      },
      "source": [
        "import matplotlib.pyplot as plt\r\n",
        "\r\n",
        "plt.clf()\r\n",
        "df_year = df.groupby(['Year_First_Transaction'])['Count_Transaction'].sum()\r\n",
        "df_year.plot(x='Year_First_Transaction', y='Count_Transaction', kind='bar', title='Graph of Transaction Customer')\r\n",
        "plt.xlabel('Year_First_Transaction')\r\n",
        "plt.ylabel('Num_of_Transaction')\r\n",
        "plt.tight_layout()\r\n",
        "plt.show()\r\n"
      ],
      "execution_count": 18,
      "outputs": [
        {
          "output_type": "display_data",
          "data": {
            "image/png": "[encoded data removed]",
            "text/plain": [
              "<Figure size 432x288 with 1 Axes>"
            ]
          },
          "metadata": {
            "tags": [],
            "needs_background": "light"
          }
        }
      ]
    },
    {
      "cell_type": "markdown",
      "metadata": {
        "id": "J6xSRNhx-vaf"
      },
      "source": [
        "## Average transaction amount by year\r\n",
        "Dengan menggunakan seaborn pointplot, visualisasikanlah tren dari tahun ke tahun rata-rata jumlah transaksi untuk tiap-tiap produknya\r\n"
      ]
    },
    {
      "cell_type": "code",
      "metadata": {
        "colab": {
          "base_uri": "https://localhost:8080/",
          "height": 297
        },
        "id": "OBS8pGoK-tJX",
        "outputId": "5a4ace72-4a08-4774-e58b-2c7f788efb41"
      },
      "source": [
        "import matplotlib.pyplot as plt\r\n",
        "import seaborn as sns\r\n",
        "plt.clf()\r\n",
        "sns.pointplot(data = df.groupby(['Product', 'Year_First_Transaction']).mean().reset_index(),\r\n",
        "x='Year_First_Transaction',\r\n",
        "y='Average_Transaction_Amount',\r\n",
        "hue='Product')\r\n",
        "plt.tight_layout()\r\n",
        "plt.show()\r\n"
      ],
      "execution_count": 19,
      "outputs": [
        {
          "output_type": "display_data",
          "data": {
            "image/png": "[encoded data removed]",
            "text/plain": [
              "<Figure size 432x288 with 1 Axes>"
            ]
          },
          "metadata": {
            "tags": [],
            "needs_background": "light"
          }
        }
      ]
    },
    {
      "cell_type": "markdown",
      "metadata": {
        "id": "lHOEj34F_EtP"
      },
      "source": [
        "## Proporsi churned customer untuk setiap produk\r\n",
        "Dari sisi churned customer, khususnya untuk melihat seberapa besar proporsi churned customer untuk tiap-tiap produk dapat diketahui insight-nya melalui pie chart. Visualisasikan pie chartnya untuk keempat produk yang dimaksudkan.\r\n"
      ]
    },
    {
      "cell_type": "code",
      "metadata": {
        "colab": {
          "base_uri": "https://localhost:8080/",
          "height": 531
        },
        "id": "ZbOVWxz8-mgO",
        "outputId": "d0607f3e-5d08-4693-f870-547a9b4a8fa9"
      },
      "source": [
        "import matplotlib.pyplot as plt\r\n",
        "\r\n",
        "plt.clf()\r\n",
        "# Melakukan pivot data\r\n",
        "df_piv = df.pivot_table(index='is_churn',\r\n",
        "columns='Product',\r\n",
        "values='Customer_ID',\r\n",
        "aggfunc='count',\r\n",
        "fill_value=0)\r\n",
        "# Mendapatkan Proportion Churn by Product\r\n",
        "plot_product = df_piv.count().sort_values(ascending=False).head(5).index\r\n",
        "# Plot pie chartnya\r\n",
        "df_piv = df_piv.reindex(columns=plot_product)\r\n",
        "df_piv.plot.pie(subplots=True,\r\n",
        "figsize=(10, 7),\r\n",
        "layout=(-1, 2),\r\n",
        "autopct='%1.0f%%',\r\n",
        "title='Proportion Churn by Product')\r\n",
        "plt.tight_layout()\r\n",
        "plt.show()\r\n"
      ],
      "execution_count": 20,
      "outputs": [
        {
          "output_type": "display_data",
          "data": {
            "text/plain": [
              "<Figure size 432x288 with 0 Axes>"
            ]
          },
          "metadata": {
            "tags": []
          }
        },
        {
          "output_type": "display_data",
          "data": {
            "image/png": "[encoded data removed]",
            "text/plain": [
              "<Figure size 720x504 with 4 Axes>"
            ]
          },
          "metadata": {
            "tags": []
          }
        }
      ]
    },
    {
      "cell_type": "markdown",
      "metadata": {
        "id": "lUjF58cq_oyI"
      },
      "source": [
        "## Distribusi kategorisasi count transaction\r\n",
        "Selanjutnya akan melakukan visualisasi dari distribusi kategorisasi count transaction. Kategorisasi ini dilakukan dengan mengelompokkan jumlah transaksi.\r\n",
        "\r\n",
        "\r\n",
        "![Capture.PNG](data:image/png;base64,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)\r\n",
        "\r\n",
        "tambahkan kolom baru untuk kategori ini dengan nama Count_Transaction_Group, maka visualisasikanlah dengan bar chart. \r\n",
        "\r\n",
        "\r\n"
      ]
    },
    {
      "cell_type": "code",
      "metadata": {
        "colab": {
          "base_uri": "https://localhost:8080/",
          "height": 297
        },
        "id": "gzOKpau-_WiS",
        "outputId": "6537d0aa-58b1-494a-d8e0-7c4fdfba2f97"
      },
      "source": [
        "import matplotlib.pyplot as plt\r\n",
        "plt.clf()\r\n",
        "# Kategorisasi jumlah transaksi\r\n",
        "def func(row):\r\n",
        "  if row['Count_Transaction'] == 1:\r\n",
        "    val = '1. 1'\r\n",
        "  elif (row['Count_Transaction'] >1 and row['Count_Transaction'] <= 3):\r\n",
        "    val ='2. 2 - 3'\r\n",
        "  elif (row['Count_Transaction'] >3 and row['Count_Transaction'] <= 6):\r\n",
        "    val ='3. 4 - 6'\r\n",
        "  elif (row['Count_Transaction'] >6 and row['Count_Transaction'] <= 10):\r\n",
        "    val ='4. 7 - 10'\r\n",
        "  else:\r\n",
        "    val ='5. >10'\r\n",
        "  return val\r\n",
        "  \r\n",
        "# Tambahkan kolom baru\r\n",
        "df['Count_Transaction_Group'] = df.apply(func, axis=1)\r\n",
        "df_year = df.groupby(['Count_Transaction_Group'])['Customer_ID'].count()\r\n",
        "df_year.plot(x='Count_Transaction_Group', y='Customer_ID', kind='bar', title='Customer Distribution by Count Transaction Group')\r\n",
        "plt.xlabel('Count_Transaction_Group')\r\n",
        "plt.ylabel('Num_of_Customer')\r\n",
        "plt.tight_layout()\r\n",
        "plt.show()\r\n"
      ],
      "execution_count": 25,
      "outputs": [
        {
          "output_type": "display_data",
          "data": {
            "image/png": "[encoded data removed]",
            "text/plain": [
              "<Figure size 432x288 with 1 Axes>"
            ]
          },
          "metadata": {
            "tags": [],
            "needs_background": "light"
          }
        }
      ]
    },
    {
      "cell_type": "markdown",
      "metadata": {
        "id": "1gB58ifNC41H"
      },
      "source": [
        "## Distribusi kategorisasi average transaction amount\r\n",
        "Selanjutnya, akan melakukan visualisasi dari distribusi kategorisasi average transaction amount. Kategorisasi ini dilakukan dengan mengelompokkan rata-rata besar transaksi seperti yang diperlihatkan oleh tabel berikut:\r\n",
        "\r\n",
        "![Capture1.PNG](data:image/png;base64,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)\r\n",
        "\r\n",
        "Setelah ditambahkan kolom baru untuk kategori ini dengan nama Average_Transaction_Amount_Group, maka visualisasikanlah dengan bar chart. \r\n"
      ]
    },
    {
      "cell_type": "code",
      "metadata": {
        "colab": {
          "base_uri": "https://localhost:8080/",
          "height": 297
        },
        "id": "SJRFO7epDTxq",
        "outputId": "fe8c36d8-840e-47f0-f684-c849c2f92776"
      },
      "source": [
        "import matplotlib.pyplot as plt\r\n",
        "\r\n",
        "plt.clf()\r\n",
        "# Kategorisasi rata-rata besar transaksi\r\n",
        "def f(row):\r\n",
        "  if (row['Average_Transaction_Amount'] >= 100000 and row['Average_Transaction_Amount'] <=200000):\r\n",
        "    val ='1. 100.000 - 250.000'\r\n",
        "  elif (row['Average_Transaction_Amount'] >250000 and row['Average_Transaction_Amount'] <= 500000):\r\n",
        "    val ='2. >250.000 - 500.000'\r\n",
        "  elif (row['Average_Transaction_Amount'] >500000 and row['Average_Transaction_Amount'] <= 750000):\r\n",
        "    val ='3. >500.000 - 750.000'\r\n",
        "  elif (row['Average_Transaction_Amount'] >750000 and row['Average_Transaction_Amount'] <= 1000000):\r\n",
        "    val ='4. >750.000 - 1.000.000'\r\n",
        "  elif (row['Average_Transaction_Amount'] >1000000 and row['Average_Transaction_Amount'] <= 2500000):\r\n",
        "    val ='5. >1.000.000 - 2.500.000'\r\n",
        "  elif (row['Average_Transaction_Amount'] >2500000 and row['Average_Transaction_Amount'] <= 5000000):\r\n",
        "    val ='6. >2.500.000 - 5.000.000'\r\n",
        "  elif (row['Average_Transaction_Amount'] >5000000 and row['Average_Transaction_Amount'] <= 10000000):\r\n",
        "    val ='7. >5.000.000 - 10.000.000'\r\n",
        "  else:\r\n",
        "    val ='8. >10.000.000'\r\n",
        "  return val\r\n",
        "\r\n",
        "# Tambahkan kolom baru\r\n",
        "df['Average_Transaction_Amount_Group'] = df.apply(f, axis=1)\r\n",
        "\r\n",
        "df_year = df.groupby(['Average_Transaction_Amount_Group'])['Customer_ID'].count()\r\n",
        "df_year.plot(x='Average_Transaction_Amount_Group', y='Customer_ID',kind='bar', title='Customer Distribution by Average Transaction Amount Group')\r\n",
        "plt.xlabel('Average_Transaction_Amount_Group')\r\n",
        "plt.ylabel('Num_of_Customer')\r\n",
        "plt.tight_layout()\r\n",
        "plt.show()\r\n"
      ],
      "execution_count": 27,
      "outputs": [
        {
          "output_type": "display_data",
          "data": {
            "image/png": "[encoded data removed]",
            "text/plain": [
              "<Figure size 432x288 with 1 Axes>"
            ]
          },
          "metadata": {
            "tags": [],
            "needs_background": "light"
          }
        }
      ]
    },
    {
      "cell_type": "markdown",
      "metadata": {
        "id": "y9N87DeIEKM8"
      },
      "source": [
        "## Feature Columns dan Target\r\n",
        "Di bagian ini, selanjutnya akan menentukan feature columns dari dataset yang dimiliki, di sini dipilih kolom Average_Transaction_Amount, Count_Transaction, dan Year_Diff. Akan tetapi, kolom terakhir belum ada. Silakan dicreate dahulu kolom Year_Diff ini dan kemudian assign dataset dengan feature columns ini sebagai variabel independent X. \r\n",
        "Untuk target tentunya persoalan costumer dengan kondisi churn atau tidak, assign dataset untuk target ini ke dalam variabe dependent y.\r\n"
      ]
    },
    {
      "cell_type": "code",
      "metadata": {
        "id": "J46musiLENYn"
      },
      "source": [
        "# Feature column: Year_Diff\r\n",
        "df['Year_Diff']=df['Year_Last_Transaction']-df['Year_First_Transaction']\r\n",
        "\r\n",
        "# Nama-nama feature columns\r\n",
        "feature_columns = ['Average_Transaction_Amount', 'Count_Transaction', 'Year_Diff']"
      ],
      "execution_count": 40,
      "outputs": []
    },
    {
      "cell_type": "code",
      "metadata": {
        "colab": {
          "base_uri": "https://localhost:8080/",
          "height": 309
        },
        "id": "cnWJIVKDDyca",
        "outputId": "5f021e26-ff5b-4e64-a01e-d726895c5eb2"
      },
      "source": [
        "df.head()"
      ],
      "execution_count": 29,
      "outputs": [
        {
          "output_type": "execute_result",
          "data": {
            "text/html": [
              "<div>\n",
              "<style scoped>\n",
              "    .dataframe tbody tr th:only-of-type {\n",
              "        vertical-align: middle;\n",
              "    }\n",
              "\n",
              "    .dataframe tbody tr th {\n",
              "        vertical-align: top;\n",
              "    }\n",
              "\n",
              "    .dataframe thead th {\n",
              "        text-align: right;\n",
              "    }\n",
              "</style>\n",
              "<table border=\"1\" class=\"dataframe\">\n",
              "  <thead>\n",
              "    <tr style=\"text-align: right;\">\n",
              "      <th></th>\n",
              "      <th>Customer_ID</th>\n",
              "      <th>Product</th>\n",
              "      <th>First_Transaction</th>\n",
              "      <th>Last_Transaction</th>\n",
              "      <th>Average_Transaction_Amount</th>\n",
              "      <th>Count_Transaction</th>\n",
              "      <th>is_churn</th>\n",
              "      <th>Year_First_Transaction</th>\n",
              "      <th>Year_Last_Transaction</th>\n",
              "      <th>Count_Transaction_Group</th>\n",
              "      <th>Average_Transaction_Amount_Group</th>\n",
              "      <th>Year_Diff</th>\n",
              "    </tr>\n",
              "  </thead>\n",
              "  <tbody>\n",
              "    <tr>\n",
              "      <th>0</th>\n",
              "      <td>29531</td>\n",
              "      <td>Jaket</td>\n",
              "      <td>2016-06-19 02:44:34.395999908</td>\n",
              "      <td>2018-10-05 05:48:02.608000040</td>\n",
              "      <td>1467681</td>\n",
              "      <td>22</td>\n",
              "      <td>False</td>\n",
              "      <td>2016</td>\n",
              "      <td>2018</td>\n",
              "      <td>5. &gt;10</td>\n",
              "      <td>5. &gt;1.000.000 - 2.500.000</td>\n",
              "      <td>2</td>\n",
              "    </tr>\n",
              "    <tr>\n",
              "      <th>1</th>\n",
              "      <td>29531</td>\n",
              "      <td>Sepatu</td>\n",
              "      <td>2014-07-23 01:02:11.493999958</td>\n",
              "      <td>2018-12-25 11:02:41.269999981</td>\n",
              "      <td>1269337</td>\n",
              "      <td>41</td>\n",
              "      <td>False</td>\n",
              "      <td>2014</td>\n",
              "      <td>2018</td>\n",
              "      <td>5. &gt;10</td>\n",
              "      <td>5. &gt;1.000.000 - 2.500.000</td>\n",
              "      <td>4</td>\n",
              "    </tr>\n",
              "    <tr>\n",
              "      <th>2</th>\n",
              "      <td>141526</td>\n",
              "      <td>Tas</td>\n",
              "      <td>2017-04-28 03:12:27.000000000</td>\n",
              "      <td>2019-01-24 09:40:02.000000000</td>\n",
              "      <td>310915</td>\n",
              "      <td>30</td>\n",
              "      <td>False</td>\n",
              "      <td>2017</td>\n",
              "      <td>2019</td>\n",
              "      <td>5. &gt;10</td>\n",
              "      <td>2. &gt;250.000 - 500.000</td>\n",
              "      <td>2</td>\n",
              "    </tr>\n",
              "    <tr>\n",
              "      <th>3</th>\n",
              "      <td>141526</td>\n",
              "      <td>Jaket</td>\n",
              "      <td>2017-04-28 06:52:52.546999931</td>\n",
              "      <td>2019-01-16 13:00:03.911000013</td>\n",
              "      <td>722632</td>\n",
              "      <td>27</td>\n",
              "      <td>False</td>\n",
              "      <td>2017</td>\n",
              "      <td>2019</td>\n",
              "      <td>5. &gt;10</td>\n",
              "      <td>3. &gt;500.000 - 750.000</td>\n",
              "      <td>2</td>\n",
              "    </tr>\n",
              "    <tr>\n",
              "      <th>4</th>\n",
              "      <td>37545</td>\n",
              "      <td>Sepatu</td>\n",
              "      <td>2015-04-16 10:01:38.530999899</td>\n",
              "      <td>2018-11-22 12:53:41.529999970</td>\n",
              "      <td>1775036</td>\n",
              "      <td>25</td>\n",
              "      <td>False</td>\n",
              "      <td>2015</td>\n",
              "      <td>2018</td>\n",
              "      <td>5. &gt;10</td>\n",
              "      <td>5. &gt;1.000.000 - 2.500.000</td>\n",
              "      <td>3</td>\n",
              "    </tr>\n",
              "  </tbody>\n",
              "</table>\n",
              "</div>"
            ],
            "text/plain": [
              "   Customer_ID Product  ... Average_Transaction_Amount_Group Year_Diff\n",
              "0        29531   Jaket  ...        5. >1.000.000 - 2.500.000         2\n",
              "1        29531  Sepatu  ...        5. >1.000.000 - 2.500.000         4\n",
              "2       141526     Tas  ...            2. >250.000 - 500.000         2\n",
              "3       141526   Jaket  ...            3. >500.000 - 750.000         2\n",
              "4        37545  Sepatu  ...        5. >1.000.000 - 2.500.000         3\n",
              "\n",
              "[5 rows x 12 columns]"
            ]
          },
          "metadata": {
            "tags": []
          },
          "execution_count": 29
        }
      ]
    },
    {
      "cell_type": "code",
      "metadata": {
        "id": "VQWAkataMMY-"
      },
      "source": [
        "from sklearn.preprocessing import LabelEncoder\r\n",
        "\r\n",
        "labelencoder = LabelEncoder()\r\n",
        "df['is_churn'] = labelencoder.fit_transform(df['is_churn'])"
      ],
      "execution_count": 49,
      "outputs": []
    },
    {
      "cell_type": "code",
      "metadata": {
        "colab": {
          "base_uri": "https://localhost:8080/",
          "height": 309
        },
        "id": "hC-V7FcGN5of",
        "outputId": "5f680e74-fa6c-4765-91da-bfec6ddaf2a3"
      },
      "source": [
        "df.head()"
      ],
      "execution_count": 50,
      "outputs": [
        {
          "output_type": "execute_result",
          "data": {
            "text/html": [
              "<div>\n",
              "<style scoped>\n",
              "    .dataframe tbody tr th:only-of-type {\n",
              "        vertical-align: middle;\n",
              "    }\n",
              "\n",
              "    .dataframe tbody tr th {\n",
              "        vertical-align: top;\n",
              "    }\n",
              "\n",
              "    .dataframe thead th {\n",
              "        text-align: right;\n",
              "    }\n",
              "</style>\n",
              "<table border=\"1\" class=\"dataframe\">\n",
              "  <thead>\n",
              "    <tr style=\"text-align: right;\">\n",
              "      <th></th>\n",
              "      <th>Customer_ID</th>\n",
              "      <th>Product</th>\n",
              "      <th>First_Transaction</th>\n",
              "      <th>Last_Transaction</th>\n",
              "      <th>Average_Transaction_Amount</th>\n",
              "      <th>Count_Transaction</th>\n",
              "      <th>is_churn</th>\n",
              "      <th>Year_First_Transaction</th>\n",
              "      <th>Year_Last_Transaction</th>\n",
              "      <th>Count_Transaction_Group</th>\n",
              "      <th>Average_Transaction_Amount_Group</th>\n",
              "      <th>Year_Diff</th>\n",
              "    </tr>\n",
              "  </thead>\n",
              "  <tbody>\n",
              "    <tr>\n",
              "      <th>0</th>\n",
              "      <td>29531</td>\n",
              "      <td>Jaket</td>\n",
              "      <td>2016-06-19 02:44:34.395999908</td>\n",
              "      <td>2018-10-05 05:48:02.608000040</td>\n",
              "      <td>1467681</td>\n",
              "      <td>22</td>\n",
              "      <td>0</td>\n",
              "      <td>2016</td>\n",
              "      <td>2018</td>\n",
              "      <td>5. &gt;10</td>\n",
              "      <td>5. &gt;1.000.000 - 2.500.000</td>\n",
              "      <td>2</td>\n",
              "    </tr>\n",
              "    <tr>\n",
              "      <th>1</th>\n",
              "      <td>29531</td>\n",
              "      <td>Sepatu</td>\n",
              "      <td>2014-07-23 01:02:11.493999958</td>\n",
              "      <td>2018-12-25 11:02:41.269999981</td>\n",
              "      <td>1269337</td>\n",
              "      <td>41</td>\n",
              "      <td>0</td>\n",
              "      <td>2014</td>\n",
              "      <td>2018</td>\n",
              "      <td>5. &gt;10</td>\n",
              "      <td>5. &gt;1.000.000 - 2.500.000</td>\n",
              "      <td>4</td>\n",
              "    </tr>\n",
              "    <tr>\n",
              "      <th>2</th>\n",
              "      <td>141526</td>\n",
              "      <td>Tas</td>\n",
              "      <td>2017-04-28 03:12:27.000000000</td>\n",
              "      <td>2019-01-24 09:40:02.000000000</td>\n",
              "      <td>310915</td>\n",
              "      <td>30</td>\n",
              "      <td>0</td>\n",
              "      <td>2017</td>\n",
              "      <td>2019</td>\n",
              "      <td>5. &gt;10</td>\n",
              "      <td>2. &gt;250.000 - 500.000</td>\n",
              "      <td>2</td>\n",
              "    </tr>\n",
              "    <tr>\n",
              "      <th>3</th>\n",
              "      <td>141526</td>\n",
              "      <td>Jaket</td>\n",
              "      <td>2017-04-28 06:52:52.546999931</td>\n",
              "      <td>2019-01-16 13:00:03.911000013</td>\n",
              "      <td>722632</td>\n",
              "      <td>27</td>\n",
              "      <td>0</td>\n",
              "      <td>2017</td>\n",
              "      <td>2019</td>\n",
              "      <td>5. &gt;10</td>\n",
              "      <td>3. &gt;500.000 - 750.000</td>\n",
              "      <td>2</td>\n",
              "    </tr>\n",
              "    <tr>\n",
              "      <th>4</th>\n",
              "      <td>37545</td>\n",
              "      <td>Sepatu</td>\n",
              "      <td>2015-04-16 10:01:38.530999899</td>\n",
              "      <td>2018-11-22 12:53:41.529999970</td>\n",
              "      <td>1775036</td>\n",
              "      <td>25</td>\n",
              "      <td>0</td>\n",
              "      <td>2015</td>\n",
              "      <td>2018</td>\n",
              "      <td>5. &gt;10</td>\n",
              "      <td>5. &gt;1.000.000 - 2.500.000</td>\n",
              "      <td>3</td>\n",
              "    </tr>\n",
              "  </tbody>\n",
              "</table>\n",
              "</div>"
            ],
            "text/plain": [
              "   Customer_ID Product  ... Average_Transaction_Amount_Group Year_Diff\n",
              "0        29531   Jaket  ...        5. >1.000.000 - 2.500.000         2\n",
              "1        29531  Sepatu  ...        5. >1.000.000 - 2.500.000         4\n",
              "2       141526     Tas  ...            2. >250.000 - 500.000         2\n",
              "3       141526   Jaket  ...            3. >500.000 - 750.000         2\n",
              "4        37545  Sepatu  ...        5. >1.000.000 - 2.500.000         3\n",
              "\n",
              "[5 rows x 12 columns]"
            ]
          },
          "metadata": {
            "tags": []
          },
          "execution_count": 50
        }
      ]
    },
    {
      "cell_type": "markdown",
      "metadata": {
        "id": "3kmXP2H7Ee1k"
      },
      "source": [
        "## Split X dan y ke dalam bagian training dan testing\r\n",
        "Setelah variabel independent X dan variabel dependent y selesai dilakukan, maka pecahlah X dan y ke dalam bagian training dan testing. Bagian testing 25% dari jumlah entri data.\r\n"
      ]
    },
    {
      "cell_type": "code",
      "metadata": {
        "id": "_NvcFRDTEhsr"
      },
      "source": [
        "from sklearn.model_selection import train_test_split\r\n",
        "# Features variable\r\n",
        "X = df[feature_columns] \r\n",
        "\r\n",
        "# Target variable\r\n",
        "y = df['is_churn']\r\n",
        "\r\n",
        "X_train, X_test, y_train, y_test = train_test_split(X, y, test_size=0.25, random_state=0)"
      ],
      "execution_count": 51,
      "outputs": []
    },
    {
      "cell_type": "markdown",
      "metadata": {
        "id": "AGEFtOwmEq8r"
      },
      "source": [
        "## Train, predict dan evaluate\r\n",
        "Langkah selanjutnya akan membuat model menggunakan Linear Regression, inisialisasilah model, fit, dan kemudian evaluasi model dengan menggunakan confusion matrix.\r\n"
      ]
    },
    {
      "cell_type": "code",
      "metadata": {
        "colab": {
          "base_uri": "https://localhost:8080/"
        },
        "id": "bcEmqEkoEt4o",
        "outputId": "15a496a5-f384-46c1-f6ce-8ef435941876"
      },
      "source": [
        "from sklearn.linear_model import LogisticRegression\r\n",
        "from sklearn.metrics import confusion_matrix\r\n",
        "\r\n",
        "# Inisiasi model logreg\r\n",
        "logreg = LogisticRegression()\r\n",
        "\r\n",
        "# fit the model with data\r\n",
        "logreg.fit(X_train, y_train)\r\n",
        "\r\n",
        "# Predict model\r\n",
        "y_pred=logreg.predict(X_test)\r\n",
        "\r\n",
        "# Evaluasi model menggunakan confusion matrix\r\n",
        "cnf_matrix = confusion_matrix(y_test, y_pred)\r\n",
        "print('Confusion Matrix:\\n', cnf_matrix)\r\n"
      ],
      "execution_count": 52,
      "outputs": [
        {
          "output_type": "stream",
          "text": [
            "Confusion Matrix:\n",
            " [[    1  8330]\n",
            " [    3 16666]]\n"
          ],
          "name": "stdout"
        }
      ]
    },
    {
      "cell_type": "markdown",
      "metadata": {
        "id": "xPjFTSruOYLg"
      },
      "source": [
        "## Visualisasi Confusion Matrix\r\n",
        "Confusion matrix yang telah dihitung sebelumnya dapat divisualisasikan dengan menggunakan heatmap dari seaborn. Untuk itu tampilkanlah visualisasi dari confusion matrix ini.\r\n"
      ]
    },
    {
      "cell_type": "code",
      "metadata": {
        "colab": {
          "base_uri": "https://localhost:8080/",
          "height": 314
        },
        "id": "h9hFUGDdObn-",
        "outputId": "3e429a63-0852-4822-8661-3c0a49bb2857"
      },
      "source": [
        "# import required modules\r\n",
        "import numpy as np\r\n",
        "import matplotlib.pyplot as plt\r\n",
        "import seaborn as sns\r\n",
        "\r\n",
        "plt.clf()\r\n",
        "# name of classes\r\n",
        "class_names = [0, 1] \r\n",
        "fig, ax = plt.subplots()\r\n",
        "\r\n",
        "tick_marks = np.arange(len(class_names))\r\n",
        "plt.xticks(tick_marks, class_names)\r\n",
        "plt.yticks(tick_marks, class_names)\r\n",
        "\r\n",
        "# create heatmap\r\n",
        "sns.heatmap(pd.DataFrame(cnf_matrix), annot=True, cmap='YlGnBu', fmt='g')\r\n",
        "ax.xaxis.set_label_position('top')\r\n",
        "plt.title('Confusion matrix', y=1.1)\r\n",
        "plt.ylabel('Actual')\r\n",
        "plt.xlabel('Predicted')\r\n",
        "plt.tight_layout()\r\n",
        "plt.show()\r\n"
      ],
      "execution_count": 53,
      "outputs": [
        {
          "output_type": "display_data",
          "data": {
            "text/plain": [
              "<Figure size 432x288 with 0 Axes>"
            ]
          },
          "metadata": {
            "tags": []
          }
        },
        {
          "output_type": "display_data",
          "data": {
            "image/png": "[encoded data removed]",
            "text/plain": [
              "<Figure size 432x288 with 2 Axes>"
            ]
          },
          "metadata": {
            "tags": [],
            "needs_background": "light"
          }
        }
      ]
    },
    {
      "cell_type": "markdown",
      "metadata": {
        "id": "dl7cc8ZbO3EI"
      },
      "source": [
        "## Accuracy, Precision, dan Recall\r\n",
        "Kemudian, hitunglah nilai accuracy, precission dan recall berdasarkan nilai target sesungguhnya dan nilai target hasil prediksi.\r\n"
      ]
    },
    {
      "cell_type": "code",
      "metadata": {
        "colab": {
          "base_uri": "https://localhost:8080/"
        },
        "id": "jvdeK4H2O6EL",
        "outputId": "c26af5cd-d21f-4a87-c27a-88546346ebfc"
      },
      "source": [
        "from sklearn.metrics import accuracy_score, precision_score, recall_score\r\n",
        "\r\n",
        "#Menghitung Accuracy, Precision, dan Recall\r\n",
        "print('Accuracy :', accuracy_score(y_test, y_pred))\r\n",
        "print('Precision:', precision_score(y_test, y_pred, average='micro'))\r\n",
        "print('Recall :', recall_score(y_test, y_pred, average='micro'))\r\n"
      ],
      "execution_count": 54,
      "outputs": [
        {
          "output_type": "stream",
          "text": [
            "Accuracy : 0.66668\n",
            "Precision: 0.66668\n",
            "Recall : 0.66668\n"
          ],
          "name": "stdout"
        }
      ]
    }
  ]
}